{
 "cells": [
  {
   "cell_type": "markdown",
   "metadata": {},
   "source": [
    "In this notebook: <br>\n",
    "- Let's pull the CSV that corelated the NOAA to USGS\n",
    "- pull the CSV of all the USGS gauges that we use currently in rivermaps.co (not future version)\n",
    "- Find any items that are on that list but have a NOAA prediction\n",
    "- Find list of USGS that are in current version, but not correlated with NOAA prediction - currently\n",
    "- add those to the NOAA to USGS CSV so we can expand our prediction reach"
   ]
  },
  {
   "cell_type": "code",
   "execution_count": 18,
   "metadata": {},
   "outputs": [],
   "source": [
    "import pandas as pd\n",
    "from bs4 import BeautifulSoup\n",
    "import os\n",
    "import requests\n",
    "import time"
   ]
  },
  {
   "cell_type": "code",
   "execution_count": 19,
   "metadata": {},
   "outputs": [],
   "source": [
    "import pickle\n",
    "path=\"C:\\Springboard\\Github\\gauge_info\"\n",
    "os.chdir(path)"
   ]
  },
  {
   "cell_type": "code",
   "execution_count": 20,
   "metadata": {},
   "outputs": [
    {
     "data": {
      "text/html": [
       "<div>\n",
       "<style scoped>\n",
       "    .dataframe tbody tr th:only-of-type {\n",
       "        vertical-align: middle;\n",
       "    }\n",
       "\n",
       "    .dataframe tbody tr th {\n",
       "        vertical-align: top;\n",
       "    }\n",
       "\n",
       "    .dataframe thead th {\n",
       "        text-align: right;\n",
       "    }\n",
       "</style>\n",
       "<table border=\"1\" class=\"dataframe\">\n",
       "  <thead>\n",
       "    <tr style=\"text-align: right;\">\n",
       "      <th></th>\n",
       "      <th>NOAA_gauge</th>\n",
       "      <th>River</th>\n",
       "      <th>State</th>\n",
       "      <th>Elevation</th>\n",
       "      <th>Segment</th>\n",
       "      <th>USGS_link</th>\n",
       "      <th>usgs</th>\n",
       "    </tr>\n",
       "  </thead>\n",
       "  <tbody>\n",
       "    <tr>\n",
       "      <th>0</th>\n",
       "      <td>SPRA3</td>\n",
       "      <td>San Pedro</td>\n",
       "      <td>AZ</td>\n",
       "      <td>2820</td>\n",
       "      <td>7</td>\n",
       "      <td>http://waterdata.usgs.gov/az/nwis/uv?09472050</td>\n",
       "      <td>09472050</td>\n",
       "    </tr>\n",
       "    <tr>\n",
       "      <th>1</th>\n",
       "      <td>MAOA3</td>\n",
       "      <td>Acdc</td>\n",
       "      <td>AZ</td>\n",
       "      <td>1230</td>\n",
       "      <td>6</td>\n",
       "      <td>0</td>\n",
       "      <td>0</td>\n",
       "    </tr>\n",
       "    <tr>\n",
       "      <th>2</th>\n",
       "      <td>MHFA3</td>\n",
       "      <td>Acdc</td>\n",
       "      <td>AZ</td>\n",
       "      <td>1225</td>\n",
       "      <td>7</td>\n",
       "      <td>0</td>\n",
       "      <td>0</td>\n",
       "    </tr>\n",
       "    <tr>\n",
       "      <th>3</th>\n",
       "      <td>MSXA3</td>\n",
       "      <td>Acdc</td>\n",
       "      <td>AZ</td>\n",
       "      <td>1220</td>\n",
       "      <td>8</td>\n",
       "      <td>0</td>\n",
       "      <td>0</td>\n",
       "    </tr>\n",
       "    <tr>\n",
       "      <th>4</th>\n",
       "      <td>ACHA3</td>\n",
       "      <td>Agua Caliente Wash</td>\n",
       "      <td>AZ</td>\n",
       "      <td>2588</td>\n",
       "      <td>2</td>\n",
       "      <td>0</td>\n",
       "      <td>0</td>\n",
       "    </tr>\n",
       "  </tbody>\n",
       "</table>\n",
       "</div>"
      ],
      "text/plain": [
       "  NOAA_gauge                River State Elevation Segment  \\\n",
       "0      SPRA3           San Pedro     AZ      2820       7   \n",
       "1      MAOA3                Acdc     AZ      1230       6   \n",
       "2      MHFA3                Acdc     AZ      1225       7   \n",
       "3      MSXA3                Acdc     AZ      1220       8   \n",
       "4      ACHA3  Agua Caliente Wash     AZ      2588       2   \n",
       "\n",
       "                                       USGS_link      usgs  \n",
       "0  http://waterdata.usgs.gov/az/nwis/uv?09472050  09472050  \n",
       "1                                              0         0  \n",
       "2                                              0         0  \n",
       "3                                              0         0  \n",
       "4                                              0         0  "
      ]
     },
     "execution_count": 20,
     "metadata": {},
     "output_type": "execute_result"
    }
   ],
   "source": [
    "# load DF with NOAA and USGS for all gauges in Colorado River Basin that have predictions in NOAA\n",
    "df = pickle.load(open(\"NOAA_USGS.pkl\", \"rb\"))\n",
    "df.head()"
   ]
  },
  {
   "cell_type": "markdown",
   "metadata": {},
   "source": [
    "## Let's pull the CSV that corelated the NOAA to USGS"
   ]
  },
  {
   "cell_type": "code",
   "execution_count": 21,
   "metadata": {},
   "outputs": [
    {
     "data": {
      "text/html": [
       "<div>\n",
       "<style scoped>\n",
       "    .dataframe tbody tr th:only-of-type {\n",
       "        vertical-align: middle;\n",
       "    }\n",
       "\n",
       "    .dataframe tbody tr th {\n",
       "        vertical-align: top;\n",
       "    }\n",
       "\n",
       "    .dataframe thead th {\n",
       "        text-align: right;\n",
       "    }\n",
       "</style>\n",
       "<table border=\"1\" class=\"dataframe\">\n",
       "  <thead>\n",
       "    <tr style=\"text-align: right;\">\n",
       "      <th></th>\n",
       "      <th>USGS</th>\n",
       "      <th>NOAA</th>\n",
       "    </tr>\n",
       "  </thead>\n",
       "  <tbody>\n",
       "    <tr>\n",
       "      <th>0</th>\n",
       "      <td>09067020</td>\n",
       "      <td>EALC2</td>\n",
       "    </tr>\n",
       "    <tr>\n",
       "      <th>1</th>\n",
       "      <td>09057500</td>\n",
       "      <td>BGMC2</td>\n",
       "    </tr>\n",
       "    <tr>\n",
       "      <th>2</th>\n",
       "      <td>09066325</td>\n",
       "      <td>GRVC2</td>\n",
       "    </tr>\n",
       "    <tr>\n",
       "      <th>3</th>\n",
       "      <td>09070000</td>\n",
       "      <td>GPSC2</td>\n",
       "    </tr>\n",
       "    <tr>\n",
       "      <th>4</th>\n",
       "      <td>09070500</td>\n",
       "      <td>EGLC2</td>\n",
       "    </tr>\n",
       "    <tr>\n",
       "      <th>...</th>\n",
       "      <td>...</td>\n",
       "      <td>...</td>\n",
       "    </tr>\n",
       "    <tr>\n",
       "      <th>81</th>\n",
       "      <td>09507980</td>\n",
       "      <td>EVDA3</td>\n",
       "    </tr>\n",
       "    <tr>\n",
       "      <th>82</th>\n",
       "      <td>09507480</td>\n",
       "      <td>FCSA3</td>\n",
       "    </tr>\n",
       "    <tr>\n",
       "      <th>83</th>\n",
       "      <td>09402000</td>\n",
       "      <td>LCCA3</td>\n",
       "    </tr>\n",
       "    <tr>\n",
       "      <th>84</th>\n",
       "      <td>09384000</td>\n",
       "      <td>LCLA3</td>\n",
       "    </tr>\n",
       "    <tr>\n",
       "      <th>85</th>\n",
       "      <td>09504420</td>\n",
       "      <td>OAKA3</td>\n",
       "    </tr>\n",
       "  </tbody>\n",
       "</table>\n",
       "<p>86 rows × 2 columns</p>\n",
       "</div>"
      ],
      "text/plain": [
       "        USGS   NOAA\n",
       "0   09067020  EALC2\n",
       "1   09057500  BGMC2\n",
       "2   09066325  GRVC2\n",
       "3   09070000  GPSC2\n",
       "4   09070500  EGLC2\n",
       "..       ...    ...\n",
       "81  09507980  EVDA3\n",
       "82  09507480  FCSA3\n",
       "83  09402000  LCCA3\n",
       "84  09384000  LCLA3\n",
       "85  09504420  OAKA3\n",
       "\n",
       "[86 rows x 2 columns]"
      ]
     },
     "execution_count": 21,
     "metadata": {},
     "output_type": "execute_result"
    }
   ],
   "source": [
    "# load DF with NOAA and USGS that are CURRENTLY used in future forecast - these were put together manually\n",
    "df2 = pd.read_csv(\"USGS_NOAA_old.csv\")\n",
    "df2"
   ]
  },
  {
   "cell_type": "code",
   "execution_count": 22,
   "metadata": {},
   "outputs": [],
   "source": [
    "# load list from CSV of all USGS (and CO Water) gauges that are currently used\n",
    "import csv\n",
    "USGS_current = []\n",
    "with open('USGS_list.csv', 'r') as f:\n",
    "    readCSV = csv.reader(f, delimiter=',')\n",
    "    for row in readCSV:\n",
    "        for i in row:\n",
    "            USGS_current.append(i)"
   ]
  },
  {
   "cell_type": "code",
   "execution_count": 23,
   "metadata": {},
   "outputs": [
    {
     "data": {
      "text/plain": [
       "270"
      ]
     },
     "execution_count": 23,
     "metadata": {},
     "output_type": "execute_result"
    }
   ],
   "source": [
    "len(USGS_current)"
   ]
  },
  {
   "cell_type": "markdown",
   "metadata": {},
   "source": [
    "Before we proceed, let's review the data that we do have:\n",
    "1. 459 NOAA sites througout the Colorado River Forecast Basin; we have the correponding USGS gauge for just about all of them. These are stored in df\n",
    "2. 270 USGS (and CO Water) measures that are currently being is in the real-time display of water. These gauges are NOT just from the Colorado River Forecast Basin. These are stored in df2\n",
    "3. 86 NOAA prediction sites that were manually entered to corresponded with USGS gauges. There are in the list USGS_current"
   ]
  },
  {
   "cell_type": "markdown",
   "metadata": {},
   "source": [
    "Next, let's find all of the possible USGS sites (from the 270 currently used on the real time page) that have a corresponding NOAA forecast. "
   ]
  },
  {
   "cell_type": "code",
   "execution_count": 24,
   "metadata": {
    "scrolled": true
   },
   "outputs": [
    {
     "data": {
      "text/plain": [
       "111"
      ]
     },
     "execution_count": 24,
     "metadata": {},
     "output_type": "execute_result"
    }
   ],
   "source": [
    "USGS_in_NOAA = []\n",
    "for g in df['usgs']:\n",
    "    if g in USGS_current:\n",
    "        USGS_in_NOAA.append(g)\n",
    "len(USGS_in_NOAA)"
   ]
  },
  {
   "cell_type": "markdown",
   "metadata": {},
   "source": [
    "That means there are 111 gauges that are in both my current list of gauges and the NOAA predictions. Since, this is more than 86 that I am currently using, I expect to gain 25 gauges that could have predictions. Let's see if that checks out"
   ]
  },
  {
   "cell_type": "markdown",
   "metadata": {},
   "source": [
    "## Find the NOAA predictions that are missing in USGS List"
   ]
  },
  {
   "cell_type": "code",
   "execution_count": 29,
   "metadata": {},
   "outputs": [
    {
     "name": "stdout",
     "output_type": "stream",
     "text": [
      "['10092700', '10016900', '09050700', '09497980', '09095500', '09034250', '09180500', '09065100', '09063000', '09242500', '09430500', '09188500', '09152500', '09064000', '10163000', '09497500', '09502000', '09510200', '09050100', '09149500', '09146200', '09506000', '09510000', '09504000', '09508500', '10130500', '10128500', '09505200']\n"
     ]
    }
   ],
   "source": [
    "new_USGS = []\n",
    "old_USGS = df2['USGS'].tolist()\n",
    "for g in USGS_in_NOAA:\n",
    "    if g in old_USGS:\n",
    "        pass\n",
    "    else:\n",
    "        new_USGS.append(g)\n",
    "print(new_USGS)"
   ]
  },
  {
   "cell_type": "code",
   "execution_count": 30,
   "metadata": {},
   "outputs": [
    {
     "data": {
      "text/plain": [
       "28"
      ]
     },
     "execution_count": 30,
     "metadata": {},
     "output_type": "execute_result"
    }
   ],
   "source": [
    "len(new_USGS)"
   ]
  },
  {
   "cell_type": "markdown",
   "metadata": {},
   "source": [
    "This makes sense because I created a few gauges (cataract canyon comes to mind) to reflect some predictions. <br>\n",
    "We will add these gauges to the existing NOAA to USGS dataframe (df2)"
   ]
  },
  {
   "cell_type": "code",
   "execution_count": 45,
   "metadata": {},
   "outputs": [
    {
     "name": "stdout",
     "output_type": "stream",
     "text": [
      "[('10092700', '26    BIUI1\\nName: NOAA_gauge, dtype: object'), ('10016900', '31    EVAW4\\nName: NOAA_gauge, dtype: object'), ('09050700', '54    BLRC2\\nName: NOAA_gauge, dtype: object'), ('09497980', '73    CHRA3\\nName: NOAA_gauge, dtype: object'), ('09095500', '85    CAMC2\\nName: NOAA_gauge, dtype: object'), ('09034250', '86    CAWC2\\nName: NOAA_gauge, dtype: object'), ('09180500', '95    CLRU1\\nName: NOAA_gauge, dtype: object'), ('09065100', '107    CSSC2\\nName: NOAA_gauge, dtype: object'), ('09063000', '130    RERC2\\nName: NOAA_gauge, dtype: object'), ('09242500', '141    ENMC2\\nName: NOAA_gauge, dtype: object'), ('09430500', '171    GILN5\\nName: NOAA_gauge, dtype: object'), ('09188500', '191    WBRW4\\nName: NOAA_gauge, dtype: object'), ('09152500', '194    GJNC2\\nName: NOAA_gauge, dtype: object'), ('09064000', '205    HMSC2\\nName: NOAA_gauge, dtype: object'), ('10163000', '302    PPPU1\\nName: NOAA_gauge, dtype: object'), ('09497500', '323    SLCA3\\nName: NOAA_gauge, dtype: object'), ('09502000', '326    SMDA3\\nName: NOAA_gauge, dtype: object'), ('09510200', '385    SYCA3\\nName: NOAA_gauge, dtype: object'), ('09050100', '391    TCFC2\\nName: NOAA_gauge, dtype: object'), ('09149500', '400    DLAC2\\nName: NOAA_gauge, dtype: object'), ('09146200', '401    UCRC2\\nName: NOAA_gauge, dtype: object'), ('09506000', '406    VCVA3\\nName: NOAA_gauge, dtype: object'), ('09510000', '407    VDBA3\\nName: NOAA_gauge, dtype: object'), ('09504000', '408    VDCA3\\nName: NOAA_gauge, dtype: object'), ('09508500', '411    VDTA3\\nName: NOAA_gauge, dtype: object'), ('10130500', '422    CLLU1\\nName: NOAA_gauge, dtype: object'), ('10128500', '425    OAWU1\\nName: NOAA_gauge, dtype: object'), ('09505200', '433    WBVA3\\nName: NOAA_gauge, dtype: object')]\n"
     ]
    }
   ],
   "source": [
    "new_USGS_NOAA = []\n",
    "for g in new_USGS:\n",
    "    new_USGS_NOAA.append((g, str(df[df['usgs']==g]['NOAA_gauge'])))\n",
    "\n",
    "print(new_USGS_NOAA)"
   ]
  },
  {
   "cell_type": "code",
   "execution_count": null,
   "metadata": {},
   "outputs": [],
   "source": [
    "# and NOAA is NOT in list from USGS to NOAA\n",
    "# then add to the USGS to NOAA list"
   ]
  },
  {
   "cell_type": "markdown",
   "metadata": {},
   "source": [
    "In the future notebook\n",
    "    - go to USGS page\n",
    "    - pull long and lat for that gauge"
   ]
  },
  {
   "cell_type": "code",
   "execution_count": null,
   "metadata": {},
   "outputs": [],
   "source": []
  }
 ],
 "metadata": {
  "kernelspec": {
   "display_name": "Python 3",
   "language": "python",
   "name": "python3"
  },
  "language_info": {
   "codemirror_mode": {
    "name": "ipython",
    "version": 3
   },
   "file_extension": ".py",
   "mimetype": "text/x-python",
   "name": "python",
   "nbconvert_exporter": "python",
   "pygments_lexer": "ipython3",
   "version": "3.7.6"
  }
 },
 "nbformat": 4,
 "nbformat_minor": 4
}
