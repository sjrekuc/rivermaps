{
 "cells": [
  {
   "cell_type": "markdown",
   "metadata": {},
   "source": [
    "In this notebook:\n",
    "    - correlated gauges without predictions (y) to gauges that do have predictions (features)\n",
    "    - use KNN based on lat, long, alt, basin to determine 5-10 closest gages to those that we are looking for\n",
    "    - result should be a dataframe with first column as the y USGS gage and each additional column a feature USGS gage that has a NOAA prediction OR a dictionary with each key pointing to the ten closest gages\n",
    "    - set threshold for how close a gage would need to be to be considered"
   ]
  },
  {
   "cell_type": "code",
   "execution_count": 2,
   "metadata": {},
   "outputs": [],
   "source": [
    "import pandas as pd\n",
    "from bs4 import BeautifulSoup\n",
    "import os\n",
    "import requests\n",
    "import time\n",
    "import re"
   ]
  },
  {
   "cell_type": "markdown",
   "metadata": {},
   "source": [
    "In the next notebook:\n",
    "    - pull USGS data for length that each gage is in operation\n",
    "    - potentially cut time scale of data based on when the flow has never been above a certain threshold\n",
    "    - each of the 125 gages should have a dataframe (list of dataframes)"
   ]
  },
  {
   "cell_type": "markdown",
   "metadata": {},
   "source": [
    "In the notebook after that:\n",
    "    - build 125 models (using Lasso Regression, we believe)\n",
    "    - set threshold for accuracy in predicting flow\n",
    "    - throw out models that do not meet that accuracy\n",
    "    - throw out features in models that are no longer needed\n",
    "    - do other prep for putting models into production (test in real time and have accuracy feedback)"
   ]
  },
  {
   "cell_type": "markdown",
   "metadata": {},
   "source": []
  }
 ],
 "metadata": {
  "kernelspec": {
   "display_name": "Python 3",
   "language": "python",
   "name": "python3"
  },
  "language_info": {
   "codemirror_mode": {
    "name": "ipython",
    "version": 3
   },
   "file_extension": ".py",
   "mimetype": "text/x-python",
   "name": "python",
   "nbconvert_exporter": "python",
   "pygments_lexer": "ipython3",
   "version": "3.7.6"
  }
 },
 "nbformat": 4,
 "nbformat_minor": 4
}
