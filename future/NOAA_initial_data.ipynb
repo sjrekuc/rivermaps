{
 "cells": [
  {
   "cell_type": "code",
   "execution_count": 142,
   "metadata": {},
   "outputs": [],
   "source": [
    "import pandas as pd\n",
    "from bs4 import BeautifulSoup\n",
    "import os"
   ]
  },
  {
   "cell_type": "code",
   "execution_count": 2,
   "metadata": {},
   "outputs": [],
   "source": [
    "link='River List.html'"
   ]
  },
  {
   "cell_type": "code",
   "execution_count": 3,
   "metadata": {},
   "outputs": [],
   "source": [
    "file = open(link, 'r')"
   ]
  },
  {
   "cell_type": "code",
   "execution_count": 4,
   "metadata": {
    "scrolled": false
   },
   "outputs": [],
   "source": [
    "soup = BeautifulSoup(file, 'html.parser')"
   ]
  },
  {
   "cell_type": "code",
   "execution_count": 31,
   "metadata": {},
   "outputs": [
    {
     "name": "stdout",
     "output_type": "stream",
     "text": [
      "[<td class=\"listlw\"><a href=\"https://www.cbrfc.noaa.gov/station/flowplot/flowplot.cgi?SPRA3\">SPRA3</a></td>, <td class=\"listlw\">San Pedro </td>, <td class=\"listlw\"> Redington</td>, <td class=\"listlw\"><a href=\"https://www.cbrfc.noaa.gov/station/flowplot/flowplot.cgi?MHFA3\">MHFA3</a></td>, <td class=\"listlw\">Acdc </td>, <td class=\"listlw\"> 43rd Avenue</td>, <td class=\"listlw\"><a href=\"https://www.cbrfc.noaa.gov/station/flowplot/flowplot.cgi?ACHA3\">ACHA3</a></td>, <td class=\"listlw\">Agua Caliente Wash </td>, <td class=\"listlw\"> Houghton Rd</td>, <td class=\"listlw\"><a href=\"https://www.cbrfc.noaa.gov/station/flowplot/flowplot.cgi?AFMA3\">AFMA3</a></td>, <td class=\"listlw\">Agua Fria </td>, <td class=\"listlw\"> Mayer, Nr</td>, <td class=\"listlw\"><a href=\"https://www.cbrfc.noaa.gov/station/flowplot/flowplot.cgi?AVOA3\">AVOA3</a></td>, <td class=\"listlw\">Agua Fria </td>, <td class=\"listlw\"> Buckeye</td>, <td class=\"listlw\"><a href=\"https://www.cbrfc.noaa.gov/station/flowplot/flowplot.cgi?ATPA3\">ATPA3</a></td>, <td class=\"listlw\">Altar Wash </td>, <td class=\"listlw\"> Three Points, Nr</td>, <td class=\"listlw\"><a href=\"https://www.cbrfc.noaa.gov/station/flowplot/flowplot.cgi?ARFN5\">ARFN5</a></td>, <td class=\"listlw\">Animas </td>, <td class=\"listlw\"> Farmington</td>, <td class=\"listlw\"><a href=\"https://www.cbrfc.noaa.gov/station/flowplot/flowplot.cgi?DGOC2\">DGOC2</a></td>, <td class=\"listlw\">Animas </td>, <td class=\"listlw\"> Durango Pump Plant, Blo</td>, <td class=\"listlw\"><a href=\"https://www.cbrfc.noaa.gov/station/flowplot/flowplot.cgi?ACSC2\">ACSC2</a></td>, <td class=\"listlw\">Anthracite Ck </td>, <td class=\"listlw\"> Mouth, Abv, Somerset, Nr</td>, <td class=\"listlw\"><a href=\"https://www.cbrfc.noaa.gov/station/flowplot/flowplot.cgi?ACJU1\">ACJU1</a></td>, <td class=\"listlw\">Ashley Ck </td>, <td class=\"listlw\"> Jensen, Nr, Union Canal, Blo</td>, <td class=\"listlw\"><a href=\"https://www.cbrfc.noaa.gov/station/flowplot/flowplot.cgi?BABA3\">BABA3</a></td>, <td class=\"listlw\">Babocomari </td>, <td class=\"listlw\"> Tombstone, Nr</td>, <td class=\"listlw\"><a href=\"https://www.cbrfc.noaa.gov/station/flowplot/flowplot.cgi?BEAI1\">BEAI1</a></td>, <td class=\"listlw\">Bear </td>, <td class=\"listlw\"> Alexander, At</td>, <td class=\"listlw\"><a href=\"https://www.cbrfc.noaa.gov/station/flowplot/flowplot.cgi?BERU1\">BERU1</a></td>, <td class=\"listlw\">Bear </td>, <td class=\"listlw\"> Utah</td>, <td class=\"listlw\"><a href=\"https://www.cbrfc.noaa.gov/station/flowplot/flowplot.cgi?BIUI1\">BIUI1</a></td>, <td class=\"listlw\">Bear </td>, <td class=\"listlw\"> Id/ut Stateline</td>, <td class=\"listlw\"><a href=\"https://www.cbrfc.noaa.gov/station/flowplot/flowplot.cgi?BRBW4\">BRBW4</a></td>, <td class=\"listlw\">Bear </td>, <td class=\"listlw\"> Border</td>, <td class=\"listlw\"><a href=\"https://www.cbrfc.noaa.gov/station/flowplot/flowplot.cgi?COKW4\">COKW4</a></td>, <td class=\"listlw\">Bear </td>, <td class=\"listlw\"> Smiths Fork, Blo, Cokeville, Nr</td>, <td class=\"listlw\"><a href=\"https://www.cbrfc.noaa.gov/station/flowplot/flowplot.cgi?PIXW4\">PIXW4</a></td>, <td class=\"listlw\">Bear </td>, <td class=\"listlw\"> Pixley Dam, Blo, Cokeville, Nr</td>, <td class=\"listlw\"><a href=\"https://www.cbrfc.noaa.gov/station/flowplot/flowplot.cgi?BLZI1\">BLZI1</a></td>, <td class=\"listlw\">Bear Lake Outlet Canal Nr Paris</td>, <td class=\"listlw\"></td>, <td class=\"listlw\"><a href=\"https://www.cbrfc.noaa.gov/station/flowplot/flowplot.cgi?BEVU1\">BEVU1</a></td>, <td class=\"listlw\">Beaver </td>, <td class=\"listlw\"> Beaver, Nr</td>, <td class=\"listlw\"><a href=\"https://www.cbrfc.noaa.gov/station/flowplot/flowplot.cgi?BEAA3\">BEAA3</a></td>, <td class=\"listlw\">Beaver Dam Wash </td>, <td class=\"listlw\"> Beaver Dam</td>, <td class=\"listlw\"><a href=\"https://www.cbrfc.noaa.gov/station/flowplot/flowplot.cgi?BCTU1\">BCTU1</a></td>, <td class=\"listlw\">Big Cottonwood Ck </td>, <td class=\"listlw\"> Salt Lake City, Nr</td>, <td class=\"listlw\"><a href=\"https://www.cbrfc.noaa.gov/station/flowplot/flowplot.cgi?BIGU1\">BIGU1</a></td>, <td class=\"listlw\">Big Cottonwood Ck </td>, <td class=\"listlw\"> Cottonwood Ln</td>, <td class=\"listlw\"><a href=\"https://www.cbrfc.noaa.gov/station/flowplot/flowplot.cgi?WKPA3\">WKPA3</a></td>, <td class=\"listlw\">Big Sandy </td>, <td class=\"listlw\"> Wikieup, Nr</td>, <td class=\"listlw\"><a href=\"https://www.cbrfc.noaa.gov/station/flowplot/flowplot.cgi?BWAA3\">BWAA3</a></td>, <td class=\"listlw\">Bill Williams </td>, <td class=\"listlw\"> Alamo Dam, Blo</td>, <td class=\"listlw\"><a href=\"https://www.cbrfc.noaa.gov/station/flowplot/flowplot.cgi?BPPA3\">BPPA3</a></td>, <td class=\"listlw\">Black </td>, <td class=\"listlw\"> Point Of Pines, Nr, Pumping Plant, Blo</td>, <td class=\"listlw\"><a href=\"https://www.cbrfc.noaa.gov/station/flowplot/flowplot.cgi?LTAW4\">LTAW4</a></td>, <td class=\"listlw\">Blacks Fork </td>, <td class=\"listlw\"> Little America, Nr</td>, <td class=\"listlw\"><a href=\"https://www.cbrfc.noaa.gov/station/flowplot/flowplot.cgi?BGMC2\">BGMC2</a></td>, <td class=\"listlw\">Blue </td>, <td class=\"listlw\"> Green Mtn Res, Blo</td>, <td class=\"listlw\"><a href=\"https://www.cbrfc.noaa.gov/station/flowplot/flowplot.cgi?BLRC2\">BLRC2</a></td>, <td class=\"listlw\">Blue </td>, <td class=\"listlw\"> Dillon, Blo</td>, <td class=\"listlw\"><a href=\"https://www.cbrfc.noaa.gov/station/flowplot/flowplot.cgi?BUEC2\">BUEC2</a></td>, <td class=\"listlw\">Blue </td>, <td class=\"listlw\"> Blue River</td>, <td class=\"listlw\"><a href=\"https://www.cbrfc.noaa.gov/station/flowplot/flowplot.cgi?BMWA3\">BMWA3</a></td>, <td class=\"listlw\">Brawley Wash </td>, <td class=\"listlw\"> Milewide Rd, At</td>, <td class=\"listlw\"><a href=\"https://www.cbrfc.noaa.gov/station/flowplot/flowplot.cgi?BLLA3\">BLLA3</a></td>, <td class=\"listlw\">Bullard Wash </td>, <td class=\"listlw\"></td>, <td class=\"listlw\"><a href=\"https://www.cbrfc.noaa.gov/station/flowplot/flowplot.cgi?CCPA3\">CCPA3</a></td>, <td class=\"listlw\">Canada Del Oro </td>, <td class=\"listlw\"> Coronado Camp</td>, <td class=\"listlw\"><a href=\"https://www.cbrfc.noaa.gov/station/flowplot/flowplot.cgi?GRBA3\">GRBA3</a></td>, <td class=\"listlw\">Canada Del Oro </td>, <td class=\"listlw\"> Golder Road Bridge</td>, <td class=\"listlw\"><a href=\"https://www.cbrfc.noaa.gov/station/flowplot/flowplot.cgi?CAWA3\">CAWA3</a></td>, <td class=\"listlw\">Carrizo Wash </td>, <td class=\"listlw\"> St. Johns, Nr</td>, <td class=\"listlw\"><a href=\"https://www.cbrfc.noaa.gov/station/flowplot/flowplot.cgi?MCVA3\">MCVA3</a></td>, <td class=\"listlw\">Cave Ck </td>, <td class=\"listlw\"> Cactus Road</td>, <td class=\"listlw\"><a href=\"https://www.cbrfc.noaa.gov/station/flowplot/flowplot.cgi?CSPA3\">CSPA3</a></td>, <td class=\"listlw\">Centennial Wash </td>, <td class=\"listlw\"> Southern Pacific, Arlington, Nr</td>, <td class=\"listlw\"><a href=\"https://www.cbrfc.noaa.gov/station/flowplot/flowplot.cgi?CIVU1\">CIVU1</a></td>, <td class=\"listlw\">Chalk Ck </td>, <td class=\"listlw\"> Coalville</td>, <td class=\"listlw\"><a href=\"https://www.cbrfc.noaa.gov/station/flowplot/flowplot.cgi?CHWA3\">CHWA3</a></td>, <td class=\"listlw\">Chevelon Ck </td>, <td class=\"listlw\"> Winslow, Nr, Wildcat Cyn, Blo</td>, <td class=\"listlw\"><a href=\"https://www.cbrfc.noaa.gov/station/flowplot/flowplot.cgi?CNEA3\">CNEA3</a></td>, <td class=\"listlw\">Cienega Ck </td>, <td class=\"listlw\"> Sonoita, Nr</td>, <td class=\"listlw\"><a href=\"https://www.cbrfc.noaa.gov/station/flowplot/flowplot.cgi?CCSU1\">CCSU1</a></td>, <td class=\"listlw\">City Ck </td>, <td class=\"listlw\"> Salt Lake City, Nr</td>, <td class=\"listlw\"><a href=\"https://www.cbrfc.noaa.gov/station/flowplot/flowplot.cgi?CCWA3\">CCWA3</a></td>, <td class=\"listlw\">Clear Ck </td>, <td class=\"listlw\"> Winslow, Nr</td>, <td class=\"listlw\"><a href=\"https://www.cbrfc.noaa.gov/station/flowplot/flowplot.cgi?COAU1\">COAU1</a></td>, <td class=\"listlw\">Coal Ck </td>, <td class=\"listlw\"> Cedar City, Nr</td>, <td class=\"listlw\"><a href=\"https://www.cbrfc.noaa.gov/station/flowplot/flowplot.cgi?BAKC2\">BAKC2</a></td>, <td class=\"listlw\">Colorado </td>, <td class=\"listlw\"> Baker Gulch, Blo, Grand Lake, Nr</td>, <td class=\"listlw\"><a href=\"https://www.cbrfc.noaa.gov/station/flowplot/flowplot.cgi?CAWC2\">CAWC2</a></td>, <td class=\"listlw\">Colorado </td>, <td class=\"listlw\"> Granby, Nr, Windy Gap, At</td>, <td class=\"listlw\"><a href=\"https://www.cbrfc.noaa.gov/station/flowplot/flowplot.cgi?CBGC2\">CBGC2</a></td>, <td class=\"listlw\">Colorado </td>, <td class=\"listlw\"> Granby, Nr</td>, <td class=\"listlw\"><a href=\"https://www.cbrfc.noaa.gov/station/flowplot/flowplot.cgi?CDCA3\">CDCA3</a></td>, <td class=\"listlw\">Colorado </td>, <td class=\"listlw\"> Diamond Ck, Abv, Peach Springs, Nr</td>, <td class=\"listlw\"><a href=\"https://www.cbrfc.noaa.gov/station/flowplot/flowplot.cgi?CGYC2\">CGYC2</a></td>, <td class=\"listlw\">Colorado </td>, <td class=\"listlw\"> Grand Valley Div, Blo, Palisade, Nr</td>, <td class=\"listlw\"><a href=\"https://www.cbrfc.noaa.gov/station/flowplot/flowplot.cgi?CLFA3\">CLFA3</a></td>, <td class=\"listlw\">Colorado </td>, <td class=\"listlw\"> Lees Ferry</td>, <td class=\"listlw\"><a href=\"https://www.cbrfc.noaa.gov/station/flowplot/flowplot.cgi?CPDC1\">CPDC1</a></td>, <td class=\"listlw\">Colorado </td>, <td class=\"listlw\"> Parker Dam, Blo</td>, <td class=\"listlw\"><a href=\"https://www.cbrfc.noaa.gov/station/flowplot/flowplot.cgi?CQQC1\">CQQC1</a></td>, <td class=\"listlw\">Colorado </td>, <td class=\"listlw\"> Cibola</td>, <td class=\"listlw\"><a href=\"https://www.cbrfc.noaa.gov/station/flowplot/flowplot.cgi?CWWC1\">CWWC1</a></td>, <td class=\"listlw\">Colorado </td>, <td class=\"listlw\"> Water Wheel</td>, <td class=\"listlw\"><a href=\"https://www.cbrfc.noaa.gov/station/flowplot/flowplot.cgi?GCOC2\">GCOC2</a></td>, <td class=\"listlw\">Colorado </td>, <td class=\"listlw\"> Glenwood Springs, Blo</td>, <td class=\"listlw\"><a href=\"https://www.cbrfc.noaa.gov/station/flowplot/flowplot.cgi?IRRA3\">IRRA3</a></td>, <td class=\"listlw\">Colorado </td>, <td class=\"listlw\"> Imperial Reservoir</td>, <td class=\"listlw\"><a href=\"https://www.cbrfc.noaa.gov/station/flowplot/flowplot.cgi?LCOA3\">LCOA3</a></td>, <td class=\"listlw\">Cottonwood Wash </td>, <td class=\"listlw\"> Winslow</td>, <td class=\"listlw\"><a href=\"https://www.cbrfc.noaa.gov/station/flowplot/flowplot.cgi?RCYC2\">RCYC2</a></td>, <td class=\"listlw\">Crystal </td>, <td class=\"listlw\"> Redstone, Nr, Avalanche Ck, Abv</td>, <td class=\"listlw\"><a href=\"https://www.cbrfc.noaa.gov/station/flowplot/flowplot.cgi?DAVA3\">DAVA3</a></td>, <td class=\"listlw\">Davidson Canyon </td>, <td class=\"listlw\"></td>, <td class=\"listlw\"><a href=\"https://www.cbrfc.noaa.gov/station/flowplot/flowplot.cgi?DDHU1\">DDHU1</a></td>, <td class=\"listlw\">Dirty Devil </td>, <td class=\"listlw\"> Poison Spgs, Abv, Hanksville, Nr</td>, <td class=\"listlw\"><a href=\"https://www.cbrfc.noaa.gov/station/flowplot/flowplot.cgi?DOLC2\">DOLC2</a></td>, <td class=\"listlw\">Dolores </td>, <td class=\"listlw\"> Dolores</td>, <td class=\"listlw\"><a href=\"https://www.cbrfc.noaa.gov/station/flowplot/flowplot.cgi?DRMC2\">DRMC2</a></td>, <td class=\"listlw\">Dolores </td>, <td class=\"listlw\"> Mcphee Res, Blo</td>, <td class=\"listlw\"><a href=\"https://www.cbrfc.noaa.gov/station/flowplot/flowplot.cgi?DBVA3\">DBVA3</a></td>, <td class=\"listlw\">Dry Beaver Ck </td>, <td class=\"listlw\"> Rimrock, Nr</td>, <td class=\"listlw\"><a href=\"https://www.cbrfc.noaa.gov/station/flowplot/flowplot.cgi?DADU1\">DADU1</a></td>, <td class=\"listlw\">Duchesne </td>, <td class=\"listlw\"> Duchesne, Nr, Knight Div, Abv</td>, <td class=\"listlw\"><a href=\"https://www.cbrfc.noaa.gov/station/flowplot/flowplot.cgi?DURU1\">DURU1</a></td>, <td class=\"listlw\">Duchesne </td>, <td class=\"listlw\"> Randlett, Nr</td>, <td class=\"listlw\"><a href=\"https://www.cbrfc.noaa.gov/station/flowplot/flowplot.cgi?TADU1\">TADU1</a></td>, <td class=\"listlw\">Duchesne </td>, <td class=\"listlw\"> Tabiona, Nr</td>, <td class=\"listlw\"><a href=\"https://www.cbrfc.noaa.gov/station/flowplot/flowplot.cgi?MDEA3\">MDEA3</a></td>, <td class=\"listlw\">Dysart </td>, <td class=\"listlw\"> El Mirage</td>, <td class=\"listlw\"><a href=\"https://www.cbrfc.noaa.gov/station/flowplot/flowplot.cgi?EALC2\">EALC2</a></td>, <td class=\"listlw\">Eagle </td>, <td class=\"listlw\"> Avon</td>, <td class=\"listlw\"><a href=\"https://www.cbrfc.noaa.gov/station/flowplot/flowplot.cgi?RERC2\">RERC2</a></td>, <td class=\"listlw\">Eagle </td>, <td class=\"listlw\"> Redcliff</td>, <td class=\"listlw\"><a href=\"https://www.cbrfc.noaa.gov/station/flowplot/flowplot.cgi?ALEC2\">ALEC2</a></td>, <td class=\"listlw\">East </td>, <td class=\"listlw\"> Almont</td>, <td class=\"listlw\"><a href=\"https://www.cbrfc.noaa.gov/station/flowplot/flowplot.cgi?ECPU1\">ECPU1</a></td>, <td class=\"listlw\">East Canyon Ck </td>, <td class=\"listlw\"> Park City, Nr</td>, <td class=\"listlw\"><a href=\"https://www.cbrfc.noaa.gov/station/flowplot/flowplot.cgi?ESTU1\">ESTU1</a></td>, <td class=\"listlw\">East Fork Virgin </td>, <td class=\"listlw\"> Springdale, Nr</td>, <td class=\"listlw\"><a href=\"https://www.cbrfc.noaa.gov/station/flowplot/flowplot.cgi?SRKU1\">SRKU1</a></td>, <td class=\"listlw\">Ef Sevier </td>, <td class=\"listlw\"> Kingston, Nr</td>, <td class=\"listlw\"><a href=\"https://www.cbrfc.noaa.gov/station/flowplot/flowplot.cgi?SLRW4\">SLRW4</a></td>, <td class=\"listlw\">Ef Smiths Fork </td>, <td class=\"listlw\"> Stateline Reservoir, Robertson,nr</td>, <td class=\"listlw\"><a href=\"https://www.cbrfc.noaa.gov/station/flowplot/flowplot.cgi?ELCC2\">ELCC2</a></td>, <td class=\"listlw\">Elkhead Ck </td>, <td class=\"listlw\"> Craig, Nr</td>, <td class=\"listlw\"><a href=\"https://www.cbrfc.noaa.gov/station/flowplot/flowplot.cgi?ZCHA3\">ZCHA3</a></td>, <td class=\"listlw\">Emf </td>, <td class=\"listlw\"> Arizona Ave</td>, <td class=\"listlw\"><a href=\"https://www.cbrfc.noaa.gov/station/flowplot/flowplot.cgi?ESCU1\">ESCU1</a></td>, <td class=\"listlw\">Escalante </td>, <td class=\"listlw\"> Escalante, Nr</td>, <td class=\"listlw\"><a href=\"https://www.cbrfc.noaa.gov/station/flowplot/flowplot.cgi?FCNU1\">FCNU1</a></td>, <td class=\"listlw\">Fish Ck </td>, <td class=\"listlw\"> Scofield, Nr, Reservoir, Abv</td>, <td class=\"listlw\"><a href=\"https://www.cbrfc.noaa.gov/station/flowplot/flowplot.cgi?FWDN2\">FWDN2</a></td>, <td class=\"listlw\">Flamingo Wash </td>, <td class=\"listlw\"> Decatur Blvd</td>, <td class=\"listlw\"><a href=\"https://www.cbrfc.noaa.gov/station/flowplot/flowplot.cgi?BDAC2\">BDAC2</a></td>, <td class=\"listlw\">Florida </td>, <td class=\"listlw\"> Bondad, Nr</td>, <td class=\"listlw\"><a href=\"https://www.cbrfc.noaa.gov/station/flowplot/flowplot.cgi?FCHW4\">FCHW4</a></td>, <td class=\"listlw\">Fontenelle Ck </td>, <td class=\"listlw\"> Herschler, Nr</td>, <td class=\"listlw\"><a href=\"https://www.cbrfc.noaa.gov/station/flowplot/flowplot.cgi?FCSA3\">FCSA3</a></td>, <td class=\"listlw\">Fossil Ck </td>, <td class=\"listlw\"> Strawberry, Nr</td>, <td class=\"listlw\"><a href=\"https://www.cbrfc.noaa.gov/station/flowplot/flowplot.cgi?FRWC2\">FRWC2</a></td>, <td class=\"listlw\">Fraser </td>, <td class=\"listlw\"> Winter Park</td>, <td class=\"listlw\"><a href=\"https://www.cbrfc.noaa.gov/station/flowplot/flowplot.cgi?FREU1\">FREU1</a></td>, <td class=\"listlw\">Fremont </td>, <td class=\"listlw\"> Bicknell, Nr</td>, <td class=\"listlw\"><a href=\"https://www.cbrfc.noaa.gov/station/flowplot/flowplot.cgi?RUDC2\">RUDC2</a></td>, <td class=\"listlw\">Frying Pan </td>, <td class=\"listlw\"> Ruedi, Nr</td>, <td class=\"listlw\"><a href=\"https://www.cbrfc.noaa.gov/station/flowplot/flowplot.cgi?GATA3\">GATA3</a></td>, <td class=\"listlw\">Gila </td>, <td class=\"listlw\"> Attaway Rd</td>, <td class=\"listlw\"><a href=\"https://www.cbrfc.noaa.gov/station/flowplot/flowplot.cgi?GCFA3\">GCFA3</a></td>, <td class=\"listlw\">Gila </td>, <td class=\"listlw\"> Clifton, Nr</td>, <td class=\"listlw\"><a href=\"https://www.cbrfc.noaa.gov/station/flowplot/flowplot.cgi?GDTA3\">GDTA3</a></td>, <td class=\"listlw\">Gila </td>, <td class=\"listlw\"> Dateland</td>, <td class=\"listlw\"><a href=\"https://www.cbrfc.noaa.gov/station/flowplot/flowplot.cgi?GIDA3\">GIDA3</a></td>, <td class=\"listlw\">Gila </td>, <td class=\"listlw\"> Dome, Nr</td>, <td class=\"listlw\"><a href=\"https://www.cbrfc.noaa.gov/station/flowplot/flowplot.cgi?GLCA3\">GLCA3</a></td>, <td class=\"listlw\">Gila </td>, <td class=\"listlw\"> Calva</td>, <td class=\"listlw\"><a href=\"https://www.cbrfc.noaa.gov/station/flowplot/flowplot.cgi?GLKA3\">GLKA3</a></td>, <td class=\"listlw\">Gila </td>, <td class=\"listlw\"> Kelvin</td>, <td class=\"listlw\"><a href=\"https://www.cbrfc.noaa.gov/station/flowplot/flowplot.cgi?GRGA3\">GRGA3</a></td>, <td class=\"listlw\">Gila </td>, <td class=\"listlw\"> Estrella Parkway, Goodyear Nr</td>, <td class=\"listlw\"><a href=\"https://www.cbrfc.noaa.gov/station/flowplot/flowplot.cgi?GVRN5\">GVRN5</a></td>, <td class=\"listlw\">Gila </td>, <td class=\"listlw\"> Virden, Nr, Blue Ck, Blo</td>, <td class=\"listlw\"><a href=\"https://www.cbrfc.noaa.gov/station/flowplot/flowplot.cgi?GRVC2\">GRVC2</a></td>, <td class=\"listlw\">Gore Ck </td>, <td class=\"listlw\"> Vail, Red Sandstone Ck, Abv</td>, <td class=\"listlw\"><a href=\"https://www.cbrfc.noaa.gov/station/flowplot/flowplot.cgi?GRCA3\">GRCA3</a></td>, <td class=\"listlw\">Granite Ck </td>, <td class=\"listlw\"> Prescott, Nr</td>, <td class=\"listlw\"><a href=\"https://www.cbrfc.noaa.gov/station/flowplot/flowplot.cgi?GSPU1\">GSPU1</a></td>, <td class=\"listlw\">Great Salt Lake </td>, <td class=\"listlw\"> Saltair Boat Harbor At State Pk</td>, <td class=\"listlw\"><a href=\"https://www.cbrfc.noaa.gov/station/flowplot/flowplot.cgi?GRRW4\">GRRW4</a></td>, <td class=\"listlw\">Green </td>, <td class=\"listlw\"> Green River, Wy, Nr</td>, <td class=\"listlw\"><a href=\"https://www.cbrfc.noaa.gov/station/flowplot/flowplot.cgi?GRZU1\">GRZU1</a></td>, <td class=\"listlw\">Green </td>, <td class=\"listlw\"> Greendale, Nr</td>, <td class=\"listlw\"><a href=\"https://www.cbrfc.noaa.gov/station/flowplot/flowplot.cgi?LABW4\">LABW4</a></td>, <td class=\"listlw\">Green </td>, <td class=\"listlw\"> La Barge, Nr</td>, <td class=\"listlw\"><a href=\"https://www.cbrfc.noaa.gov/station/flowplot/flowplot.cgi?DELC2\">DELC2</a></td>, <td class=\"listlw\">Gunnison </td>, <td class=\"listlw\"> Delta</td>, <td class=\"listlw\"><a href=\"https://www.cbrfc.noaa.gov/station/flowplot/flowplot.cgi?GJNC2\">GJNC2</a></td>, <td class=\"listlw\">Gunnison </td>, <td class=\"listlw\"> Grand Junction, Nr</td>, <td class=\"listlw\"><a href=\"https://www.cbrfc.noaa.gov/station/flowplot/flowplot.cgi?HMFW4\">HMFW4</a></td>, <td class=\"listlw\">Hams Fork </td>, <td class=\"listlw\"> Frontier, Nr, Pole Ck, Blo</td>, <td class=\"listlw\"><a href=\"https://www.cbrfc.noaa.gov/station/flowplot/flowplot.cgi?HSTA3\">HSTA3</a></td>, <td class=\"listlw\">Hassayampa </td>, <td class=\"listlw\"> Arlington, Nr</td>, <td class=\"listlw\"><a href=\"https://www.cbrfc.noaa.gov/station/flowplot/flowplot.cgi?MHUA3\">MHUA3</a></td>, <td class=\"listlw\">Hassayampa </td>, <td class=\"listlw\"> Us</td>, <td class=\"listlw\"><a href=\"https://www.cbrfc.noaa.gov/station/flowplot/flowplot.cgi?SUPA3\">SUPA3</a></td>, <td class=\"listlw\">Havasu Ck </td>, <td class=\"listlw\"> Supai</td>, <td class=\"listlw\"><a href=\"https://www.cbrfc.noaa.gov/station/flowplot/flowplot.cgi?HBCU1\">HBCU1</a></td>, <td class=\"listlw\">Hobble Ck </td>, <td class=\"listlw\"> Springville, 700 East</td>, <td class=\"listlw\"><a href=\"https://www.cbrfc.noaa.gov/station/flowplot/flowplot.cgi?HUNC2\">HUNC2</a></td>, <td class=\"listlw\">Hunter Ck </td>, <td class=\"listlw\"> Aspen, Nr</td>, <td class=\"listlw\"><a href=\"https://www.cbrfc.noaa.gov/station/flowplot/flowplot.cgi?HNTU1\">HNTU1</a></td>, <td class=\"listlw\">Huntington Reservoir</td>, <td class=\"listlw\"></td>, <td class=\"listlw\"><a href=\"https://www.cbrfc.noaa.gov/station/flowplot/flowplot.cgi?IDXA3\">IDXA3</a></td>, <td class=\"listlw\">Indian Bend Wash </td>, <td class=\"listlw\"> Curry Rd</td>, <td class=\"listlw\"><a href=\"https://www.cbrfc.noaa.gov/station/flowplot/flowplot.cgi?WNBA3\">WNBA3</a></td>, <td class=\"listlw\">Jackrabbit Wash </td>, <td class=\"listlw\"> Tonopah, Nr</td>, <td class=\"listlw\"><a href=\"https://www.cbrfc.noaa.gov/station/flowplot/flowplot.cgi?JRSU1\">JRSU1</a></td>, <td class=\"listlw\">Jordan </td>, <td class=\"listlw\"> Salt Lake City</td>, <td class=\"listlw\"><a href=\"https://www.cbrfc.noaa.gov/station/flowplot/flowplot.cgi?KCKU1\">KCKU1</a></td>, <td class=\"listlw\">Kanab Ck </td>, <td class=\"listlw\"> Kanab, Nr</td>, <td class=\"listlw\"><a href=\"https://www.cbrfc.noaa.gov/station/flowplot/flowplot.cgi?LPHC2\">LPHC2</a></td>, <td class=\"listlw\">La Plata </td>, <td class=\"listlw\"> Hesperus</td>, <td class=\"listlw\"><a href=\"https://www.cbrfc.noaa.gov/station/flowplot/flowplot.cgi?LFBC2\">LFBC2</a></td>, <td class=\"listlw\">Lake Fork </td>, <td class=\"listlw\"> Lake San Cristobal, Blo</td>, <td class=\"listlw\"><a href=\"https://www.cbrfc.noaa.gov/station/flowplot/flowplot.cgi?LAMU1\">LAMU1</a></td>, <td class=\"listlw\">Lambs Ck </td>, <td class=\"listlw\"> Salt Lake City, Nr</td>, <td class=\"listlw\"><a href=\"https://www.cbrfc.noaa.gov/station/flowplot/flowplot.cgi?LVCN2\">LVCN2</a></td>, <td class=\"listlw\">Las Vegas Wash </td>, <td class=\"listlw\"> Craig Rd</td>, <td class=\"listlw\"><a href=\"https://www.cbrfc.noaa.gov/station/flowplot/flowplot.cgi?LWCN2\">LWCN2</a></td>, <td class=\"listlw\">Las Vegas Wash </td>, <td class=\"listlw\"> Flamingo Wash, Blo</td>, <td class=\"listlw\"><a href=\"https://www.cbrfc.noaa.gov/station/flowplot/flowplot.cgi?LEEU1\">LEEU1</a></td>, <td class=\"listlw\">Leeds Ck </td>, <td class=\"listlw\"> Leeds, Nr</td>, <td class=\"listlw\"><a href=\"https://www.cbrfc.noaa.gov/station/flowplot/flowplot.cgi?HLZU1\">HLZU1</a></td>, <td class=\"listlw\">Little Bear </td>, <td class=\"listlw\"> Hyrum Reservoir</td>, <td class=\"listlw\"><a href=\"https://www.cbrfc.noaa.gov/station/flowplot/flowplot.cgi?LBZA3\">LBZA3</a></td>, <td class=\"listlw\">Little Colorado </td>, <td class=\"listlw\"> Zion Res, Blo</td>, <td class=\"listlw\"><a href=\"https://www.cbrfc.noaa.gov/station/flowplot/flowplot.cgi?LCJA3\">LCJA3</a></td>, <td class=\"listlw\">Little Colorado </td>, <td class=\"listlw\"> Joseph City, Nr</td>, <td class=\"listlw\"><a href=\"https://www.cbrfc.noaa.gov/station/flowplot/flowplot.cgi?LCWA3\">LCWA3</a></td>, <td class=\"listlw\">Little Colorado </td>, <td class=\"listlw\"> Winslow, Nr</td>, <td class=\"listlw\"><a href=\"https://www.cbrfc.noaa.gov/station/flowplot/flowplot.cgi?LHBA3\">LHBA3</a></td>, <td class=\"listlw\">Little Colorado </td>, <td class=\"listlw\"> Holbrook</td>, <td class=\"listlw\"><a href=\"https://www.cbrfc.noaa.gov/station/flowplot/flowplot.cgi?WDRA3\">WDRA3</a></td>, <td class=\"listlw\">Little Colorado </td>, <td class=\"listlw\"> Woodruff</td>, <td class=\"listlw\"><a href=\"https://www.cbrfc.noaa.gov/station/flowplot/flowplot.cgi?LCTU1\">LCTU1</a></td>, <td class=\"listlw\">Little Cottonwood Ck </td>, <td class=\"listlw\"> Salt Lake City, Nr</td>, <td class=\"listlw\"><a href=\"https://www.cbrfc.noaa.gov/station/flowplot/flowplot.cgi?LNAC2\">LNAC2</a></td>, <td class=\"listlw\">Little Navajo </td>, <td class=\"listlw\"> Oso Div Dam,bl,chromo,nr</td>, <td class=\"listlw\"><a href=\"https://www.cbrfc.noaa.gov/station/flowplot/flowplot.cgi?LSDW4\">LSDW4</a></td>, <td class=\"listlw\">Little Snake </td>, <td class=\"listlw\"> Dixon, Nr</td>, <td class=\"listlw\"><a href=\"https://www.cbrfc.noaa.gov/station/flowplot/flowplot.cgi?LGNU1\">LGNU1</a></td>, <td class=\"listlw\">Logan </td>, <td class=\"listlw\"> Logan, Nr, State Dam, Abv</td>, <td class=\"listlw\"><a href=\"https://www.cbrfc.noaa.gov/station/flowplot/flowplot.cgi?LOSC2\">LOSC2</a></td>, <td class=\"listlw\">Los Pinos </td>, <td class=\"listlw\"> La Boca</td>, <td class=\"listlw\"><a href=\"https://www.cbrfc.noaa.gov/station/flowplot/flowplot.cgi?LCCC2\">LCCC2</a></td>, <td class=\"listlw\">Lost Canyon Ck </td>, <td class=\"listlw\"> Dolores, Nr</td>, <td class=\"listlw\"><a href=\"https://www.cbrfc.noaa.gov/station/flowplot/flowplot.cgi?MNRC2\">MNRC2</a></td>, <td class=\"listlw\">Mancos </td>, <td class=\"listlw\"> Mancos, Nr</td>, <td class=\"listlw\"><a href=\"https://www.cbrfc.noaa.gov/station/flowplot/flowplot.cgi?MAAU1\">MAAU1</a></td>, <td class=\"listlw\">Manti Ck </td>, <td class=\"listlw\"> Manti, Nr, Dugway Ck, Blo</td>, <td class=\"listlw\"><a href=\"https://www.cbrfc.noaa.gov/station/flowplot/flowplot.cgi?MCEC2\">MCEC2</a></td>, <td class=\"listlw\">Mcelmo Ck </td>, <td class=\"listlw\"> Co</td>, <td class=\"listlw\"><a href=\"https://www.cbrfc.noaa.gov/station/flowplot/flowplot.cgi?MCFA3\">MCFA3</a></td>, <td class=\"listlw\">Mcmicken Floodway</td>, <td class=\"listlw\"></td>, <td class=\"listlw\"><a href=\"https://www.cbrfc.noaa.gov/station/flowplot/flowplot.cgi?MVRN2\">MVRN2</a></td>, <td class=\"listlw\">Meadow Valley Wash </td>, <td class=\"listlw\"> Rox, Nr</td>, <td class=\"listlw\"><a href=\"https://www.cbrfc.noaa.gov/station/flowplot/flowplot.cgi?MCJU1\">MCJU1</a></td>, <td class=\"listlw\">Mill Ck </td>, <td class=\"listlw\"> 460 West</td>, <td class=\"listlw\"><a href=\"https://www.cbrfc.noaa.gov/station/flowplot/flowplot.cgi?MIFU1\">MIFU1</a></td>, <td class=\"listlw\">Miller Flat Reservoir</td>, <td class=\"listlw\"></td>, <td class=\"listlw\"><a href=\"https://www.cbrfc.noaa.gov/station/flowplot/flowplot.cgi?MCCN5\">MCCN5</a></td>, <td class=\"listlw\">Mogollon Ck </td>, <td class=\"listlw\"> Cliff, Nr</td>, <td class=\"listlw\"><a href=\"https://www.cbrfc.noaa.gov/station/flowplot/flowplot.cgi?MOAN2\">MOAN2</a></td>, <td class=\"listlw\">Muddy </td>, <td class=\"listlw\"> Moapa, Nr</td>, <td class=\"listlw\"><a href=\"https://www.cbrfc.noaa.gov/station/flowplot/flowplot.cgi?MBWC2\">MBWC2</a></td>, <td class=\"listlw\">Muddy Ck </td>, <td class=\"listlw\"> Wolford Mtn Res, Blo</td>, <td class=\"listlw\"><a href=\"https://www.cbrfc.noaa.gov/station/flowplot/flowplot.cgi?MDCU1\">MDCU1</a></td>, <td class=\"listlw\">Muddy Ck </td>, <td class=\"listlw\"> Emery, Nr</td>, <td class=\"listlw\"><a href=\"https://www.cbrfc.noaa.gov/station/flowplot/flowplot.cgi?MBLA3\">MBLA3</a></td>, <td class=\"listlw\">New </td>, <td class=\"listlw\"> Bell Road</td>, <td class=\"listlw\"><a href=\"https://www.cbrfc.noaa.gov/station/flowplot/flowplot.cgi?NWRA3\">NWRA3</a></td>, <td class=\"listlw\">New </td>, <td class=\"listlw\"> Rock Spgs, Nr</td>, <td class=\"listlw\"><a href=\"https://www.cbrfc.noaa.gov/station/flowplot/flowplot.cgi?SOMC2\">SOMC2</a></td>, <td class=\"listlw\">Nf Gunnison </td>, <td class=\"listlw\"> Somerset, Nr</td>, <td class=\"listlw\"><a href=\"https://www.cbrfc.noaa.gov/station/flowplot/flowplot.cgi?LZRC2\">LZRC2</a></td>, <td class=\"listlw\">North Fork Gunnison </td>, <td class=\"listlw\"> Lazear, Nr, Mouth, Abv</td>, <td class=\"listlw\"><a href=\"https://www.cbrfc.noaa.gov/station/flowplot/flowplot.cgi?OACA3\">OACA3</a></td>, <td class=\"listlw\">Oak Ck </td>, <td class=\"listlw\"> Cornville, Nr</td>, <td class=\"listlw\"><a href=\"https://www.cbrfc.noaa.gov/station/flowplot/flowplot.cgi?OPDU1\">OPDU1</a></td>, <td class=\"listlw\">Ogden </td>, <td class=\"listlw\"> Pineview Dam, Blo, Huntsville, Nr</td>, <td class=\"listlw\"><a href=\"https://www.cbrfc.noaa.gov/station/flowplot/flowplot.cgi?ORWA3\">ORWA3</a></td>, <td class=\"listlw\">Oraibi Wash </td>, <td class=\"listlw\"> Tolani Lake, Nr, Oraibi, N</td>, <td class=\"listlw\"><a href=\"https://www.cbrfc.noaa.gov/station/flowplot/flowplot.cgi?PWBA3\">PWBA3</a></td>, <td class=\"listlw\">Pantano Wash </td>, <td class=\"listlw\"> Broadway Blvd</td>, <td class=\"listlw\"><a href=\"https://www.cbrfc.noaa.gov/station/flowplot/flowplot.cgi?PRLU1\">PRLU1</a></td>, <td class=\"listlw\">Parleys Ck </td>, <td class=\"listlw\"> Salt Lake City, Nr</td>, <td class=\"listlw\"><a href=\"https://www.cbrfc.noaa.gov/station/flowplot/flowplot.cgi?PNLA3\">PNLA3</a></td>, <td class=\"listlw\">Pinal Ck </td>, <td class=\"listlw\"> Inspiration Dam, Globe, Nr</td>, <td class=\"listlw\"><a href=\"https://www.cbrfc.noaa.gov/station/flowplot/flowplot.cgi?PSBC2\">PSBC2</a></td>, <td class=\"listlw\">Piney </td>, <td class=\"listlw\"> State Bridge, Nr</td>, <td class=\"listlw\"><a href=\"https://www.cbrfc.noaa.gov/station/flowplot/flowplot.cgi?POLA3\">POLA3</a></td>, <td class=\"listlw\">Polacca Wash </td>, <td class=\"listlw\"> Second Mesa, Nr</td>, <td class=\"listlw\"><a href=\"https://www.cbrfc.noaa.gov/station/flowplot/flowplot.cgi?WOPU1\">WOPU1</a></td>, <td class=\"listlw\">Price </td>, <td class=\"listlw\"> Woodside</td>, <td class=\"listlw\"><a href=\"https://www.cbrfc.noaa.gov/station/flowplot/flowplot.cgi?PPPU1\">PPPU1</a></td>, <td class=\"listlw\">Provo </td>, <td class=\"listlw\"> Provo</td>, <td class=\"listlw\"><a href=\"https://www.cbrfc.noaa.gov/station/flowplot/flowplot.cgi?WOOU1\">WOOU1</a></td>, <td class=\"listlw\">Provo </td>, <td class=\"listlw\"> Woodland, Nr</td>, <td class=\"listlw\"><a href=\"https://www.cbrfc.noaa.gov/station/flowplot/flowplot.cgi?WHIA3\">WHIA3</a></td>, <td class=\"listlw\">Queen Ck </td>, <td class=\"listlw\"> Whitlow Ranch Dam, Blo</td>, <td class=\"listlw\"><a href=\"https://www.cbrfc.noaa.gov/station/flowplot/flowplot.cgi?RBCU1\">RBCU1</a></td>, <td class=\"listlw\">Red Butte Ck </td>, <td class=\"listlw\"> Ft Douglas, At, Salt Lake City, Nr</td>, <td class=\"listlw\"><a href=\"https://www.cbrfc.noaa.gov/station/flowplot/flowplot.cgi?RICA3\">RICA3</a></td>, <td class=\"listlw\">Rillito Ck </td>, <td class=\"listlw\"> La Cholla Blvd</td>, <td class=\"listlw\"><a href=\"https://www.cbrfc.noaa.gov/station/flowplot/flowplot.cgi?RINA3\">RINA3</a></td>, <td class=\"listlw\">Rincon Ck </td>, <td class=\"listlw\"> Tucson, Nr</td>, <td class=\"listlw\"><a href=\"https://www.cbrfc.noaa.gov/station/flowplot/flowplot.cgi?APNC2\">APNC2</a></td>, <td class=\"listlw\">Roaring Fork </td>, <td class=\"listlw\"> Aspen, Nr</td>, <td class=\"listlw\"><a href=\"https://www.cbrfc.noaa.gov/station/flowplot/flowplot.cgi?ROKU1\">ROKU1</a></td>, <td class=\"listlw\">Rock Ck </td>, <td class=\"listlw\"> Mountain Home, Nr</td>, <td class=\"listlw\"><a href=\"https://www.cbrfc.noaa.gov/station/flowplot/flowplot.cgi?WCGU1\">WCGU1</a></td>, <td class=\"listlw\">S Willow Ck </td>, <td class=\"listlw\"> Grantsville, Nr</td>, <td class=\"listlw\"><a href=\"https://www.cbrfc.noaa.gov/station/flowplot/flowplot.cgi?SAYU1\">SAYU1</a></td>, <td class=\"listlw\">Salina Ck </td>, <td class=\"listlw\"> Emery, Nr</td>, <td class=\"listlw\"><a href=\"https://www.cbrfc.noaa.gov/station/flowplot/flowplot.cgi?SFFA3\">SFFA3</a></td>, <td class=\"listlw\">Salt </td>, <td class=\"listlw\"> 51st Ave</td>, <td class=\"listlw\"><a href=\"https://www.cbrfc.noaa.gov/station/flowplot/flowplot.cgi?SLPA3\">SLPA3</a></td>, <td class=\"listlw\">Salt </td>, <td class=\"listlw\"> Priest Drive</td>, <td class=\"listlw\"><a href=\"https://www.cbrfc.noaa.gov/station/flowplot/flowplot.cgi?SMDA3\">SMDA3</a></td>, <td class=\"listlw\">Salt </td>, <td class=\"listlw\"> Stewart Mtn Dam, Blo</td>, <td class=\"listlw\"><a href=\"https://www.cbrfc.noaa.gov/station/flowplot/flowplot.cgi?SNCA3\">SNCA3</a></td>, <td class=\"listlw\">San Carlos </td>, <td class=\"listlw\"> Peridot, Nr</td>, <td class=\"listlw\"><a href=\"https://www.cbrfc.noaa.gov/station/flowplot/flowplot.cgi?RSFN5\">RSFN5</a></td>, <td class=\"listlw\">San Francisco </td>, <td class=\"listlw\"> Reserve, Nr</td>, <td class=\"listlw\"><a href=\"https://www.cbrfc.noaa.gov/station/flowplot/flowplot.cgi?ARCN5\">ARCN5</a></td>, <td class=\"listlw\">San Juan </td>, <td class=\"listlw\"> Archuleta</td>, <td class=\"listlw\"><a href=\"https://www.cbrfc.noaa.gov/station/flowplot/flowplot.cgi?FRMN5\">FRMN5</a></td>, <td class=\"listlw\">San Juan </td>, <td class=\"listlw\"> Farmington</td>, <td class=\"listlw\"><a href=\"https://www.cbrfc.noaa.gov/station/flowplot/flowplot.cgi?SHRN5\">SHRN5</a></td>, <td class=\"listlw\">San Juan </td>, <td class=\"listlw\"> Shiprock</td>, <td class=\"listlw\"><a href=\"https://www.cbrfc.noaa.gov/station/flowplot/flowplot.cgi?SJFC2\">SJFC2</a></td>, <td class=\"listlw\">San Juan </td>, <td class=\"listlw\"> Four Corners</td>, <td class=\"listlw\"><a href=\"https://www.cbrfc.noaa.gov/station/flowplot/flowplot.cgi?SMUC2\">SMUC2</a></td>, <td class=\"listlw\">San Miguel </td>, <td class=\"listlw\"> Uravan</td>, <td class=\"listlw\"><a href=\"https://www.cbrfc.noaa.gov/station/flowplot/flowplot.cgi?SAPA3\">SAPA3</a></td>, <td class=\"listlw\">San Pedro </td>, <td class=\"listlw\"> Charleston</td>, <td class=\"listlw\"><a href=\"https://www.cbrfc.noaa.gov/station/flowplot/flowplot.cgi?SPTA3\">SPTA3</a></td>, <td class=\"listlw\">San Pedro </td>, <td class=\"listlw\"> Tombstone, Nr</td>, <td class=\"listlw\"><a href=\"https://www.cbrfc.noaa.gov/station/flowplot/flowplot.cgi?SSSA3\">SSSA3</a></td>, <td class=\"listlw\">San Simon </td>, <td class=\"listlw\"> Solomon, Nr</td>, <td class=\"listlw\"><a href=\"https://www.cbrfc.noaa.gov/station/flowplot/flowplot.cgi?SCVU1\">SCVU1</a></td>, <td class=\"listlw\">Santa Clara </td>, <td class=\"listlw\"> Baker Reservoir, Abv, Central, Nr</td>, <td class=\"listlw\"><a href=\"https://www.cbrfc.noaa.gov/station/flowplot/flowplot.cgi?STCU1\">STCU1</a></td>, <td class=\"listlw\">Santa Clara </td>, <td class=\"listlw\"> Pine Valley, Nr</td>, <td class=\"listlw\"><a href=\"https://www.cbrfc.noaa.gov/station/flowplot/flowplot.cgi?SCCA3\">SCCA3</a></td>, <td class=\"listlw\">Santa Cruz </td>, <td class=\"listlw\"> Continental</td>, <td class=\"listlw\"><a href=\"https://www.cbrfc.noaa.gov/station/flowplot/flowplot.cgi?SCTA3\">SCTA3</a></td>, <td class=\"listlw\">Santa Cruz </td>, <td class=\"listlw\"> Trico Rd, At, Marana, Nr</td>, <td class=\"listlw\"><a href=\"https://www.cbrfc.noaa.gov/station/flowplot/flowplot.cgi?STBA3\">STBA3</a></td>, <td class=\"listlw\">Santa Cruz </td>, <td class=\"listlw\"> Tubac</td>, <td class=\"listlw\"><a href=\"https://www.cbrfc.noaa.gov/station/flowplot/flowplot.cgi?SCSA3\">SCSA3</a></td>, <td class=\"listlw\">Santa Cruz River At Sr82</td>, <td class=\"listlw\"></td>, <td class=\"listlw\"><a href=\"https://www.cbrfc.noaa.gov/station/flowplot/flowplot.cgi?MSAA3\">MSAA3</a></td>, <td class=\"listlw\">Santa Rosa Wash </td>, <td class=\"listlw\"> Sr</td>, <td class=\"listlw\"><a href=\"https://www.cbrfc.noaa.gov/station/flowplot/flowplot.cgi?JOVU1\">JOVU1</a></td>, <td class=\"listlw\">Seeley Ck </td>, <td class=\"listlw\"> Joes Vly Reservoir, Orangeville, Nr</td>, <td class=\"listlw\"><a href=\"https://www.cbrfc.noaa.gov/station/flowplot/flowplot.cgi?MYSU1\">MYSU1</a></td>, <td class=\"listlw\">Sevier </td>, <td class=\"listlw\"> Piute Dam, Blo, Marysvale, Nr</td>, <td class=\"listlw\"><a href=\"https://www.cbrfc.noaa.gov/station/flowplot/flowplot.cgi?SGDU1\">SGDU1</a></td>, <td class=\"listlw\">Sevier </td>, <td class=\"listlw\"> Sigurd, Nr</td>, <td class=\"listlw\"><a href=\"https://www.cbrfc.noaa.gov/station/flowplot/flowplot.cgi?OGHU1\">OGHU1</a></td>, <td class=\"listlw\">Sf Ogden </td>, <td class=\"listlw\"> Huntsville, Nr</td>, <td class=\"listlw\"><a href=\"https://www.cbrfc.noaa.gov/station/flowplot/flowplot.cgi?SHOA3\">SHOA3</a></td>, <td class=\"listlw\">Show Low Lake </td>, <td class=\"listlw\"> Show Low, Nr</td>, <td class=\"listlw\"><a href=\"https://www.cbrfc.noaa.gov/station/flowplot/flowplot.cgi?SSFA3\">SSFA3</a></td>, <td class=\"listlw\">Silver Ck </td>, <td class=\"listlw\"> Snowflake, Abv</td>, <td class=\"listlw\"><a href=\"https://www.cbrfc.noaa.gov/station/flowplot/flowplot.cgi?SLFC2\">SLFC2</a></td>, <td class=\"listlw\">Slater Fork </td>, <td class=\"listlw\"> Slater, Nr</td>, <td class=\"listlw\"><a href=\"https://www.cbrfc.noaa.gov/station/flowplot/flowplot.cgi?SFLC2\">SFLC2</a></td>, <td class=\"listlw\">Smith Fk </td>, <td class=\"listlw\"> Lazear, Nr</td>, <td class=\"listlw\"><a href=\"https://www.cbrfc.noaa.gov/station/flowplot/flowplot.cgi?SKEC2\">SKEC2</a></td>, <td class=\"listlw\">Snake </td>, <td class=\"listlw\"> Montezuma, Nr</td>, <td class=\"listlw\"><a href=\"https://www.cbrfc.noaa.gov/station/flowplot/flowplot.cgi?SFRU1\">SFRU1</a></td>, <td class=\"listlw\">South Fork Rock Ck </td>, <td class=\"listlw\"> Docs Div, Blo</td>, <td class=\"listlw\"><a href=\"https://www.cbrfc.noaa.gov/station/flowplot/flowplot.cgi?SPLU1\">SPLU1</a></td>, <td class=\"listlw\">Spanish Fork Nr Lakeshore</td>, <td class=\"listlw\"></td>, <td class=\"listlw\"><a href=\"https://www.cbrfc.noaa.gov/station/flowplot/flowplot.cgi?SCCC2\">SCCC2</a></td>, <td class=\"listlw\">Surface Ck </td>, <td class=\"listlw\"> Cedaredge</td>, <td class=\"listlw\"><a href=\"https://www.cbrfc.noaa.gov/station/flowplot/flowplot.cgi?TQRA3\">TQRA3</a></td>, <td class=\"listlw\">Tanque Verde </td>, <td class=\"listlw\"> Guest Ranch</td>, <td class=\"listlw\"><a href=\"https://www.cbrfc.noaa.gov/station/flowplot/flowplot.cgi?ALTC2\">ALTC2</a></td>, <td class=\"listlw\">Taylor </td>, <td class=\"listlw\"> Almont</td>, <td class=\"listlw\"><a href=\"https://www.cbrfc.noaa.gov/station/flowplot/flowplot.cgi?TRBC2\">TRBC2</a></td>, <td class=\"listlw\">Taylor </td>, <td class=\"listlw\"> Taylor Park Res, Blo</td>, <td class=\"listlw\"><a href=\"https://www.cbrfc.noaa.gov/station/flowplot/flowplot.cgi?THOI1\">THOI1</a></td>, <td class=\"listlw\">Thomas Fork </td>, <td class=\"listlw\"> Wyoming</td>, <td class=\"listlw\"><a href=\"https://www.cbrfc.noaa.gov/station/flowplot/flowplot.cgi?TMCC2\">TMCC2</a></td>, <td class=\"listlw\">Tomichi Ck </td>, <td class=\"listlw\"> Sargents</td>, <td class=\"listlw\"><a href=\"https://www.cbrfc.noaa.gov/station/flowplot/flowplot.cgi?TNRA3\">TNRA3</a></td>, <td class=\"listlw\">Tonto Ck </td>, <td class=\"listlw\"> Roosevelt, Nr, Gun Ck, Abv</td>, <td class=\"listlw\"><a href=\"https://www.cbrfc.noaa.gov/station/flowplot/flowplot.cgi?URRU1\">URRU1</a></td>, <td class=\"listlw\">Uinta </td>, <td class=\"listlw\"> Randlett</td>, <td class=\"listlw\"><a href=\"https://www.cbrfc.noaa.gov/station/flowplot/flowplot.cgi?DLAC2\">DLAC2</a></td>, <td class=\"listlw\">Uncompahgre </td>, <td class=\"listlw\"> Delta</td>, <td class=\"listlw\"><a href=\"https://www.cbrfc.noaa.gov/station/flowplot/flowplot.cgi?UNRC2\">UNRC2</a></td>, <td class=\"listlw\">Uncompahgre </td>, <td class=\"listlw\"> Ridgway Res, Blo</td>, <td class=\"listlw\"><a href=\"https://www.cbrfc.noaa.gov/station/flowplot/flowplot.cgi?UERU1\">UERU1</a></td>, <td class=\"listlw\">Upper Enterprise Reservoir</td>, <td class=\"listlw\"></td>, <td class=\"listlw\"><a href=\"https://www.cbrfc.noaa.gov/station/flowplot/flowplot.cgi?VCVA3\">VCVA3</a></td>, <td class=\"listlw\">Verde </td>, <td class=\"listlw\"> Camp Verde, Nr</td>, <td class=\"listlw\"><a href=\"https://www.cbrfc.noaa.gov/station/flowplot/flowplot.cgi?VDCA3\">VDCA3</a></td>, <td class=\"listlw\">Verde </td>, <td class=\"listlw\"> Clarkdale</td>, <td class=\"listlw\"><a href=\"https://www.cbrfc.noaa.gov/station/flowplot/flowplot.cgi?VDSA3\">VDSA3</a></td>, <td class=\"listlw\">Verde </td>, <td class=\"listlw\"> Scottsdale, Nr</td>, <td class=\"listlw\"><a href=\"https://www.cbrfc.noaa.gov/station/flowplot/flowplot.cgi?HUCU1\">HUCU1</a></td>, <td class=\"listlw\">Virgin </td>, <td class=\"listlw\"> Quail Ck, Abv, Hurricane, Nr</td>, <td class=\"listlw\"><a href=\"https://www.cbrfc.noaa.gov/station/flowplot/flowplot.cgi?VIRU1\">VIRU1</a></td>, <td class=\"listlw\">Virgin </td>, <td class=\"listlw\"> Virgin</td>, <td class=\"listlw\"><a href=\"https://www.cbrfc.noaa.gov/station/flowplot/flowplot.cgi?VLMN2\">VLMN2</a></td>, <td class=\"listlw\">Virgin </td>, <td class=\"listlw\"> Lake Mead, Abv, Overton, Nr</td>, <td class=\"listlw\"><a href=\"https://www.cbrfc.noaa.gov/station/flowplot/flowplot.cgi?VRBU1\">VRBU1</a></td>, <td class=\"listlw\">Virgin </td>, <td class=\"listlw\"> Bloomington, Nr</td>, <td class=\"listlw\"><a href=\"https://www.cbrfc.noaa.gov/station/flowplot/flowplot.cgi?YWCA3\">YWCA3</a></td>, <td class=\"listlw\">Walnut Creek</td>, <td class=\"listlw\"></td>, <td class=\"listlw\"><a href=\"https://www.cbrfc.noaa.gov/station/flowplot/flowplot.cgi?CLLU1\">CLLU1</a></td>, <td class=\"listlw\">Weber </td>, <td class=\"listlw\"> Coalville, Nr</td>, <td class=\"listlw\"><a href=\"https://www.cbrfc.noaa.gov/station/flowplot/flowplot.cgi?GATU1\">GATU1</a></td>, <td class=\"listlw\">Weber </td>, <td class=\"listlw\"> Gateway</td>, <td class=\"listlw\"><a href=\"https://www.cbrfc.noaa.gov/station/flowplot/flowplot.cgi?RKUU1\">RKUU1</a></td>, <td class=\"listlw\">Weber </td>, <td class=\"listlw\"> Rockport Res, Wanship, Nr</td>, <td class=\"listlw\"><a href=\"https://www.cbrfc.noaa.gov/station/flowplot/flowplot.cgi?WWPU1\">WWPU1</a></td>, <td class=\"listlw\">Weber </td>, <td class=\"listlw\"> Plain City, Nr</td>, <td class=\"listlw\"><a href=\"https://www.cbrfc.noaa.gov/station/flowplot/flowplot.cgi?WCLA3\">WCLA3</a></td>, <td class=\"listlw\">West Clear Ck </td>, <td class=\"listlw\"> Camp Verde, Nr</td>, <td class=\"listlw\"><a href=\"https://www.cbrfc.noaa.gov/station/flowplot/flowplot.cgi?WFDU1\">WFDU1</a></td>, <td class=\"listlw\">West Fork Duchesne </td>, <td class=\"listlw\"> Vat Diversion, Blo</td>, <td class=\"listlw\"><a href=\"https://www.cbrfc.noaa.gov/station/flowplot/flowplot.cgi?WTBA3\">WTBA3</a></td>, <td class=\"listlw\">Wet Bottom </td>, <td class=\"listlw\"> Childs, Nr</td>, <td class=\"listlw\"><a href=\"https://www.cbrfc.noaa.gov/station/flowplot/flowplot.cgi?WHBC2\">WHBC2</a></td>, <td class=\"listlw\">White </td>, <td class=\"listlw\"> Rangely, Nr, Boise Ck, Blo</td>, <td class=\"listlw\"><a href=\"https://www.cbrfc.noaa.gov/station/flowplot/flowplot.cgi?WRMC2\">WRMC2</a></td>, <td class=\"listlw\">White </td>, <td class=\"listlw\"> Meeker, Nr</td>, <td class=\"listlw\"><a href=\"https://www.cbrfc.noaa.gov/station/flowplot/flowplot.cgi?WTRU1\">WTRU1</a></td>, <td class=\"listlw\">Whiterocks </td>, <td class=\"listlw\"> Whiterocks, Nr</td>, <td class=\"listlw\"><a href=\"https://www.cbrfc.noaa.gov/station/flowplot/flowplot.cgi?WFLC2\">WFLC2</a></td>, <td class=\"listlw\">Williams Fork </td>, <td class=\"listlw\"> Leal, Nr</td>, <td class=\"listlw\"><a href=\"https://www.cbrfc.noaa.gov/station/flowplot/flowplot.cgi?WIKC2\">WIKC2</a></td>, <td class=\"listlw\">Williams Fork </td>, <td class=\"listlw\"> Mouth, At, Hamilton, Nr</td>, <td class=\"listlw\"><a href=\"https://www.cbrfc.noaa.gov/station/flowplot/flowplot.cgi?WCKC2\">WCKC2</a></td>, <td class=\"listlw\">Willow Ck </td>, <td class=\"listlw\"> Granby, Nr, Willow Ck Res, Blo</td>, <td class=\"listlw\"><a href=\"https://www.cbrfc.noaa.gov/station/flowplot/flowplot.cgi?MBLC2\">MBLC2</a></td>, <td class=\"listlw\">Yampa </td>, <td class=\"listlw\"> Maybell, Nr</td>, <td class=\"listlw\"><a href=\"https://www.cbrfc.noaa.gov/station/flowplot/flowplot.cgi?YASC2\">YASC2</a></td>, <td class=\"listlw\">Yampa </td>, <td class=\"listlw\"> Stagecoach Rsvr, Abv</td>, <td class=\"listlw\"><a href=\"https://www.cbrfc.noaa.gov/station/flowplot/flowplot.cgi?YMSC2\">YMSC2</a></td>, <td class=\"listlw\">Yampa </td>, <td class=\"listlw\"> Stagecoach Res, Blo</td>, <td class=\"listlw\"><a href=\"https://www.cbrfc.noaa.gov/station/flowplot/flowplot.cgi?ZUIN5\">ZUIN5</a></td>, <td class=\"listlw\">Zuni </td>, <td class=\"listlw\"> Black Rock Res, Abv</td>, <td class=\"listlw\"><a href=\"https://www.cbrfc.noaa.gov/station/flowplot/flowplot.cgi?GVRU1\">GVRU1</a></td>, <td class=\"listlw\">Grass Valley Reservoir</td>, <td class=\"listlw\"></td>, <td class=\"listlw\"><a href=\"https://www.cbrfc.noaa.gov/station/flowplot/flowplot.cgi?YWLA3\">YWLA3</a></td>, <td class=\"listlw\">Watson Lake</td>, <td class=\"listlw\"></td>]\n"
     ]
    }
   ],
   "source": [
    "# this is to find the first gauge name\n",
    "f1 = soup.select(\".listlw\")\n",
    "print(f1)\n",
    "# class=\"listrg\""
   ]
  },
  {
   "cell_type": "code",
   "execution_count": 34,
   "metadata": {},
   "outputs": [
    {
     "data": {
      "text/plain": [
       "['SPRA3']"
      ]
     },
     "execution_count": 34,
     "metadata": {},
     "output_type": "execute_result"
    }
   ],
   "source": [
    "# find the first gauge name\n",
    "f1[0].a.contents"
   ]
  },
  {
   "cell_type": "code",
   "execution_count": 40,
   "metadata": {},
   "outputs": [
    {
     "data": {
      "text/plain": [
       "['San Pedro ']"
      ]
     },
     "execution_count": 40,
     "metadata": {},
     "output_type": "execute_result"
    }
   ],
   "source": [
    "# find the first river name\n",
    "f1[1].contents"
   ]
  },
  {
   "cell_type": "code",
   "execution_count": 42,
   "metadata": {},
   "outputs": [
    {
     "data": {
      "text/plain": [
       "[<a href=\"https://www.cbrfc.noaa.gov/station/flowplot/flowplot.cgi?MHFA3\">MHFA3</a>]"
      ]
     },
     "execution_count": 42,
     "metadata": {},
     "output_type": "execute_result"
    }
   ],
   "source": [
    "# find the first river name\n",
    "f1[3].contents"
   ]
  },
  {
   "cell_type": "markdown",
   "metadata": {},
   "source": [
    "I don't think this is the way to go. Instead, I should iterate the through table rows"
   ]
  },
  {
   "cell_type": "code",
   "execution_count": 59,
   "metadata": {},
   "outputs": [
    {
     "data": {
      "text/plain": [
       "964"
      ]
     },
     "execution_count": 59,
     "metadata": {},
     "output_type": "execute_result"
    }
   ],
   "source": [
    "# select that first table\n",
    "ft = soup.tbody\n",
    "len(list(ft))"
   ]
  },
  {
   "cell_type": "code",
   "execution_count": 62,
   "metadata": {},
   "outputs": [
    {
     "data": {
      "text/plain": [
       "505"
      ]
     },
     "execution_count": 62,
     "metadata": {},
     "output_type": "execute_result"
    }
   ],
   "source": [
    "# then select the rows of the table\n",
    "ftr = ft.select('tr')\n",
    "len(list(ftr))"
   ]
  },
  {
   "cell_type": "code",
   "execution_count": 65,
   "metadata": {},
   "outputs": [
    {
     "data": {
      "text/plain": [
       "<tr><td class=\"listrw\">1</td><td class=\"listlw\"><a href=\"https://www.cbrfc.noaa.gov/station/flowplot/flowplot.cgi?SPRA3\">SPRA3</a></td><td class=\"listlw\">San Pedro </td><td class=\"listlw\"> Redington</td><td class=\"listrw\"><img alt=\"\" src=\"./River List_files/river.2.png\"/></td><td class=\"listrw\">1</td><td class=\"listrw\">07, 02:00</td><td class=\"listrw\">2586</td><td class=\"listrw\">11.5</td><td class=\"listrw\">14.5</td><td class=\"listrw\">12.5</td><td class=\"listrw\">15050203</td><td class=\"listrw\">AZ</td><td class=\"listrw\">TWC</td><td class=\"listrw\">2820</td><td class=\"listrw\">SANPEDRO</td><td class=\"listrw\">7</td></tr>"
      ]
     },
     "execution_count": 65,
     "metadata": {},
     "output_type": "execute_result"
    }
   ],
   "source": [
    "# the data begins at row 3 (index 2)\n",
    "ftr[2]"
   ]
  },
  {
   "cell_type": "code",
   "execution_count": 66,
   "metadata": {},
   "outputs": [],
   "source": [
    "### loop through the elements in ftr"
   ]
  },
  {
   "cell_type": "code",
   "execution_count": 69,
   "metadata": {},
   "outputs": [
    {
     "data": {
      "text/plain": [
       "'SPRA3'"
      ]
     },
     "execution_count": 69,
     "metadata": {},
     "output_type": "execute_result"
    }
   ],
   "source": [
    "## a tag is the name of the river section\n",
    "ftr[2].a.contents[0]"
   ]
  },
  {
   "cell_type": "code",
   "execution_count": 72,
   "metadata": {},
   "outputs": [
    {
     "data": {
      "text/plain": [
       "'SPRA3'"
      ]
     },
     "execution_count": 72,
     "metadata": {},
     "output_type": "execute_result"
    }
   ],
   "source": [
    "# another way to get the NOAA code name for that prediction\n",
    "ftr[2].select('.listlw')[0].get_text()"
   ]
  },
  {
   "cell_type": "code",
   "execution_count": 73,
   "metadata": {},
   "outputs": [
    {
     "data": {
      "text/plain": [
       "'San Pedro '"
      ]
     },
     "execution_count": 73,
     "metadata": {},
     "output_type": "execute_result"
    }
   ],
   "source": [
    "# gets the river name\n",
    "ftr[2].select('.listlw')[1].get_text()"
   ]
  },
  {
   "cell_type": "code",
   "execution_count": 74,
   "metadata": {},
   "outputs": [
    {
     "data": {
      "text/plain": [
       "[<td class=\"listrw\">1</td>,\n",
       " <td class=\"listrw\"><img alt=\"\" src=\"./River List_files/river.2.png\"/></td>,\n",
       " <td class=\"listrw\">1</td>,\n",
       " <td class=\"listrw\">07, 02:00</td>,\n",
       " <td class=\"listrw\">2586</td>,\n",
       " <td class=\"listrw\">11.5</td>,\n",
       " <td class=\"listrw\">14.5</td>,\n",
       " <td class=\"listrw\">12.5</td>,\n",
       " <td class=\"listrw\">15050203</td>,\n",
       " <td class=\"listrw\">AZ</td>,\n",
       " <td class=\"listrw\">TWC</td>,\n",
       " <td class=\"listrw\">2820</td>,\n",
       " <td class=\"listrw\">SANPEDRO</td>,\n",
       " <td class=\"listrw\">7</td>]"
      ]
     },
     "execution_count": 74,
     "metadata": {},
     "output_type": "execute_result"
    }
   ],
   "source": [
    "# look for the elevation and river segment number\n",
    "ftr[2].select('.listrw')"
   ]
  },
  {
   "cell_type": "markdown",
   "metadata": {},
   "source": [
    "Looks like we need # 9, 11, 13"
   ]
  },
  {
   "cell_type": "code",
   "execution_count": 75,
   "metadata": {},
   "outputs": [
    {
     "data": {
      "text/plain": [
       "'AZ'"
      ]
     },
     "execution_count": 75,
     "metadata": {},
     "output_type": "execute_result"
    }
   ],
   "source": [
    "# pulls the state from the first row\n",
    "ftr[2].select('.listrw')[9].get_text()"
   ]
  },
  {
   "cell_type": "code",
   "execution_count": 76,
   "metadata": {},
   "outputs": [
    {
     "data": {
      "text/plain": [
       "'2820'"
      ]
     },
     "execution_count": 76,
     "metadata": {},
     "output_type": "execute_result"
    }
   ],
   "source": [
    "# pulls the elevation from the first row\n",
    "ftr[2].select('.listrw')[11].get_text()"
   ]
  },
  {
   "cell_type": "code",
   "execution_count": 77,
   "metadata": {},
   "outputs": [
    {
     "data": {
      "text/plain": [
       "'7'"
      ]
     },
     "execution_count": 77,
     "metadata": {},
     "output_type": "execute_result"
    }
   ],
   "source": [
    "# pulls the river segment # from the first row\n",
    "ftr[2].select('.listrw')[13].get_text()"
   ]
  },
  {
   "cell_type": "code",
   "execution_count": 78,
   "metadata": {},
   "outputs": [
    {
     "name": "stdout",
     "output_type": "stream",
     "text": [
      "SPRA3 San Pedro  AZ 2820 7\n"
     ]
    }
   ],
   "source": [
    "# let's try them all at once\n",
    "print(ftr[2].select('.listlw')[0].get_text(), ftr[2].select('.listlw')[1].get_text(), ftr[2].select('.listrw')[9].get_text(), ftr[2].select('.listrw')[11].get_text(), ftr[2].select('.listrw')[13].get_text())"
   ]
  },
  {
   "cell_type": "code",
   "execution_count": 79,
   "metadata": {},
   "outputs": [
    {
     "ename": "IndexError",
     "evalue": "list index out of range",
     "output_type": "error",
     "traceback": [
      "\u001b[1;31m---------------------------------------------------------------------------\u001b[0m",
      "\u001b[1;31mIndexError\u001b[0m                                Traceback (most recent call last)",
      "\u001b[1;32m<ipython-input-79-5462310e4088>\u001b[0m in \u001b[0;36m<module>\u001b[1;34m\u001b[0m\n\u001b[0;32m      1\u001b[0m \u001b[1;31m# let's try it on the next row\u001b[0m\u001b[1;33m\u001b[0m\u001b[1;33m\u001b[0m\u001b[1;33m\u001b[0m\u001b[0m\n\u001b[1;32m----> 2\u001b[1;33m \u001b[0mprint\u001b[0m\u001b[1;33m(\u001b[0m\u001b[0mftr\u001b[0m\u001b[1;33m[\u001b[0m\u001b[1;36m3\u001b[0m\u001b[1;33m]\u001b[0m\u001b[1;33m.\u001b[0m\u001b[0mselect\u001b[0m\u001b[1;33m(\u001b[0m\u001b[1;34m'.listlw'\u001b[0m\u001b[1;33m)\u001b[0m\u001b[1;33m[\u001b[0m\u001b[1;36m0\u001b[0m\u001b[1;33m]\u001b[0m\u001b[1;33m.\u001b[0m\u001b[0mget_text\u001b[0m\u001b[1;33m(\u001b[0m\u001b[1;33m)\u001b[0m\u001b[1;33m,\u001b[0m \u001b[0mftr\u001b[0m\u001b[1;33m[\u001b[0m\u001b[1;36m3\u001b[0m\u001b[1;33m]\u001b[0m\u001b[1;33m.\u001b[0m\u001b[0mselect\u001b[0m\u001b[1;33m(\u001b[0m\u001b[1;34m'.listlw'\u001b[0m\u001b[1;33m)\u001b[0m\u001b[1;33m[\u001b[0m\u001b[1;36m1\u001b[0m\u001b[1;33m]\u001b[0m\u001b[1;33m.\u001b[0m\u001b[0mget_text\u001b[0m\u001b[1;33m(\u001b[0m\u001b[1;33m)\u001b[0m\u001b[1;33m,\u001b[0m \u001b[0mftr\u001b[0m\u001b[1;33m[\u001b[0m\u001b[1;36m3\u001b[0m\u001b[1;33m]\u001b[0m\u001b[1;33m.\u001b[0m\u001b[0mselect\u001b[0m\u001b[1;33m(\u001b[0m\u001b[1;34m'.listrw'\u001b[0m\u001b[1;33m)\u001b[0m\u001b[1;33m[\u001b[0m\u001b[1;36m9\u001b[0m\u001b[1;33m]\u001b[0m\u001b[1;33m.\u001b[0m\u001b[0mget_text\u001b[0m\u001b[1;33m(\u001b[0m\u001b[1;33m)\u001b[0m\u001b[1;33m,\u001b[0m \u001b[0mftr\u001b[0m\u001b[1;33m[\u001b[0m\u001b[1;36m3\u001b[0m\u001b[1;33m]\u001b[0m\u001b[1;33m.\u001b[0m\u001b[0mselect\u001b[0m\u001b[1;33m(\u001b[0m\u001b[1;34m'.listrw'\u001b[0m\u001b[1;33m)\u001b[0m\u001b[1;33m[\u001b[0m\u001b[1;36m11\u001b[0m\u001b[1;33m]\u001b[0m\u001b[1;33m.\u001b[0m\u001b[0mget_text\u001b[0m\u001b[1;33m(\u001b[0m\u001b[1;33m)\u001b[0m\u001b[1;33m,\u001b[0m \u001b[0mftr\u001b[0m\u001b[1;33m[\u001b[0m\u001b[1;36m3\u001b[0m\u001b[1;33m]\u001b[0m\u001b[1;33m.\u001b[0m\u001b[0mselect\u001b[0m\u001b[1;33m(\u001b[0m\u001b[1;34m'.listrw'\u001b[0m\u001b[1;33m)\u001b[0m\u001b[1;33m[\u001b[0m\u001b[1;36m13\u001b[0m\u001b[1;33m]\u001b[0m\u001b[1;33m.\u001b[0m\u001b[0mget_text\u001b[0m\u001b[1;33m(\u001b[0m\u001b[1;33m)\u001b[0m\u001b[1;33m)\u001b[0m\u001b[1;33m\u001b[0m\u001b[1;33m\u001b[0m\u001b[0m\n\u001b[0m",
      "\u001b[1;31mIndexError\u001b[0m: list index out of range"
     ]
    }
   ],
   "source": [
    "# let's try it on the next row\n",
    "print(ftr[3].select('.listlw')[0].get_text(), ftr[3].select('.listlw')[1].get_text(), ftr[3].select('.listrw')[9].get_text(), ftr[3].select('.listrw')[11].get_text(), ftr[3].select('.listrw')[13].get_text())"
   ]
  },
  {
   "cell_type": "markdown",
   "metadata": {},
   "source": [
    "That didn't work because some of the columns are missing a class that was contained in the first row. It's probably better to just count off from the number of table data elements. Let's try that"
   ]
  },
  {
   "cell_type": "code",
   "execution_count": 80,
   "metadata": {},
   "outputs": [
    {
     "data": {
      "text/plain": [
       "'SPRA3'"
      ]
     },
     "execution_count": 80,
     "metadata": {},
     "output_type": "execute_result"
    }
   ],
   "source": [
    "# try using the td tag to pull data - the NOAA gauge\n",
    "ftr[2].select('td')[1].get_text()"
   ]
  },
  {
   "cell_type": "code",
   "execution_count": 83,
   "metadata": {},
   "outputs": [
    {
     "data": {
      "text/plain": [
       "17"
      ]
     },
     "execution_count": 83,
     "metadata": {},
     "output_type": "execute_result"
    }
   ],
   "source": [
    "# look at the length of that row data\n",
    "len(ftr[2].select('td'))"
   ]
  },
  {
   "cell_type": "code",
   "execution_count": 84,
   "metadata": {},
   "outputs": [
    {
     "data": {
      "text/plain": [
       "17"
      ]
     },
     "execution_count": 84,
     "metadata": {},
     "output_type": "execute_result"
    }
   ],
   "source": [
    "# look at the length of the next row\n",
    "len(ftr[3].select('td'))"
   ]
  },
  {
   "cell_type": "markdown",
   "metadata": {},
   "source": [
    "That works out extremely well."
   ]
  },
  {
   "cell_type": "code",
   "execution_count": 85,
   "metadata": {},
   "outputs": [
    {
     "data": {
      "text/plain": [
       "[<td class=\"listrw\">1</td>,\n",
       " <td class=\"listlw\"><a href=\"https://www.cbrfc.noaa.gov/station/flowplot/flowplot.cgi?SPRA3\">SPRA3</a></td>,\n",
       " <td class=\"listlw\">San Pedro </td>,\n",
       " <td class=\"listlw\"> Redington</td>,\n",
       " <td class=\"listrw\"><img alt=\"\" src=\"./River List_files/river.2.png\"/></td>,\n",
       " <td class=\"listrw\">1</td>,\n",
       " <td class=\"listrw\">07, 02:00</td>,\n",
       " <td class=\"listrw\">2586</td>,\n",
       " <td class=\"listrw\">11.5</td>,\n",
       " <td class=\"listrw\">14.5</td>,\n",
       " <td class=\"listrw\">12.5</td>,\n",
       " <td class=\"listrw\">15050203</td>,\n",
       " <td class=\"listrw\">AZ</td>,\n",
       " <td class=\"listrw\">TWC</td>,\n",
       " <td class=\"listrw\">2820</td>,\n",
       " <td class=\"listrw\">SANPEDRO</td>,\n",
       " <td class=\"listrw\">7</td>]"
      ]
     },
     "execution_count": 85,
     "metadata": {},
     "output_type": "execute_result"
    }
   ],
   "source": [
    "ftr[2].select('td')"
   ]
  },
  {
   "cell_type": "code",
   "execution_count": 86,
   "metadata": {},
   "outputs": [
    {
     "name": "stdout",
     "output_type": "stream",
     "text": [
      "SPRA3 San Pedro  2586 AZ 2820 7\n"
     ]
    }
   ],
   "source": [
    "# It looks like we will need index 1, 2, 7, 12, 14, 16\n",
    "# let's try that on both the first and second rows\n",
    "print(ftr[2].select('td')[1].get_text(), ftr[2].select('td')[2].get_text(), ftr[2].select('td')[7].get_text(), ftr[2].select('td')[12].get_text(), ftr[2].select('td')[14].get_text(), ftr[2].select('td')[16].get_text())"
   ]
  },
  {
   "cell_type": "code",
   "execution_count": 87,
   "metadata": {},
   "outputs": [
    {
     "name": "stdout",
     "output_type": "stream",
     "text": [
      "MAOA3 Acdc  0 AZ 1230 6\n"
     ]
    }
   ],
   "source": [
    "# that's what we want. Let's test it on the next row\n",
    "print(ftr[3].select('td')[1].get_text(), ftr[3].select('td')[2].get_text(), ftr[3].select('td')[7].get_text(), ftr[3].select('td')[12].get_text(), ftr[3].select('td')[14].get_text(), ftr[3].select('td')[16].get_text())"
   ]
  },
  {
   "cell_type": "code",
   "execution_count": 94,
   "metadata": {},
   "outputs": [],
   "source": [
    "# that worked great! Let's great it in a loop\n",
    "# start at line 2 and skip every 20 lines (or fine some condition to ski that line)"
   ]
  },
  {
   "cell_type": "code",
   "execution_count": 92,
   "metadata": {},
   "outputs": [],
   "source": [
    "# loop through the first 20 rows\n",
    "noaa_data = [];\n",
    "for i in range(2,22):\n",
    "    noaa = ftr[i].select('td')[1].get_text()\n",
    "    ri = ftr[i].select('td')[2].get_text()\n",
    "    st = ftr[i].select('td')[12].get_text()\n",
    "    El = ftr[i].select('td')[14].get_text()\n",
    "    Seg = ftr[i].select('td')[16].get_text()\n",
    "    noaa_data.append([noaa, ri, st, El, Seg])"
   ]
  },
  {
   "cell_type": "code",
   "execution_count": 95,
   "metadata": {},
   "outputs": [],
   "source": []
  },
  {
   "cell_type": "code",
   "execution_count": 96,
   "metadata": {},
   "outputs": [
    {
     "data": {
      "text/html": [
       "<div>\n",
       "<style scoped>\n",
       "    .dataframe tbody tr th:only-of-type {\n",
       "        vertical-align: middle;\n",
       "    }\n",
       "\n",
       "    .dataframe tbody tr th {\n",
       "        vertical-align: top;\n",
       "    }\n",
       "\n",
       "    .dataframe thead th {\n",
       "        text-align: right;\n",
       "    }\n",
       "</style>\n",
       "<table border=\"1\" class=\"dataframe\">\n",
       "  <thead>\n",
       "    <tr style=\"text-align: right;\">\n",
       "      <th></th>\n",
       "      <th>NOAA_gauge</th>\n",
       "      <th>River</th>\n",
       "      <th>State</th>\n",
       "      <th>Elevation</th>\n",
       "      <th>Segment</th>\n",
       "    </tr>\n",
       "  </thead>\n",
       "  <tbody>\n",
       "    <tr>\n",
       "      <th>0</th>\n",
       "      <td>SPRA3</td>\n",
       "      <td>San Pedro</td>\n",
       "      <td>AZ</td>\n",
       "      <td>2820</td>\n",
       "      <td>7</td>\n",
       "    </tr>\n",
       "    <tr>\n",
       "      <th>1</th>\n",
       "      <td>MAOA3</td>\n",
       "      <td>Acdc</td>\n",
       "      <td>AZ</td>\n",
       "      <td>1230</td>\n",
       "      <td>6</td>\n",
       "    </tr>\n",
       "    <tr>\n",
       "      <th>2</th>\n",
       "      <td>MHFA3</td>\n",
       "      <td>Acdc</td>\n",
       "      <td>AZ</td>\n",
       "      <td>1225</td>\n",
       "      <td>7</td>\n",
       "    </tr>\n",
       "    <tr>\n",
       "      <th>3</th>\n",
       "      <td>MSXA3</td>\n",
       "      <td>Acdc</td>\n",
       "      <td>AZ</td>\n",
       "      <td>1220</td>\n",
       "      <td>8</td>\n",
       "    </tr>\n",
       "    <tr>\n",
       "      <th>4</th>\n",
       "      <td>ACHA3</td>\n",
       "      <td>Agua Caliente Wash</td>\n",
       "      <td>AZ</td>\n",
       "      <td>2588</td>\n",
       "      <td>2</td>\n",
       "    </tr>\n",
       "    <tr>\n",
       "      <th>5</th>\n",
       "      <td>AFHA3</td>\n",
       "      <td>Agua Fria</td>\n",
       "      <td>AZ</td>\n",
       "      <td>4400</td>\n",
       "      <td>17</td>\n",
       "    </tr>\n",
       "    <tr>\n",
       "      <th>6</th>\n",
       "      <td>AFMA3</td>\n",
       "      <td>Agua Fria</td>\n",
       "      <td>AZ</td>\n",
       "      <td>3434</td>\n",
       "      <td>18</td>\n",
       "    </tr>\n",
       "    <tr>\n",
       "      <th>7</th>\n",
       "      <td>AFRA3</td>\n",
       "      <td>Agua Fria</td>\n",
       "      <td>AZ</td>\n",
       "      <td>1800</td>\n",
       "      <td>19</td>\n",
       "    </tr>\n",
       "    <tr>\n",
       "      <th>8</th>\n",
       "      <td>AVOA3</td>\n",
       "      <td>Agua Fria</td>\n",
       "      <td>AZ</td>\n",
       "      <td>970</td>\n",
       "      <td>26</td>\n",
       "    </tr>\n",
       "    <tr>\n",
       "      <th>9</th>\n",
       "      <td>MAFA3</td>\n",
       "      <td>Agua Fria</td>\n",
       "      <td>AZ</td>\n",
       "      <td>1115</td>\n",
       "      <td>24</td>\n",
       "    </tr>\n",
       "    <tr>\n",
       "      <th>10</th>\n",
       "      <td>ATPA3</td>\n",
       "      <td>Altar Wash</td>\n",
       "      <td>AZ</td>\n",
       "      <td>2975</td>\n",
       "      <td>24</td>\n",
       "    </tr>\n",
       "    <tr>\n",
       "      <th>11</th>\n",
       "      <td>AFPU1</td>\n",
       "      <td>American Fork</td>\n",
       "      <td>UT</td>\n",
       "      <td>5950</td>\n",
       "      <td>11</td>\n",
       "    </tr>\n",
       "    <tr>\n",
       "      <th>12</th>\n",
       "      <td>ARFN5</td>\n",
       "      <td>Animas</td>\n",
       "      <td>NM</td>\n",
       "      <td>5280</td>\n",
       "      <td>18</td>\n",
       "    </tr>\n",
       "    <tr>\n",
       "      <th>13</th>\n",
       "      <td>CDRC2</td>\n",
       "      <td>Animas</td>\n",
       "      <td>CO</td>\n",
       "      <td>5960</td>\n",
       "      <td>17</td>\n",
       "    </tr>\n",
       "    <tr>\n",
       "      <th>14</th>\n",
       "      <td>DGOC2</td>\n",
       "      <td>Animas</td>\n",
       "      <td>CO</td>\n",
       "      <td>6437</td>\n",
       "      <td>13</td>\n",
       "    </tr>\n",
       "    <tr>\n",
       "      <th>15</th>\n",
       "      <td>DRGC2</td>\n",
       "      <td>Animas</td>\n",
       "      <td>CO</td>\n",
       "      <td>6502</td>\n",
       "      <td>12</td>\n",
       "    </tr>\n",
       "    <tr>\n",
       "      <th>16</th>\n",
       "      <td>ACSC2</td>\n",
       "      <td>Anthracite Ck</td>\n",
       "      <td>CO</td>\n",
       "      <td>6280</td>\n",
       "      <td>24</td>\n",
       "    </tr>\n",
       "    <tr>\n",
       "      <th>17</th>\n",
       "      <td>ARVA3</td>\n",
       "      <td>Aravaipa Ck</td>\n",
       "      <td>AZ</td>\n",
       "      <td>2345</td>\n",
       "      <td>8</td>\n",
       "    </tr>\n",
       "    <tr>\n",
       "      <th>18</th>\n",
       "      <td>ACJU1</td>\n",
       "      <td>Ashley Ck</td>\n",
       "      <td>UT</td>\n",
       "      <td>4740</td>\n",
       "      <td>4</td>\n",
       "    </tr>\n",
       "    <tr>\n",
       "      <th>19</th>\n",
       "      <td>ASHU1</td>\n",
       "      <td>Ashley Ck</td>\n",
       "      <td>UT</td>\n",
       "      <td>6231</td>\n",
       "      <td>3</td>\n",
       "    </tr>\n",
       "  </tbody>\n",
       "</table>\n",
       "</div>"
      ],
      "text/plain": [
       "   NOAA_gauge                River State Elevation Segment\n",
       "0       SPRA3           San Pedro     AZ      2820       7\n",
       "1       MAOA3                Acdc     AZ      1230       6\n",
       "2       MHFA3                Acdc     AZ      1225       7\n",
       "3       MSXA3                Acdc     AZ      1220       8\n",
       "4       ACHA3  Agua Caliente Wash     AZ      2588       2\n",
       "5       AFHA3           Agua Fria     AZ      4400      17\n",
       "6       AFMA3           Agua Fria     AZ      3434      18\n",
       "7       AFRA3           Agua Fria     AZ      1800      19\n",
       "8       AVOA3           Agua Fria     AZ       970      26\n",
       "9       MAFA3           Agua Fria     AZ      1115      24\n",
       "10      ATPA3          Altar Wash     AZ      2975      24\n",
       "11      AFPU1       American Fork     UT      5950      11\n",
       "12      ARFN5              Animas     NM      5280      18\n",
       "13      CDRC2              Animas     CO      5960      17\n",
       "14      DGOC2              Animas     CO      6437      13\n",
       "15      DRGC2              Animas     CO      6502      12\n",
       "16      ACSC2       Anthracite Ck     CO      6280      24\n",
       "17      ARVA3         Aravaipa Ck     AZ      2345       8\n",
       "18      ACJU1           Ashley Ck     UT      4740       4\n",
       "19      ASHU1           Ashley Ck     UT      6231       3"
      ]
     },
     "execution_count": 96,
     "metadata": {},
     "output_type": "execute_result"
    }
   ],
   "source": [
    "df"
   ]
  },
  {
   "cell_type": "code",
   "execution_count": 131,
   "metadata": {},
   "outputs": [
    {
     "data": {
      "text/plain": [
       "'NWS ID'"
      ]
     },
     "execution_count": 131,
     "metadata": {},
     "output_type": "execute_result"
    }
   ],
   "source": [
    "# let's see what things look like on line - skip lines 22 and 23\n",
    "ftr[177].select('td')[1].get_text()"
   ]
  },
  {
   "cell_type": "code",
   "execution_count": null,
   "metadata": {},
   "outputs": [],
   "source": [
    "#  skip index 22 and 23\n",
    "# start again on 24 to 43\n",
    "# skip 44 and 45\n",
    "# start again on 46 to 65\n",
    "# skip 66 and 67\n",
    "# start again on 68 to 87\n",
    "# skip 88 and 89\n",
    "# start again on 90 to 109\n",
    "# skip 110 and 111\n",
    "# start again on 112 to 131\n",
    "# skip 132 and 133\n",
    "# start again on 134 to 153\n",
    "# skip 154 and 155\n",
    "# start again on 156 to 175\n",
    "# skip 176 and 177"
   ]
  },
  {
   "cell_type": "markdown",
   "metadata": {},
   "source": [
    "This also could be written in 2 other ways that are more elegant:\n",
    "- detect when we reach a row that doesn't match the data we want\n",
    "- it loops every 22 rows; skip 2 rows, then take input from the next 20 rows"
   ]
  },
  {
   "cell_type": "code",
   "execution_count": 138,
   "metadata": {},
   "outputs": [
    {
     "data": {
      "text/plain": [
       "[0,\n",
       " 22,\n",
       " 44,\n",
       " 66,\n",
       " 88,\n",
       " 110,\n",
       " 132,\n",
       " 154,\n",
       " 176,\n",
       " 198,\n",
       " 220,\n",
       " 242,\n",
       " 264,\n",
       " 286,\n",
       " 308,\n",
       " 330,\n",
       " 352,\n",
       " 374,\n",
       " 396,\n",
       " 418,\n",
       " 440,\n",
       " 462,\n",
       " 484,\n",
       " 506,\n",
       " 1,\n",
       " 23,\n",
       " 45,\n",
       " 67,\n",
       " 89,\n",
       " 111,\n",
       " 133,\n",
       " 155,\n",
       " 177,\n",
       " 199,\n",
       " 221,\n",
       " 243,\n",
       " 265,\n",
       " 287,\n",
       " 309,\n",
       " 331,\n",
       " 353,\n",
       " 375,\n",
       " 397,\n",
       " 419,\n",
       " 441,\n",
       " 463,\n",
       " 485,\n",
       " 507]"
      ]
     },
     "execution_count": 138,
     "metadata": {},
     "output_type": "execute_result"
    }
   ],
   "source": [
    "skip = [22 * x for x in range(24)]\n",
    "skip1 = [1+ 22 * x for x in range(24)]\n",
    "skip += skip1\n",
    "skip"
   ]
  },
  {
   "cell_type": "code",
   "execution_count": 140,
   "metadata": {},
   "outputs": [
    {
     "data": {
      "text/html": [
       "<div>\n",
       "<style scoped>\n",
       "    .dataframe tbody tr th:only-of-type {\n",
       "        vertical-align: middle;\n",
       "    }\n",
       "\n",
       "    .dataframe tbody tr th {\n",
       "        vertical-align: top;\n",
       "    }\n",
       "\n",
       "    .dataframe thead th {\n",
       "        text-align: right;\n",
       "    }\n",
       "</style>\n",
       "<table border=\"1\" class=\"dataframe\">\n",
       "  <thead>\n",
       "    <tr style=\"text-align: right;\">\n",
       "      <th></th>\n",
       "      <th>NOAA_gauge</th>\n",
       "      <th>River</th>\n",
       "      <th>State</th>\n",
       "      <th>Elevation</th>\n",
       "      <th>Segment</th>\n",
       "    </tr>\n",
       "  </thead>\n",
       "  <tbody>\n",
       "    <tr>\n",
       "      <th>0</th>\n",
       "      <td>SPRA3</td>\n",
       "      <td>San Pedro</td>\n",
       "      <td>AZ</td>\n",
       "      <td>2820</td>\n",
       "      <td>7</td>\n",
       "    </tr>\n",
       "    <tr>\n",
       "      <th>1</th>\n",
       "      <td>MAOA3</td>\n",
       "      <td>Acdc</td>\n",
       "      <td>AZ</td>\n",
       "      <td>1230</td>\n",
       "      <td>6</td>\n",
       "    </tr>\n",
       "    <tr>\n",
       "      <th>2</th>\n",
       "      <td>MHFA3</td>\n",
       "      <td>Acdc</td>\n",
       "      <td>AZ</td>\n",
       "      <td>1225</td>\n",
       "      <td>7</td>\n",
       "    </tr>\n",
       "    <tr>\n",
       "      <th>3</th>\n",
       "      <td>MSXA3</td>\n",
       "      <td>Acdc</td>\n",
       "      <td>AZ</td>\n",
       "      <td>1220</td>\n",
       "      <td>8</td>\n",
       "    </tr>\n",
       "    <tr>\n",
       "      <th>4</th>\n",
       "      <td>ACHA3</td>\n",
       "      <td>Agua Caliente Wash</td>\n",
       "      <td>AZ</td>\n",
       "      <td>2588</td>\n",
       "      <td>2</td>\n",
       "    </tr>\n",
       "    <tr>\n",
       "      <th>...</th>\n",
       "      <td>...</td>\n",
       "      <td>...</td>\n",
       "      <td>...</td>\n",
       "      <td>...</td>\n",
       "      <td>...</td>\n",
       "    </tr>\n",
       "    <tr>\n",
       "      <th>454</th>\n",
       "      <td>ZUIN5</td>\n",
       "      <td>Zuni</td>\n",
       "      <td>NM</td>\n",
       "      <td>6450</td>\n",
       "      <td>1</td>\n",
       "    </tr>\n",
       "    <tr>\n",
       "      <th>455</th>\n",
       "      <td>ASRU1</td>\n",
       "      <td>Ash Creek Reservoir</td>\n",
       "      <td>UT</td>\n",
       "      <td>4700</td>\n",
       "      <td>6</td>\n",
       "    </tr>\n",
       "    <tr>\n",
       "      <th>456</th>\n",
       "      <td>GVRU1</td>\n",
       "      <td>Grass Valley Reservoir</td>\n",
       "      <td>UT</td>\n",
       "      <td>6870</td>\n",
       "      <td>13</td>\n",
       "    </tr>\n",
       "    <tr>\n",
       "      <th>457</th>\n",
       "      <td>RCYA3</td>\n",
       "      <td>Ruckers Canyon</td>\n",
       "      <td>AZ</td>\n",
       "      <td>4997</td>\n",
       "      <td>4</td>\n",
       "    </tr>\n",
       "    <tr>\n",
       "      <th>458</th>\n",
       "      <td>YWLA3</td>\n",
       "      <td>Watson Lake</td>\n",
       "      <td>AZ</td>\n",
       "      <td>5166</td>\n",
       "      <td>5</td>\n",
       "    </tr>\n",
       "  </tbody>\n",
       "</table>\n",
       "<p>459 rows × 5 columns</p>\n",
       "</div>"
      ],
      "text/plain": [
       "    NOAA_gauge                   River State Elevation Segment\n",
       "0        SPRA3              San Pedro     AZ      2820       7\n",
       "1        MAOA3                   Acdc     AZ      1230       6\n",
       "2        MHFA3                   Acdc     AZ      1225       7\n",
       "3        MSXA3                   Acdc     AZ      1220       8\n",
       "4        ACHA3     Agua Caliente Wash     AZ      2588       2\n",
       "..         ...                     ...   ...       ...     ...\n",
       "454      ZUIN5                   Zuni     NM      6450       1\n",
       "455      ASRU1     Ash Creek Reservoir    UT      4700       6\n",
       "456      GVRU1  Grass Valley Reservoir    UT      6870      13\n",
       "457      RCYA3          Ruckers Canyon    AZ      4997       4\n",
       "458      YWLA3             Watson Lake    AZ      5166       5\n",
       "\n",
       "[459 rows x 5 columns]"
      ]
     },
     "execution_count": 140,
     "metadata": {},
     "output_type": "execute_result"
    }
   ],
   "source": [
    "# loop through the first 20 rows\n",
    "noaa_data = [];\n",
    "for i in range(2,505):\n",
    "    if i not in skip:\n",
    "        noaa = ftr[i].select('td')[1].get_text()\n",
    "        ri = ftr[i].select('td')[2].get_text()\n",
    "        st = ftr[i].select('td')[12].get_text()\n",
    "        El = ftr[i].select('td')[14].get_text()\n",
    "        Seg = ftr[i].select('td')[16].get_text()\n",
    "        noaa_data.append([noaa, ri, st, El, Seg])\n",
    "col_names = ['NOAA_gauge', 'River', 'State', 'Elevation', 'Segment']\n",
    "df = pd.DataFrame(noaa_data, columns=col_names)\n",
    "df"
   ]
  },
  {
   "cell_type": "markdown",
   "metadata": {},
   "source": [
    "### That's exactly what I want!!!!\n",
    "Let's export that to CSV to save that good work."
   ]
  },
  {
   "cell_type": "code",
   "execution_count": 141,
   "metadata": {},
   "outputs": [
    {
     "ename": "NameError",
     "evalue": "name 'os' is not defined",
     "output_type": "error",
     "traceback": [
      "\u001b[1;31m---------------------------------------------------------------------------\u001b[0m",
      "\u001b[1;31mNameError\u001b[0m                                 Traceback (most recent call last)",
      "\u001b[1;32m<ipython-input-141-43a8229a595b>\u001b[0m in \u001b[0;36m<module>\u001b[1;34m\u001b[0m\n\u001b[0;32m      1\u001b[0m \u001b[1;31m# C:\\Springboard\\Github\\gauge_info\u001b[0m\u001b[1;33m\u001b[0m\u001b[1;33m\u001b[0m\u001b[1;33m\u001b[0m\u001b[0m\n\u001b[0;32m      2\u001b[0m \u001b[0mpath\u001b[0m\u001b[1;33m=\u001b[0m\u001b[1;34m\"C:\\Springboard\\Github\\gauge_info\"\u001b[0m\u001b[1;33m\u001b[0m\u001b[1;33m\u001b[0m\u001b[0m\n\u001b[1;32m----> 3\u001b[1;33m \u001b[0mos\u001b[0m\u001b[1;33m.\u001b[0m\u001b[0mchdir\u001b[0m\u001b[1;33m(\u001b[0m\u001b[0mpath\u001b[0m\u001b[1;33m)\u001b[0m\u001b[1;33m\u001b[0m\u001b[1;33m\u001b[0m\u001b[0m\n\u001b[0m",
      "\u001b[1;31mNameError\u001b[0m: name 'os' is not defined"
     ]
    }
   ],
   "source": [
    "# C:\\Springboard\\Github\\gauge_info\n",
    "path=\"C:\\Springboard\\Github\\gauge_info\"\n",
    "os.chdir(path)"
   ]
  },
  {
   "cell_type": "code",
   "execution_count": 143,
   "metadata": {},
   "outputs": [],
   "source": [
    "df.to_pickle(\"NOAA_basic.pkl\")\n",
    "df.to_csv(\"NOAA_basic.csv\")"
   ]
  },
  {
   "cell_type": "markdown",
   "metadata": {},
   "source": [
    "In next notebook: \n",
    "- iterated through all of the NOAA prediction pages\n",
    "- pull link on the far right to USGS gauge\n",
    "- add that gauge to DF\n",
    "- go to USGS page\n",
    "- pull long and lat for that gauge"
   ]
  },
  {
   "cell_type": "code",
   "execution_count": null,
   "metadata": {},
   "outputs": [],
   "source": []
  }
 ],
 "metadata": {
  "kernelspec": {
   "display_name": "Python 3",
   "language": "python",
   "name": "python3"
  },
  "language_info": {
   "codemirror_mode": {
    "name": "ipython",
    "version": 3
   },
   "file_extension": ".py",
   "mimetype": "text/x-python",
   "name": "python",
   "nbconvert_exporter": "python",
   "pygments_lexer": "ipython3",
   "version": "3.7.6"
  }
 },
 "nbformat": 4,
 "nbformat_minor": 4
}
