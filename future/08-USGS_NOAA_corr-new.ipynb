{
 "cells": [
  {
   "cell_type": "markdown",
   "metadata": {},
   "source": [
    "In this notebook: <br>\n",
    "- Let's pull the CSV that corelated the NOAA to USGS\n",
    "- pull the CSV of all the USGS gauges that we use currently in rivermaps.co (not future version)\n",
    "- Find any items that are on that list but have a NOAA prediction\n",
    "- Find list of USGS that are in current version, but not correlated with NOAA prediction - currently\n",
    "- add those to the NOAA to USGS CSV so we can expand our prediction reach"
   ]
  },
  {
   "cell_type": "code",
   "execution_count": 1,
   "metadata": {},
   "outputs": [],
   "source": [
    "import pandas as pd\n",
    "from bs4 import BeautifulSoup\n",
    "import os\n",
    "import requests\n",
    "import time"
   ]
  },
  {
   "cell_type": "code",
   "execution_count": 2,
   "metadata": {},
   "outputs": [],
   "source": [
    "import pickle\n",
    "path=\"C:\\Springboard\\Github\\gauge_info\"\n",
    "os.chdir(path)"
   ]
  },
  {
   "cell_type": "markdown",
   "metadata": {},
   "source": [
    "# Dataframe that contains all of the NOAA abbreviations and their corresponding USGS gage"
   ]
  },
  {
   "cell_type": "code",
   "execution_count": 3,
   "metadata": {},
   "outputs": [
    {
     "data": {
      "text/html": [
       "<div>\n",
       "<style scoped>\n",
       "    .dataframe tbody tr th:only-of-type {\n",
       "        vertical-align: middle;\n",
       "    }\n",
       "\n",
       "    .dataframe tbody tr th {\n",
       "        vertical-align: top;\n",
       "    }\n",
       "\n",
       "    .dataframe thead th {\n",
       "        text-align: right;\n",
       "    }\n",
       "</style>\n",
       "<table border=\"1\" class=\"dataframe\">\n",
       "  <thead>\n",
       "    <tr style=\"text-align: right;\">\n",
       "      <th></th>\n",
       "      <th>NOAA_gauge</th>\n",
       "      <th>River</th>\n",
       "      <th>State</th>\n",
       "      <th>Elevation</th>\n",
       "      <th>Segment</th>\n",
       "      <th>USGS_link</th>\n",
       "      <th>usgs</th>\n",
       "    </tr>\n",
       "  </thead>\n",
       "  <tbody>\n",
       "    <tr>\n",
       "      <th>0</th>\n",
       "      <td>SPRA3</td>\n",
       "      <td>San Pedro</td>\n",
       "      <td>AZ</td>\n",
       "      <td>2820</td>\n",
       "      <td>7</td>\n",
       "      <td>http://waterdata.usgs.gov/az/nwis/uv?09472050</td>\n",
       "      <td>09472050</td>\n",
       "    </tr>\n",
       "    <tr>\n",
       "      <th>1</th>\n",
       "      <td>MAOA3</td>\n",
       "      <td>Acdc</td>\n",
       "      <td>AZ</td>\n",
       "      <td>1230</td>\n",
       "      <td>6</td>\n",
       "      <td>0</td>\n",
       "      <td>0</td>\n",
       "    </tr>\n",
       "    <tr>\n",
       "      <th>2</th>\n",
       "      <td>MHFA3</td>\n",
       "      <td>Acdc</td>\n",
       "      <td>AZ</td>\n",
       "      <td>1225</td>\n",
       "      <td>7</td>\n",
       "      <td>0</td>\n",
       "      <td>0</td>\n",
       "    </tr>\n",
       "    <tr>\n",
       "      <th>3</th>\n",
       "      <td>MSXA3</td>\n",
       "      <td>Acdc</td>\n",
       "      <td>AZ</td>\n",
       "      <td>1220</td>\n",
       "      <td>8</td>\n",
       "      <td>0</td>\n",
       "      <td>0</td>\n",
       "    </tr>\n",
       "    <tr>\n",
       "      <th>4</th>\n",
       "      <td>ACHA3</td>\n",
       "      <td>Agua Caliente Wash</td>\n",
       "      <td>AZ</td>\n",
       "      <td>2588</td>\n",
       "      <td>2</td>\n",
       "      <td>0</td>\n",
       "      <td>0</td>\n",
       "    </tr>\n",
       "  </tbody>\n",
       "</table>\n",
       "</div>"
      ],
      "text/plain": [
       "  NOAA_gauge                River State Elevation Segment  \\\n",
       "0      SPRA3           San Pedro     AZ      2820       7   \n",
       "1      MAOA3                Acdc     AZ      1230       6   \n",
       "2      MHFA3                Acdc     AZ      1225       7   \n",
       "3      MSXA3                Acdc     AZ      1220       8   \n",
       "4      ACHA3  Agua Caliente Wash     AZ      2588       2   \n",
       "\n",
       "                                       USGS_link      usgs  \n",
       "0  http://waterdata.usgs.gov/az/nwis/uv?09472050  09472050  \n",
       "1                                              0         0  \n",
       "2                                              0         0  \n",
       "3                                              0         0  \n",
       "4                                              0         0  "
      ]
     },
     "execution_count": 3,
     "metadata": {},
     "output_type": "execute_result"
    }
   ],
   "source": [
    "# load DF with NOAA and USGS for all gauges in Colorado River Basin that have predictions in NOAA\n",
    "df = pickle.load(open(\"NOAA_USGS.pkl\", \"rb\"))\n",
    "df.head()"
   ]
  },
  {
   "cell_type": "markdown",
   "metadata": {},
   "source": [
    "## CSV that corelated the NOAA to USGS - currently used in production at /future"
   ]
  },
  {
   "cell_type": "code",
   "execution_count": 4,
   "metadata": {},
   "outputs": [
    {
     "data": {
      "text/html": [
       "<div>\n",
       "<style scoped>\n",
       "    .dataframe tbody tr th:only-of-type {\n",
       "        vertical-align: middle;\n",
       "    }\n",
       "\n",
       "    .dataframe tbody tr th {\n",
       "        vertical-align: top;\n",
       "    }\n",
       "\n",
       "    .dataframe thead th {\n",
       "        text-align: right;\n",
       "    }\n",
       "</style>\n",
       "<table border=\"1\" class=\"dataframe\">\n",
       "  <thead>\n",
       "    <tr style=\"text-align: right;\">\n",
       "      <th></th>\n",
       "      <th>USGS</th>\n",
       "      <th>NOAA</th>\n",
       "    </tr>\n",
       "  </thead>\n",
       "  <tbody>\n",
       "    <tr>\n",
       "      <th>0</th>\n",
       "      <td>09067020</td>\n",
       "      <td>EALC2</td>\n",
       "    </tr>\n",
       "    <tr>\n",
       "      <th>1</th>\n",
       "      <td>09057500</td>\n",
       "      <td>BGMC2</td>\n",
       "    </tr>\n",
       "    <tr>\n",
       "      <th>2</th>\n",
       "      <td>09066325</td>\n",
       "      <td>GRVC2</td>\n",
       "    </tr>\n",
       "    <tr>\n",
       "      <th>3</th>\n",
       "      <td>09070000</td>\n",
       "      <td>GPSC2</td>\n",
       "    </tr>\n",
       "    <tr>\n",
       "      <th>4</th>\n",
       "      <td>09070500</td>\n",
       "      <td>EGLC2</td>\n",
       "    </tr>\n",
       "    <tr>\n",
       "      <th>...</th>\n",
       "      <td>...</td>\n",
       "      <td>...</td>\n",
       "    </tr>\n",
       "    <tr>\n",
       "      <th>109</th>\n",
       "      <td>09504000</td>\n",
       "      <td>VDCA3</td>\n",
       "    </tr>\n",
       "    <tr>\n",
       "      <th>110</th>\n",
       "      <td>09508500</td>\n",
       "      <td>VDTA3</td>\n",
       "    </tr>\n",
       "    <tr>\n",
       "      <th>111</th>\n",
       "      <td>10130500</td>\n",
       "      <td>CLLU1</td>\n",
       "    </tr>\n",
       "    <tr>\n",
       "      <th>112</th>\n",
       "      <td>10128500</td>\n",
       "      <td>OAWU1</td>\n",
       "    </tr>\n",
       "    <tr>\n",
       "      <th>113</th>\n",
       "      <td>09505200</td>\n",
       "      <td>WBVA3</td>\n",
       "    </tr>\n",
       "  </tbody>\n",
       "</table>\n",
       "<p>114 rows × 2 columns</p>\n",
       "</div>"
      ],
      "text/plain": [
       "         USGS   NOAA\n",
       "0    09067020  EALC2\n",
       "1    09057500  BGMC2\n",
       "2    09066325  GRVC2\n",
       "3    09070000  GPSC2\n",
       "4    09070500  EGLC2\n",
       "..        ...    ...\n",
       "109  09504000  VDCA3\n",
       "110  09508500  VDTA3\n",
       "111  10130500  CLLU1\n",
       "112  10128500  OAWU1\n",
       "113  09505200  WBVA3\n",
       "\n",
       "[114 rows x 2 columns]"
      ]
     },
     "execution_count": 4,
     "metadata": {},
     "output_type": "execute_result"
    }
   ],
   "source": [
    "# load DF with NOAA and USGS that are CURRENTLY used in future forecast - these were put together manually\n",
    "df2 = pd.read_csv(\"USGS_NOAA_new.csv\", names=['USGS', 'NOAA'])\n",
    "df2"
   ]
  },
  {
   "cell_type": "markdown",
   "metadata": {},
   "source": [
    "## List of all USGS (and CO Water) gages - currently used in production REAL-TIME"
   ]
  },
  {
   "cell_type": "code",
   "execution_count": 5,
   "metadata": {},
   "outputs": [],
   "source": [
    "# load list from CSV of all USGS (and CO Water) gauges that are currently used\n",
    "import csv\n",
    "USGS_current = []\n",
    "with open('USGS_list.csv', 'r') as f:\n",
    "    readCSV = csv.reader(f, delimiter=',')\n",
    "    for row in readCSV:\n",
    "        for i in row:\n",
    "            USGS_current.append(i)"
   ]
  },
  {
   "cell_type": "code",
   "execution_count": 6,
   "metadata": {},
   "outputs": [
    {
     "data": {
      "text/plain": [
       "270"
      ]
     },
     "execution_count": 6,
     "metadata": {},
     "output_type": "execute_result"
    }
   ],
   "source": [
    "len(USGS_current)"
   ]
  },
  {
   "cell_type": "markdown",
   "metadata": {},
   "source": [
    "Before we proceed, let's review the data that we do have:\n",
    "1. 459 NOAA sites througout the Colorado River Forecast Basin; we have the correponding USGS gauge for just about all of them. These are stored in df\n",
    "2. 270 USGS (and CO Water) measures that are currently being is in the real-time display of water. These gauges are NOT just from the Colorado River Forecast Basin. These are stored in df2\n",
    "3. 111 NOAA prediction sites that corresponded with USGS gauges. There are in the list USGS_current"
   ]
  },
  {
   "cell_type": "markdown",
   "metadata": {},
   "source": [
    "Next, let's find all of the possible USGS sites (from the 270 currently used on the real time page) that have a corresponding NOAA forecast. "
   ]
  },
  {
   "cell_type": "code",
   "execution_count": 7,
   "metadata": {
    "scrolled": true
   },
   "outputs": [
    {
     "data": {
      "text/plain": [
       "111"
      ]
     },
     "execution_count": 7,
     "metadata": {},
     "output_type": "execute_result"
    }
   ],
   "source": [
    "USGS_in_NOAA = []\n",
    "for g in df['usgs']:\n",
    "    if g in USGS_current:\n",
    "        USGS_in_NOAA.append(g)\n",
    "len(USGS_in_NOAA)"
   ]
  },
  {
   "cell_type": "markdown",
   "metadata": {},
   "source": [
    "That means there are 111 gauges that are in both my current list of gauges and the NOAA predictions. Since, this is more than 86 that I am currently using, I expect to gain 25 gauges that could have predictions. Let's see if that checks out"
   ]
  },
  {
   "cell_type": "markdown",
   "metadata": {},
   "source": [
    "## Find the NOAA predictions that now need to be pulled for the new models."
   ]
  },
  {
   "cell_type": "code",
   "execution_count": 8,
   "metadata": {},
   "outputs": [
    {
     "name": "stdout",
     "output_type": "stream",
     "text": [
      "[('09112500', 'ALEC2'), ('09124500', 'LFGC2'), ('09115500', 'TMCC2'), ('09067020', 'EALC2'), ('09024000', 'FRWC2'), ('09085000', 'GWSC2'), ('09073400', 'APNC2'), ('09070000', 'GPSC2'), ('09110000', 'ALTC2'), ('09342500', 'PSPC2'), ('09034250', 'CAWC2'), ('09085100', 'GCOC2'), ('09166500', 'DOLC2'), ('10105900', 'PRZU1'), ('09237500', 'YMSC2'), ('09107000', 'TRAC2'), ('09065100', 'CSSC2'), ('09081600', 'RCYC2'), ('09415000', 'VLTA3'), ('10140100', 'OPDU1'), ('09036000', 'WFLC2'), ('10141000', 'WWPU1')]\n"
     ]
    }
   ],
   "source": [
    "# need a list of USGS gages from the models\n",
    "USGS_models = pickle.load(open(\"model_gages.pkl\", \"rb\"))\n",
    "\n",
    "# create list of tuples first\n",
    "model_USGS_NOAA = []\n",
    "\n",
    "# load those list of USGS and put them up against the DF to pull the NOAA name\n",
    "for g in USGS_models:\n",
    "    model_USGS_NOAA.append((g, df[df['usgs']==g]['NOAA_gauge'].tolist()[0]))\n",
    "    \n",
    "\n",
    "# append those gages to the new list\n",
    "print(model_USGS_NOAA)"
   ]
  },
  {
   "cell_type": "code",
   "execution_count": 10,
   "metadata": {},
   "outputs": [
    {
     "data": {
      "text/html": [
       "<div>\n",
       "<style scoped>\n",
       "    .dataframe tbody tr th:only-of-type {\n",
       "        vertical-align: middle;\n",
       "    }\n",
       "\n",
       "    .dataframe tbody tr th {\n",
       "        vertical-align: top;\n",
       "    }\n",
       "\n",
       "    .dataframe thead th {\n",
       "        text-align: right;\n",
       "    }\n",
       "</style>\n",
       "<table border=\"1\" class=\"dataframe\">\n",
       "  <thead>\n",
       "    <tr style=\"text-align: right;\">\n",
       "      <th></th>\n",
       "      <th>USGS</th>\n",
       "      <th>NOAA</th>\n",
       "    </tr>\n",
       "  </thead>\n",
       "  <tbody>\n",
       "    <tr>\n",
       "      <th>0</th>\n",
       "      <td>09112500</td>\n",
       "      <td>ALEC2</td>\n",
       "    </tr>\n",
       "    <tr>\n",
       "      <th>1</th>\n",
       "      <td>09124500</td>\n",
       "      <td>LFGC2</td>\n",
       "    </tr>\n",
       "    <tr>\n",
       "      <th>2</th>\n",
       "      <td>09115500</td>\n",
       "      <td>TMCC2</td>\n",
       "    </tr>\n",
       "    <tr>\n",
       "      <th>3</th>\n",
       "      <td>09067020</td>\n",
       "      <td>EALC2</td>\n",
       "    </tr>\n",
       "    <tr>\n",
       "      <th>4</th>\n",
       "      <td>09024000</td>\n",
       "      <td>FRWC2</td>\n",
       "    </tr>\n",
       "    <tr>\n",
       "      <th>5</th>\n",
       "      <td>09085000</td>\n",
       "      <td>GWSC2</td>\n",
       "    </tr>\n",
       "    <tr>\n",
       "      <th>6</th>\n",
       "      <td>09073400</td>\n",
       "      <td>APNC2</td>\n",
       "    </tr>\n",
       "    <tr>\n",
       "      <th>7</th>\n",
       "      <td>09070000</td>\n",
       "      <td>GPSC2</td>\n",
       "    </tr>\n",
       "    <tr>\n",
       "      <th>8</th>\n",
       "      <td>09110000</td>\n",
       "      <td>ALTC2</td>\n",
       "    </tr>\n",
       "    <tr>\n",
       "      <th>9</th>\n",
       "      <td>09342500</td>\n",
       "      <td>PSPC2</td>\n",
       "    </tr>\n",
       "    <tr>\n",
       "      <th>10</th>\n",
       "      <td>09034250</td>\n",
       "      <td>CAWC2</td>\n",
       "    </tr>\n",
       "    <tr>\n",
       "      <th>11</th>\n",
       "      <td>09085100</td>\n",
       "      <td>GCOC2</td>\n",
       "    </tr>\n",
       "    <tr>\n",
       "      <th>12</th>\n",
       "      <td>09166500</td>\n",
       "      <td>DOLC2</td>\n",
       "    </tr>\n",
       "    <tr>\n",
       "      <th>13</th>\n",
       "      <td>10105900</td>\n",
       "      <td>PRZU1</td>\n",
       "    </tr>\n",
       "    <tr>\n",
       "      <th>14</th>\n",
       "      <td>09237500</td>\n",
       "      <td>YMSC2</td>\n",
       "    </tr>\n",
       "    <tr>\n",
       "      <th>15</th>\n",
       "      <td>09107000</td>\n",
       "      <td>TRAC2</td>\n",
       "    </tr>\n",
       "    <tr>\n",
       "      <th>16</th>\n",
       "      <td>09065100</td>\n",
       "      <td>CSSC2</td>\n",
       "    </tr>\n",
       "    <tr>\n",
       "      <th>17</th>\n",
       "      <td>09081600</td>\n",
       "      <td>RCYC2</td>\n",
       "    </tr>\n",
       "    <tr>\n",
       "      <th>18</th>\n",
       "      <td>09415000</td>\n",
       "      <td>VLTA3</td>\n",
       "    </tr>\n",
       "    <tr>\n",
       "      <th>19</th>\n",
       "      <td>10140100</td>\n",
       "      <td>OPDU1</td>\n",
       "    </tr>\n",
       "    <tr>\n",
       "      <th>20</th>\n",
       "      <td>09036000</td>\n",
       "      <td>WFLC2</td>\n",
       "    </tr>\n",
       "    <tr>\n",
       "      <th>21</th>\n",
       "      <td>10141000</td>\n",
       "      <td>WWPU1</td>\n",
       "    </tr>\n",
       "  </tbody>\n",
       "</table>\n",
       "</div>"
      ],
      "text/plain": [
       "        USGS   NOAA\n",
       "0   09112500  ALEC2\n",
       "1   09124500  LFGC2\n",
       "2   09115500  TMCC2\n",
       "3   09067020  EALC2\n",
       "4   09024000  FRWC2\n",
       "5   09085000  GWSC2\n",
       "6   09073400  APNC2\n",
       "7   09070000  GPSC2\n",
       "8   09110000  ALTC2\n",
       "9   09342500  PSPC2\n",
       "10  09034250  CAWC2\n",
       "11  09085100  GCOC2\n",
       "12  09166500  DOLC2\n",
       "13  10105900  PRZU1\n",
       "14  09237500  YMSC2\n",
       "15  09107000  TRAC2\n",
       "16  09065100  CSSC2\n",
       "17  09081600  RCYC2\n",
       "18  09415000  VLTA3\n",
       "19  10140100  OPDU1\n",
       "20  09036000  WFLC2\n",
       "21  10141000  WWPU1"
      ]
     },
     "execution_count": 10,
     "metadata": {},
     "output_type": "execute_result"
    }
   ],
   "source": [
    "# create dataframe from that list of tuples\n",
    "df_new = pd.DataFrame(model_USGS_NOAA, columns =['USGS', 'NOAA'])\n",
    "df_new"
   ]
  },
  {
   "cell_type": "code",
   "execution_count": 11,
   "metadata": {},
   "outputs": [
    {
     "data": {
      "text/html": [
       "<div>\n",
       "<style scoped>\n",
       "    .dataframe tbody tr th:only-of-type {\n",
       "        vertical-align: middle;\n",
       "    }\n",
       "\n",
       "    .dataframe tbody tr th {\n",
       "        vertical-align: top;\n",
       "    }\n",
       "\n",
       "    .dataframe thead th {\n",
       "        text-align: right;\n",
       "    }\n",
       "</style>\n",
       "<table border=\"1\" class=\"dataframe\">\n",
       "  <thead>\n",
       "    <tr style=\"text-align: right;\">\n",
       "      <th></th>\n",
       "      <th>USGS</th>\n",
       "      <th>NOAA</th>\n",
       "    </tr>\n",
       "  </thead>\n",
       "  <tbody>\n",
       "    <tr>\n",
       "      <th>0</th>\n",
       "      <td>09067020</td>\n",
       "      <td>EALC2</td>\n",
       "    </tr>\n",
       "    <tr>\n",
       "      <th>1</th>\n",
       "      <td>09057500</td>\n",
       "      <td>BGMC2</td>\n",
       "    </tr>\n",
       "    <tr>\n",
       "      <th>2</th>\n",
       "      <td>09066325</td>\n",
       "      <td>GRVC2</td>\n",
       "    </tr>\n",
       "    <tr>\n",
       "      <th>3</th>\n",
       "      <td>09070000</td>\n",
       "      <td>GPSC2</td>\n",
       "    </tr>\n",
       "    <tr>\n",
       "      <th>4</th>\n",
       "      <td>09070500</td>\n",
       "      <td>EGLC2</td>\n",
       "    </tr>\n",
       "    <tr>\n",
       "      <th>...</th>\n",
       "      <td>...</td>\n",
       "      <td>...</td>\n",
       "    </tr>\n",
       "    <tr>\n",
       "      <th>131</th>\n",
       "      <td>09081600</td>\n",
       "      <td>RCYC2</td>\n",
       "    </tr>\n",
       "    <tr>\n",
       "      <th>132</th>\n",
       "      <td>09415000</td>\n",
       "      <td>VLTA3</td>\n",
       "    </tr>\n",
       "    <tr>\n",
       "      <th>133</th>\n",
       "      <td>10140100</td>\n",
       "      <td>OPDU1</td>\n",
       "    </tr>\n",
       "    <tr>\n",
       "      <th>134</th>\n",
       "      <td>09036000</td>\n",
       "      <td>WFLC2</td>\n",
       "    </tr>\n",
       "    <tr>\n",
       "      <th>135</th>\n",
       "      <td>10141000</td>\n",
       "      <td>WWPU1</td>\n",
       "    </tr>\n",
       "  </tbody>\n",
       "</table>\n",
       "<p>136 rows × 2 columns</p>\n",
       "</div>"
      ],
      "text/plain": [
       "         USGS   NOAA\n",
       "0    09067020  EALC2\n",
       "1    09057500  BGMC2\n",
       "2    09066325  GRVC2\n",
       "3    09070000  GPSC2\n",
       "4    09070500  EGLC2\n",
       "..        ...    ...\n",
       "131  09081600  RCYC2\n",
       "132  09415000  VLTA3\n",
       "133  10140100  OPDU1\n",
       "134  09036000  WFLC2\n",
       "135  10141000  WWPU1\n",
       "\n",
       "[136 rows x 2 columns]"
      ]
     },
     "execution_count": 11,
     "metadata": {},
     "output_type": "execute_result"
    }
   ],
   "source": [
    "df2 = df2.append(df_new, ignore_index=True)\n",
    "df2"
   ]
  },
  {
   "cell_type": "markdown",
   "metadata": {},
   "source": [
    "That is what we wanted. Let's make sure their were no duplicates"
   ]
  },
  {
   "cell_type": "code",
   "execution_count": 15,
   "metadata": {},
   "outputs": [
    {
     "data": {
      "text/plain": [
       "09085000    2\n",
       "09065100    2\n",
       "09070000    2\n",
       "09124500    2\n",
       "09034250    2\n",
       "           ..\n",
       "10011500    1\n",
       "09330500    1\n",
       "10130500    1\n",
       "09279000    1\n",
       "09171100    1\n",
       "Name: USGS, Length: 125, dtype: int64"
      ]
     },
     "execution_count": 15,
     "metadata": {},
     "output_type": "execute_result"
    }
   ],
   "source": [
    "df2['USGS'].value_counts()"
   ]
  },
  {
   "cell_type": "markdown",
   "metadata": {},
   "source": [
    "This makes sense, as a few of the gages were already being used and pulled for predictions. Let's eliminate the duplicates."
   ]
  },
  {
   "cell_type": "code",
   "execution_count": 16,
   "metadata": {},
   "outputs": [
    {
     "data": {
      "text/html": [
       "<div>\n",
       "<style scoped>\n",
       "    .dataframe tbody tr th:only-of-type {\n",
       "        vertical-align: middle;\n",
       "    }\n",
       "\n",
       "    .dataframe tbody tr th {\n",
       "        vertical-align: top;\n",
       "    }\n",
       "\n",
       "    .dataframe thead th {\n",
       "        text-align: right;\n",
       "    }\n",
       "</style>\n",
       "<table border=\"1\" class=\"dataframe\">\n",
       "  <thead>\n",
       "    <tr style=\"text-align: right;\">\n",
       "      <th></th>\n",
       "      <th>USGS</th>\n",
       "      <th>NOAA</th>\n",
       "    </tr>\n",
       "  </thead>\n",
       "  <tbody>\n",
       "    <tr>\n",
       "      <th>0</th>\n",
       "      <td>09067020</td>\n",
       "      <td>EALC2</td>\n",
       "    </tr>\n",
       "    <tr>\n",
       "      <th>1</th>\n",
       "      <td>09057500</td>\n",
       "      <td>BGMC2</td>\n",
       "    </tr>\n",
       "    <tr>\n",
       "      <th>2</th>\n",
       "      <td>09066325</td>\n",
       "      <td>GRVC2</td>\n",
       "    </tr>\n",
       "    <tr>\n",
       "      <th>3</th>\n",
       "      <td>09070000</td>\n",
       "      <td>GPSC2</td>\n",
       "    </tr>\n",
       "    <tr>\n",
       "      <th>4</th>\n",
       "      <td>09070500</td>\n",
       "      <td>EGLC2</td>\n",
       "    </tr>\n",
       "    <tr>\n",
       "      <th>...</th>\n",
       "      <td>...</td>\n",
       "      <td>...</td>\n",
       "    </tr>\n",
       "    <tr>\n",
       "      <th>128</th>\n",
       "      <td>09237500</td>\n",
       "      <td>YMSC2</td>\n",
       "    </tr>\n",
       "    <tr>\n",
       "      <th>129</th>\n",
       "      <td>09107000</td>\n",
       "      <td>TRAC2</td>\n",
       "    </tr>\n",
       "    <tr>\n",
       "      <th>132</th>\n",
       "      <td>09415000</td>\n",
       "      <td>VLTA3</td>\n",
       "    </tr>\n",
       "    <tr>\n",
       "      <th>134</th>\n",
       "      <td>09036000</td>\n",
       "      <td>WFLC2</td>\n",
       "    </tr>\n",
       "    <tr>\n",
       "      <th>135</th>\n",
       "      <td>10141000</td>\n",
       "      <td>WWPU1</td>\n",
       "    </tr>\n",
       "  </tbody>\n",
       "</table>\n",
       "<p>125 rows × 2 columns</p>\n",
       "</div>"
      ],
      "text/plain": [
       "         USGS   NOAA\n",
       "0    09067020  EALC2\n",
       "1    09057500  BGMC2\n",
       "2    09066325  GRVC2\n",
       "3    09070000  GPSC2\n",
       "4    09070500  EGLC2\n",
       "..        ...    ...\n",
       "128  09237500  YMSC2\n",
       "129  09107000  TRAC2\n",
       "132  09415000  VLTA3\n",
       "134  09036000  WFLC2\n",
       "135  10141000  WWPU1\n",
       "\n",
       "[125 rows x 2 columns]"
      ]
     },
     "execution_count": 16,
     "metadata": {},
     "output_type": "execute_result"
    }
   ],
   "source": [
    "df2.drop_duplicates(inplace=True)\n",
    "df2"
   ]
  },
  {
   "cell_type": "markdown",
   "metadata": {},
   "source": [
    "This is excellent! Exactly what we wanted from this addition. These are the gages that we need for predicting with the new models and pulling directly for predictions."
   ]
  },
  {
   "cell_type": "markdown",
   "metadata": {},
   "source": [
    "## Export those USGS and NOAA to CSV that can be used on the website"
   ]
  },
  {
   "cell_type": "code",
   "execution_count": 17,
   "metadata": {},
   "outputs": [],
   "source": [
    "df2.to_csv(\"USGS_NOAA_newer.csv\", index=False, header=False)\n",
    "# already exported this, so no need to do that again"
   ]
  },
  {
   "cell_type": "markdown",
   "metadata": {},
   "source": [
    "## Find the list of USGS gauges that are NOT covered by the NOAA predictions - THIS IS ONLY MEANINGFUL IF WE LOADED THE NEW TARGET GAGES FOR THE MODEL. INSTEAD WE LOADED MODEL FEATURES."
   ]
  },
  {
   "cell_type": "code",
   "execution_count": 18,
   "metadata": {},
   "outputs": [
    {
     "data": {
      "text/plain": [
       "156"
      ]
     },
     "execution_count": 18,
     "metadata": {},
     "output_type": "execute_result"
    }
   ],
   "source": [
    "USGS_missing = []\n",
    "old_USGS = df2['USGS'].tolist()\n",
    "for g in USGS_current:\n",
    "    if g not in old_USGS:\n",
    "        USGS_missing.append(g)\n",
    "len(USGS_missing)"
   ]
  },
  {
   "cell_type": "markdown",
   "metadata": {},
   "source": [
    "This list of 156 gauges are ones that we don't have predictions for. We will hopefully be able to build models for some of these gauges so that we can use the existing predictions "
   ]
  },
  {
   "cell_type": "code",
   "execution_count": 19,
   "metadata": {},
   "outputs": [],
   "source": [
    "df_missing = pd.DataFrame(USGS_missing, columns =['USGS'])"
   ]
  },
  {
   "cell_type": "code",
   "execution_count": 20,
   "metadata": {},
   "outputs": [],
   "source": [
    "## Export DF so that we can use them in the future notebooks\n",
    "df_missing.to_pickle(\"USGS_missing.pkl\")\n",
    "df_missing.to_csv(\"USGS_missing.csv\")"
   ]
  },
  {
   "cell_type": "markdown",
   "metadata": {},
   "source": [
    "In the future notebook\n",
    "    - go to USGS page\n",
    "    - pull long and lat for that gauge; also pull river\n",
    "    - correlated to close by gauges"
   ]
  }
 ],
 "metadata": {
  "kernelspec": {
   "display_name": "Python 3",
   "language": "python",
   "name": "python3"
  },
  "language_info": {
   "codemirror_mode": {
    "name": "ipython",
    "version": 3
   },
   "file_extension": ".py",
   "mimetype": "text/x-python",
   "name": "python",
   "nbconvert_exporter": "python",
   "pygments_lexer": "ipython3",
   "version": "3.7.6"
  }
 },
 "nbformat": 4,
 "nbformat_minor": 4
}
