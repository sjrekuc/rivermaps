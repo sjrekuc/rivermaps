{
 "cells": [
  {
   "cell_type": "markdown",
   "metadata": {},
   "source": [
    "In this notebook: <br>\n",
    "- Let's pull the CSV that corelated the NOAA to USGS\n",
    "- pull the CSV of all the USGS gauges that we use currently in rivermaps.co (not future version)\n",
    "- Find any items that are on that list but have a NOAA prediction\n",
    "- Find list of USGS that are in current version, but not correlated with NOAA prediction - currently\n",
    "- add those to the NOAA to USGS CSV so we can expand our prediction reach"
   ]
  },
  {
   "cell_type": "code",
   "execution_count": 1,
   "metadata": {},
   "outputs": [],
   "source": [
    "import pandas as pd\n",
    "from bs4 import BeautifulSoup\n",
    "import os\n",
    "import requests\n",
    "import time"
   ]
  },
  {
   "cell_type": "code",
   "execution_count": 2,
   "metadata": {},
   "outputs": [],
   "source": [
    "import pickle\n",
    "path=\"C:\\Springboard\\Github\\gauge_info\"\n",
    "os.chdir(path)"
   ]
  },
  {
   "cell_type": "markdown",
   "metadata": {},
   "source": [
    "# Dataframe that contains all of the NOAA predictions and their corresponding USGS gage"
   ]
  },
  {
   "cell_type": "code",
   "execution_count": 3,
   "metadata": {},
   "outputs": [
    {
     "data": {
      "text/html": [
       "<div>\n",
       "<style scoped>\n",
       "    .dataframe tbody tr th:only-of-type {\n",
       "        vertical-align: middle;\n",
       "    }\n",
       "\n",
       "    .dataframe tbody tr th {\n",
       "        vertical-align: top;\n",
       "    }\n",
       "\n",
       "    .dataframe thead th {\n",
       "        text-align: right;\n",
       "    }\n",
       "</style>\n",
       "<table border=\"1\" class=\"dataframe\">\n",
       "  <thead>\n",
       "    <tr style=\"text-align: right;\">\n",
       "      <th></th>\n",
       "      <th>NOAA_gauge</th>\n",
       "      <th>River</th>\n",
       "      <th>State</th>\n",
       "      <th>Elevation</th>\n",
       "      <th>Segment</th>\n",
       "      <th>USGS_link</th>\n",
       "      <th>usgs</th>\n",
       "    </tr>\n",
       "  </thead>\n",
       "  <tbody>\n",
       "    <tr>\n",
       "      <th>0</th>\n",
       "      <td>SPRA3</td>\n",
       "      <td>San Pedro</td>\n",
       "      <td>AZ</td>\n",
       "      <td>2820</td>\n",
       "      <td>7</td>\n",
       "      <td>http://waterdata.usgs.gov/az/nwis/uv?09472050</td>\n",
       "      <td>09472050</td>\n",
       "    </tr>\n",
       "    <tr>\n",
       "      <th>1</th>\n",
       "      <td>MAOA3</td>\n",
       "      <td>Acdc</td>\n",
       "      <td>AZ</td>\n",
       "      <td>1230</td>\n",
       "      <td>6</td>\n",
       "      <td>0</td>\n",
       "      <td>0</td>\n",
       "    </tr>\n",
       "    <tr>\n",
       "      <th>2</th>\n",
       "      <td>MHFA3</td>\n",
       "      <td>Acdc</td>\n",
       "      <td>AZ</td>\n",
       "      <td>1225</td>\n",
       "      <td>7</td>\n",
       "      <td>0</td>\n",
       "      <td>0</td>\n",
       "    </tr>\n",
       "    <tr>\n",
       "      <th>3</th>\n",
       "      <td>MSXA3</td>\n",
       "      <td>Acdc</td>\n",
       "      <td>AZ</td>\n",
       "      <td>1220</td>\n",
       "      <td>8</td>\n",
       "      <td>0</td>\n",
       "      <td>0</td>\n",
       "    </tr>\n",
       "    <tr>\n",
       "      <th>4</th>\n",
       "      <td>ACHA3</td>\n",
       "      <td>Agua Caliente Wash</td>\n",
       "      <td>AZ</td>\n",
       "      <td>2588</td>\n",
       "      <td>2</td>\n",
       "      <td>0</td>\n",
       "      <td>0</td>\n",
       "    </tr>\n",
       "  </tbody>\n",
       "</table>\n",
       "</div>"
      ],
      "text/plain": [
       "  NOAA_gauge                River State Elevation Segment  \\\n",
       "0      SPRA3           San Pedro     AZ      2820       7   \n",
       "1      MAOA3                Acdc     AZ      1230       6   \n",
       "2      MHFA3                Acdc     AZ      1225       7   \n",
       "3      MSXA3                Acdc     AZ      1220       8   \n",
       "4      ACHA3  Agua Caliente Wash     AZ      2588       2   \n",
       "\n",
       "                                       USGS_link      usgs  \n",
       "0  http://waterdata.usgs.gov/az/nwis/uv?09472050  09472050  \n",
       "1                                              0         0  \n",
       "2                                              0         0  \n",
       "3                                              0         0  \n",
       "4                                              0         0  "
      ]
     },
     "execution_count": 3,
     "metadata": {},
     "output_type": "execute_result"
    }
   ],
   "source": [
    "# load DF with NOAA and USGS for all gauges in Colorado River Basin that have predictions in NOAA\n",
    "df = pickle.load(open(\"NOAA_USGS.pkl\", \"rb\"))\n",
    "df.head()"
   ]
  },
  {
   "cell_type": "markdown",
   "metadata": {},
   "source": [
    "## CSV that corelated the NOAA to USGS - currently used in production at /future"
   ]
  },
  {
   "cell_type": "code",
   "execution_count": 10,
   "metadata": {},
   "outputs": [
    {
     "data": {
      "text/html": [
       "<div>\n",
       "<style scoped>\n",
       "    .dataframe tbody tr th:only-of-type {\n",
       "        vertical-align: middle;\n",
       "    }\n",
       "\n",
       "    .dataframe tbody tr th {\n",
       "        vertical-align: top;\n",
       "    }\n",
       "\n",
       "    .dataframe thead th {\n",
       "        text-align: right;\n",
       "    }\n",
       "</style>\n",
       "<table border=\"1\" class=\"dataframe\">\n",
       "  <thead>\n",
       "    <tr style=\"text-align: right;\">\n",
       "      <th></th>\n",
       "      <th>USGS</th>\n",
       "      <th>NOAA</th>\n",
       "    </tr>\n",
       "  </thead>\n",
       "  <tbody>\n",
       "    <tr>\n",
       "      <th>0</th>\n",
       "      <td>09067020</td>\n",
       "      <td>EALC2</td>\n",
       "    </tr>\n",
       "    <tr>\n",
       "      <th>1</th>\n",
       "      <td>09057500</td>\n",
       "      <td>BGMC2</td>\n",
       "    </tr>\n",
       "    <tr>\n",
       "      <th>2</th>\n",
       "      <td>09066325</td>\n",
       "      <td>GRVC2</td>\n",
       "    </tr>\n",
       "    <tr>\n",
       "      <th>3</th>\n",
       "      <td>09070000</td>\n",
       "      <td>GPSC2</td>\n",
       "    </tr>\n",
       "    <tr>\n",
       "      <th>4</th>\n",
       "      <td>09070500</td>\n",
       "      <td>EGLC2</td>\n",
       "    </tr>\n",
       "    <tr>\n",
       "      <th>...</th>\n",
       "      <td>...</td>\n",
       "      <td>...</td>\n",
       "    </tr>\n",
       "    <tr>\n",
       "      <th>109</th>\n",
       "      <td>09504000</td>\n",
       "      <td>VDCA3</td>\n",
       "    </tr>\n",
       "    <tr>\n",
       "      <th>110</th>\n",
       "      <td>09508500</td>\n",
       "      <td>VDTA3</td>\n",
       "    </tr>\n",
       "    <tr>\n",
       "      <th>111</th>\n",
       "      <td>10130500</td>\n",
       "      <td>CLLU1</td>\n",
       "    </tr>\n",
       "    <tr>\n",
       "      <th>112</th>\n",
       "      <td>10128500</td>\n",
       "      <td>OAWU1</td>\n",
       "    </tr>\n",
       "    <tr>\n",
       "      <th>113</th>\n",
       "      <td>09505200</td>\n",
       "      <td>WBVA3</td>\n",
       "    </tr>\n",
       "  </tbody>\n",
       "</table>\n",
       "<p>114 rows × 2 columns</p>\n",
       "</div>"
      ],
      "text/plain": [
       "         USGS   NOAA\n",
       "0    09067020  EALC2\n",
       "1    09057500  BGMC2\n",
       "2    09066325  GRVC2\n",
       "3    09070000  GPSC2\n",
       "4    09070500  EGLC2\n",
       "..        ...    ...\n",
       "109  09504000  VDCA3\n",
       "110  09508500  VDTA3\n",
       "111  10130500  CLLU1\n",
       "112  10128500  OAWU1\n",
       "113  09505200  WBVA3\n",
       "\n",
       "[114 rows x 2 columns]"
      ]
     },
     "execution_count": 10,
     "metadata": {},
     "output_type": "execute_result"
    }
   ],
   "source": [
    "# load DF with NOAA and USGS that are CURRENTLY used in future forecast - these were put together manually\n",
    "df2 = pd.read_csv(\"USGS_NOAA_new.csv\", names=['USGS', 'NOAA'])\n",
    "df2"
   ]
  },
  {
   "cell_type": "markdown",
   "metadata": {},
   "source": [
    "## List of all USGS (and CO Water) gages - currently used in production REAL-TIME"
   ]
  },
  {
   "cell_type": "code",
   "execution_count": 11,
   "metadata": {},
   "outputs": [],
   "source": [
    "# load list from CSV of all USGS (and CO Water) gauges that are currently used\n",
    "import csv\n",
    "USGS_current = []\n",
    "with open('USGS_list.csv', 'r') as f:\n",
    "    readCSV = csv.reader(f, delimiter=',')\n",
    "    for row in readCSV:\n",
    "        for i in row:\n",
    "            USGS_current.append(i)"
   ]
  },
  {
   "cell_type": "code",
   "execution_count": 12,
   "metadata": {},
   "outputs": [
    {
     "data": {
      "text/plain": [
       "270"
      ]
     },
     "execution_count": 12,
     "metadata": {},
     "output_type": "execute_result"
    }
   ],
   "source": [
    "len(USGS_current)"
   ]
  },
  {
   "cell_type": "markdown",
   "metadata": {},
   "source": [
    "Before we proceed, let's review the data that we do have:\n",
    "1. 459 NOAA sites througout the Colorado River Forecast Basin; we have the correponding USGS gauge for just about all of them. These are stored in df\n",
    "2. 270 USGS (and CO Water) measures that are currently being is in the real-time display of water. These gauges are NOT just from the Colorado River Forecast Basin. These are stored in df2\n",
    "3. 111 NOAA prediction sites that corresponded with USGS gauges. There are in the list USGS_current"
   ]
  },
  {
   "cell_type": "markdown",
   "metadata": {},
   "source": [
    "Next, let's find all of the possible USGS sites (from the 270 currently used on the real time page) that have a corresponding NOAA forecast. "
   ]
  },
  {
   "cell_type": "code",
   "execution_count": 13,
   "metadata": {
    "scrolled": true
   },
   "outputs": [
    {
     "data": {
      "text/plain": [
       "111"
      ]
     },
     "execution_count": 13,
     "metadata": {},
     "output_type": "execute_result"
    }
   ],
   "source": [
    "USGS_in_NOAA = []\n",
    "for g in df['usgs']:\n",
    "    if g in USGS_current:\n",
    "        USGS_in_NOAA.append(g)\n",
    "len(USGS_in_NOAA)"
   ]
  },
  {
   "cell_type": "markdown",
   "metadata": {},
   "source": [
    "That means there are 111 gauges that are in both my current list of gauges and the NOAA predictions. Since, this is more than 86 that I am currently using, I expect to gain 25 gauges that could have predictions. Let's see if that checks out"
   ]
  },
  {
   "cell_type": "markdown",
   "metadata": {},
   "source": [
    "## Find the NOAA predictions that now need to be pulled for the new models."
   ]
  },
  {
   "cell_type": "code",
   "execution_count": 18,
   "metadata": {},
   "outputs": [],
   "source": [
    "# need a list of USGS gages from the models\n",
    "USGS_models = pickle.load(open(\"model_gages.pkl\", \"rb\"))\n",
    "\n",
    "# load those list of USGS and put them up against the DF to pull the NOAA name\n",
    "for g in USGS_models:\n",
    "    \n",
    "\n",
    "# append those gages to the new list"
   ]
  },
  {
   "cell_type": "code",
   "execution_count": 19,
   "metadata": {},
   "outputs": [
    {
     "data": {
      "text/plain": [
       "['09112500',\n",
       " '09124500',\n",
       " '09115500',\n",
       " '09067020',\n",
       " '09024000',\n",
       " '09085000',\n",
       " '09073400',\n",
       " '09070000',\n",
       " '09110000',\n",
       " '09342500',\n",
       " '09034250',\n",
       " '09085100',\n",
       " '09166500',\n",
       " '10105900',\n",
       " '09237500',\n",
       " '09107000',\n",
       " '09065100',\n",
       " '09081600',\n",
       " '09415000',\n",
       " '10140100',\n",
       " '09036000',\n",
       " '10141000']"
      ]
     },
     "execution_count": 19,
     "metadata": {},
     "output_type": "execute_result"
    }
   ],
   "source": [
    "USGS_models"
   ]
  },
  {
   "cell_type": "code",
   "execution_count": 14,
   "metadata": {},
   "outputs": [
    {
     "name": "stdout",
     "output_type": "stream",
     "text": [
      "[]\n"
     ]
    }
   ],
   "source": [
    "new_USGS = []\n",
    "old_USGS = df2['USGS'].tolist()\n",
    "for g in USGS_in_NOAA:\n",
    "    if g in old_USGS:\n",
    "        pass\n",
    "    else:\n",
    "        new_USGS.append(g)\n",
    "print(new_USGS)"
   ]
  },
  {
   "cell_type": "code",
   "execution_count": 15,
   "metadata": {},
   "outputs": [
    {
     "data": {
      "text/plain": [
       "0"
      ]
     },
     "execution_count": 15,
     "metadata": {},
     "output_type": "execute_result"
    }
   ],
   "source": [
    "len(new_USGS)"
   ]
  },
  {
   "cell_type": "markdown",
   "metadata": {},
   "source": [
    "This makes sense because I created a few gauges (cataract canyon comes to mind) to reflect some predictions. <br>\n",
    "We will add these gauges to the existing NOAA to USGS dataframe (df2)"
   ]
  },
  {
   "cell_type": "markdown",
   "metadata": {},
   "source": [
    "## add those missing USGS and NOAA predictions to df2 dataframe to add to those 86 current ones"
   ]
  },
  {
   "cell_type": "code",
   "execution_count": 10,
   "metadata": {
    "scrolled": true
   },
   "outputs": [
    {
     "name": "stdout",
     "output_type": "stream",
     "text": [
      "[('10092700', 'BIUI1'), ('10016900', 'EVAW4'), ('09050700', 'BLRC2'), ('09497980', 'CHRA3'), ('09095500', 'CAMC2'), ('09034250', 'CAWC2'), ('09180500', 'CLRU1'), ('09065100', 'CSSC2'), ('09063000', 'RERC2'), ('09242500', 'ENMC2'), ('09430500', 'GILN5'), ('09188500', 'WBRW4'), ('09152500', 'GJNC2'), ('09064000', 'HMSC2'), ('10163000', 'PPPU1'), ('09497500', 'SLCA3'), ('09502000', 'SMDA3'), ('09510200', 'SYCA3'), ('09050100', 'TCFC2'), ('09149500', 'DLAC2'), ('09146200', 'UCRC2'), ('09506000', 'VCVA3'), ('09510000', 'VDBA3'), ('09504000', 'VDCA3'), ('09508500', 'VDTA3'), ('10130500', 'CLLU1'), ('10128500', 'OAWU1'), ('09505200', 'WBVA3')]\n"
     ]
    }
   ],
   "source": [
    "# create list of tuples first\n",
    "new_USGS_NOAA = []\n",
    "for g in new_USGS:\n",
    "    new_USGS_NOAA.append((g, df[df['usgs']==g]['NOAA_gauge'].tolist()[0]))\n",
    "\n",
    "print(new_USGS_NOAA)"
   ]
  },
  {
   "cell_type": "code",
   "execution_count": 11,
   "metadata": {},
   "outputs": [
    {
     "data": {
      "text/html": [
       "<div>\n",
       "<style scoped>\n",
       "    .dataframe tbody tr th:only-of-type {\n",
       "        vertical-align: middle;\n",
       "    }\n",
       "\n",
       "    .dataframe tbody tr th {\n",
       "        vertical-align: top;\n",
       "    }\n",
       "\n",
       "    .dataframe thead th {\n",
       "        text-align: right;\n",
       "    }\n",
       "</style>\n",
       "<table border=\"1\" class=\"dataframe\">\n",
       "  <thead>\n",
       "    <tr style=\"text-align: right;\">\n",
       "      <th></th>\n",
       "      <th>USGS</th>\n",
       "      <th>NOAA</th>\n",
       "    </tr>\n",
       "  </thead>\n",
       "  <tbody>\n",
       "    <tr>\n",
       "      <th>0</th>\n",
       "      <td>10092700</td>\n",
       "      <td>BIUI1</td>\n",
       "    </tr>\n",
       "    <tr>\n",
       "      <th>1</th>\n",
       "      <td>10016900</td>\n",
       "      <td>EVAW4</td>\n",
       "    </tr>\n",
       "    <tr>\n",
       "      <th>2</th>\n",
       "      <td>09050700</td>\n",
       "      <td>BLRC2</td>\n",
       "    </tr>\n",
       "    <tr>\n",
       "      <th>3</th>\n",
       "      <td>09497980</td>\n",
       "      <td>CHRA3</td>\n",
       "    </tr>\n",
       "    <tr>\n",
       "      <th>4</th>\n",
       "      <td>09095500</td>\n",
       "      <td>CAMC2</td>\n",
       "    </tr>\n",
       "    <tr>\n",
       "      <th>5</th>\n",
       "      <td>09034250</td>\n",
       "      <td>CAWC2</td>\n",
       "    </tr>\n",
       "    <tr>\n",
       "      <th>6</th>\n",
       "      <td>09180500</td>\n",
       "      <td>CLRU1</td>\n",
       "    </tr>\n",
       "    <tr>\n",
       "      <th>7</th>\n",
       "      <td>09065100</td>\n",
       "      <td>CSSC2</td>\n",
       "    </tr>\n",
       "    <tr>\n",
       "      <th>8</th>\n",
       "      <td>09063000</td>\n",
       "      <td>RERC2</td>\n",
       "    </tr>\n",
       "    <tr>\n",
       "      <th>9</th>\n",
       "      <td>09242500</td>\n",
       "      <td>ENMC2</td>\n",
       "    </tr>\n",
       "    <tr>\n",
       "      <th>10</th>\n",
       "      <td>09430500</td>\n",
       "      <td>GILN5</td>\n",
       "    </tr>\n",
       "    <tr>\n",
       "      <th>11</th>\n",
       "      <td>09188500</td>\n",
       "      <td>WBRW4</td>\n",
       "    </tr>\n",
       "    <tr>\n",
       "      <th>12</th>\n",
       "      <td>09152500</td>\n",
       "      <td>GJNC2</td>\n",
       "    </tr>\n",
       "    <tr>\n",
       "      <th>13</th>\n",
       "      <td>09064000</td>\n",
       "      <td>HMSC2</td>\n",
       "    </tr>\n",
       "    <tr>\n",
       "      <th>14</th>\n",
       "      <td>10163000</td>\n",
       "      <td>PPPU1</td>\n",
       "    </tr>\n",
       "    <tr>\n",
       "      <th>15</th>\n",
       "      <td>09497500</td>\n",
       "      <td>SLCA3</td>\n",
       "    </tr>\n",
       "    <tr>\n",
       "      <th>16</th>\n",
       "      <td>09502000</td>\n",
       "      <td>SMDA3</td>\n",
       "    </tr>\n",
       "    <tr>\n",
       "      <th>17</th>\n",
       "      <td>09510200</td>\n",
       "      <td>SYCA3</td>\n",
       "    </tr>\n",
       "    <tr>\n",
       "      <th>18</th>\n",
       "      <td>09050100</td>\n",
       "      <td>TCFC2</td>\n",
       "    </tr>\n",
       "    <tr>\n",
       "      <th>19</th>\n",
       "      <td>09149500</td>\n",
       "      <td>DLAC2</td>\n",
       "    </tr>\n",
       "    <tr>\n",
       "      <th>20</th>\n",
       "      <td>09146200</td>\n",
       "      <td>UCRC2</td>\n",
       "    </tr>\n",
       "    <tr>\n",
       "      <th>21</th>\n",
       "      <td>09506000</td>\n",
       "      <td>VCVA3</td>\n",
       "    </tr>\n",
       "    <tr>\n",
       "      <th>22</th>\n",
       "      <td>09510000</td>\n",
       "      <td>VDBA3</td>\n",
       "    </tr>\n",
       "    <tr>\n",
       "      <th>23</th>\n",
       "      <td>09504000</td>\n",
       "      <td>VDCA3</td>\n",
       "    </tr>\n",
       "    <tr>\n",
       "      <th>24</th>\n",
       "      <td>09508500</td>\n",
       "      <td>VDTA3</td>\n",
       "    </tr>\n",
       "    <tr>\n",
       "      <th>25</th>\n",
       "      <td>10130500</td>\n",
       "      <td>CLLU1</td>\n",
       "    </tr>\n",
       "    <tr>\n",
       "      <th>26</th>\n",
       "      <td>10128500</td>\n",
       "      <td>OAWU1</td>\n",
       "    </tr>\n",
       "    <tr>\n",
       "      <th>27</th>\n",
       "      <td>09505200</td>\n",
       "      <td>WBVA3</td>\n",
       "    </tr>\n",
       "  </tbody>\n",
       "</table>\n",
       "</div>"
      ],
      "text/plain": [
       "        USGS   NOAA\n",
       "0   10092700  BIUI1\n",
       "1   10016900  EVAW4\n",
       "2   09050700  BLRC2\n",
       "3   09497980  CHRA3\n",
       "4   09095500  CAMC2\n",
       "5   09034250  CAWC2\n",
       "6   09180500  CLRU1\n",
       "7   09065100  CSSC2\n",
       "8   09063000  RERC2\n",
       "9   09242500  ENMC2\n",
       "10  09430500  GILN5\n",
       "11  09188500  WBRW4\n",
       "12  09152500  GJNC2\n",
       "13  09064000  HMSC2\n",
       "14  10163000  PPPU1\n",
       "15  09497500  SLCA3\n",
       "16  09502000  SMDA3\n",
       "17  09510200  SYCA3\n",
       "18  09050100  TCFC2\n",
       "19  09149500  DLAC2\n",
       "20  09146200  UCRC2\n",
       "21  09506000  VCVA3\n",
       "22  09510000  VDBA3\n",
       "23  09504000  VDCA3\n",
       "24  09508500  VDTA3\n",
       "25  10130500  CLLU1\n",
       "26  10128500  OAWU1\n",
       "27  09505200  WBVA3"
      ]
     },
     "execution_count": 11,
     "metadata": {},
     "output_type": "execute_result"
    }
   ],
   "source": [
    "# create dataframe from that list of tuples\n",
    "df_new = pd.DataFrame(new_USGS_NOAA, columns =['USGS', 'NOAA'])\n",
    "df_new"
   ]
  },
  {
   "cell_type": "code",
   "execution_count": 12,
   "metadata": {},
   "outputs": [
    {
     "data": {
      "text/html": [
       "<div>\n",
       "<style scoped>\n",
       "    .dataframe tbody tr th:only-of-type {\n",
       "        vertical-align: middle;\n",
       "    }\n",
       "\n",
       "    .dataframe tbody tr th {\n",
       "        vertical-align: top;\n",
       "    }\n",
       "\n",
       "    .dataframe thead th {\n",
       "        text-align: right;\n",
       "    }\n",
       "</style>\n",
       "<table border=\"1\" class=\"dataframe\">\n",
       "  <thead>\n",
       "    <tr style=\"text-align: right;\">\n",
       "      <th></th>\n",
       "      <th>USGS</th>\n",
       "      <th>NOAA</th>\n",
       "    </tr>\n",
       "  </thead>\n",
       "  <tbody>\n",
       "    <tr>\n",
       "      <th>0</th>\n",
       "      <td>09067020</td>\n",
       "      <td>EALC2</td>\n",
       "    </tr>\n",
       "    <tr>\n",
       "      <th>1</th>\n",
       "      <td>09057500</td>\n",
       "      <td>BGMC2</td>\n",
       "    </tr>\n",
       "    <tr>\n",
       "      <th>2</th>\n",
       "      <td>09066325</td>\n",
       "      <td>GRVC2</td>\n",
       "    </tr>\n",
       "    <tr>\n",
       "      <th>3</th>\n",
       "      <td>09070000</td>\n",
       "      <td>GPSC2</td>\n",
       "    </tr>\n",
       "    <tr>\n",
       "      <th>4</th>\n",
       "      <td>09070500</td>\n",
       "      <td>EGLC2</td>\n",
       "    </tr>\n",
       "    <tr>\n",
       "      <th>...</th>\n",
       "      <td>...</td>\n",
       "      <td>...</td>\n",
       "    </tr>\n",
       "    <tr>\n",
       "      <th>109</th>\n",
       "      <td>09504000</td>\n",
       "      <td>VDCA3</td>\n",
       "    </tr>\n",
       "    <tr>\n",
       "      <th>110</th>\n",
       "      <td>09508500</td>\n",
       "      <td>VDTA3</td>\n",
       "    </tr>\n",
       "    <tr>\n",
       "      <th>111</th>\n",
       "      <td>10130500</td>\n",
       "      <td>CLLU1</td>\n",
       "    </tr>\n",
       "    <tr>\n",
       "      <th>112</th>\n",
       "      <td>10128500</td>\n",
       "      <td>OAWU1</td>\n",
       "    </tr>\n",
       "    <tr>\n",
       "      <th>113</th>\n",
       "      <td>09505200</td>\n",
       "      <td>WBVA3</td>\n",
       "    </tr>\n",
       "  </tbody>\n",
       "</table>\n",
       "<p>114 rows × 2 columns</p>\n",
       "</div>"
      ],
      "text/plain": [
       "         USGS   NOAA\n",
       "0    09067020  EALC2\n",
       "1    09057500  BGMC2\n",
       "2    09066325  GRVC2\n",
       "3    09070000  GPSC2\n",
       "4    09070500  EGLC2\n",
       "..        ...    ...\n",
       "109  09504000  VDCA3\n",
       "110  09508500  VDTA3\n",
       "111  10130500  CLLU1\n",
       "112  10128500  OAWU1\n",
       "113  09505200  WBVA3\n",
       "\n",
       "[114 rows x 2 columns]"
      ]
     },
     "execution_count": 12,
     "metadata": {},
     "output_type": "execute_result"
    }
   ],
   "source": [
    "df2 = df2.append(df_new, ignore_index=True)\n",
    "df2"
   ]
  },
  {
   "cell_type": "markdown",
   "metadata": {},
   "source": [
    "This is excellent! Exactly what we wanted from this exploration! We went from 86 gauges to 114 that we can have prediction for."
   ]
  },
  {
   "cell_type": "markdown",
   "metadata": {},
   "source": [
    "## Export those USGS and NOAA to CSV that can be used on the website"
   ]
  },
  {
   "cell_type": "code",
   "execution_count": 13,
   "metadata": {},
   "outputs": [],
   "source": [
    "# df2.to_csv(\"USGS_NOAA_newer.csv\", index=False, header=False)\n",
    "# already exported this, so no need to do that again"
   ]
  },
  {
   "cell_type": "markdown",
   "metadata": {},
   "source": [
    "## Find the list of USGS gauges that are NOT covered by the NOAA predictions"
   ]
  },
  {
   "cell_type": "code",
   "execution_count": 18,
   "metadata": {},
   "outputs": [
    {
     "data": {
      "text/plain": [
       "156"
      ]
     },
     "execution_count": 18,
     "metadata": {},
     "output_type": "execute_result"
    }
   ],
   "source": [
    "USGS_missing = []\n",
    "old_USGS = df2['USGS'].tolist()\n",
    "for g in USGS_current:\n",
    "    if g not in old_USGS:\n",
    "        USGS_missing.append(g)\n",
    "len(USGS_missing)"
   ]
  },
  {
   "cell_type": "markdown",
   "metadata": {},
   "source": [
    "This list of 156 gauges are ones that we don't have predictions for. We will hopefully be able to build models for some of these gauges so that we can use the existing predictions "
   ]
  },
  {
   "cell_type": "code",
   "execution_count": 19,
   "metadata": {},
   "outputs": [],
   "source": [
    "df_missing = pd.DataFrame(USGS_missing, columns =['USGS'])"
   ]
  },
  {
   "cell_type": "code",
   "execution_count": 20,
   "metadata": {},
   "outputs": [],
   "source": [
    "## Export DF so that we can use them in the future notebooks\n",
    "df_missing.to_pickle(\"USGS_missing.pkl\")\n",
    "df_missing.to_csv(\"USGS_missing.csv\")"
   ]
  },
  {
   "cell_type": "markdown",
   "metadata": {},
   "source": [
    "In the future notebook\n",
    "    - go to USGS page\n",
    "    - pull long and lat for that gauge; also pull river\n",
    "    - correlated to close by gauges"
   ]
  }
 ],
 "metadata": {
  "kernelspec": {
   "display_name": "Python 3",
   "language": "python",
   "name": "python3"
  },
  "language_info": {
   "codemirror_mode": {
    "name": "ipython",
    "version": 3
   },
   "file_extension": ".py",
   "mimetype": "text/x-python",
   "name": "python",
   "nbconvert_exporter": "python",
   "pygments_lexer": "ipython3",
   "version": "3.7.6"
  }
 },
 "nbformat": 4,
 "nbformat_minor": 4
}
