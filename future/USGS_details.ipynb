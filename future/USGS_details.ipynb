{
 "cells": [
  {
   "cell_type": "markdown",
   "metadata": {},
   "source": [
    "In this notebook\n",
    "    - go to USGS page\n",
    "    - pull long and lat for that gauge; also pull river and any other info that could be used to correlate gauges to each other\n"
   ]
  },
  {
   "cell_type": "markdown",
   "metadata": {},
   "source": [
    "Looking at gauge meta data for just a couple of gauges, we find a few really useful bits of information:\n",
    "    - latitude\n",
    "    - longitude\n",
    "    - altitude\n",
    "    - Subbasin hydrologic unit (River System)"
   ]
  },
  {
   "cell_type": "code",
   "execution_count": 30,
   "metadata": {},
   "outputs": [],
   "source": [
    "import pandas as pd\n",
    "from bs4 import BeautifulSoup\n",
    "import os\n",
    "import requests\n",
    "import time\n",
    "import re"
   ]
  },
  {
   "cell_type": "code",
   "execution_count": 31,
   "metadata": {},
   "outputs": [],
   "source": [
    "import pickle\n",
    "path=\"C:\\Springboard\\Github\\gauge_info\"\n",
    "os.chdir(path)"
   ]
  },
  {
   "cell_type": "code",
   "execution_count": 32,
   "metadata": {},
   "outputs": [
    {
     "data": {
      "text/html": [
       "<div>\n",
       "<style scoped>\n",
       "    .dataframe tbody tr th:only-of-type {\n",
       "        vertical-align: middle;\n",
       "    }\n",
       "\n",
       "    .dataframe tbody tr th {\n",
       "        vertical-align: top;\n",
       "    }\n",
       "\n",
       "    .dataframe thead th {\n",
       "        text-align: right;\n",
       "    }\n",
       "</style>\n",
       "<table border=\"1\" class=\"dataframe\">\n",
       "  <thead>\n",
       "    <tr style=\"text-align: right;\">\n",
       "      <th></th>\n",
       "      <th>NOAA_gauge</th>\n",
       "      <th>River</th>\n",
       "      <th>State</th>\n",
       "      <th>Elevation</th>\n",
       "      <th>Segment</th>\n",
       "      <th>USGS_link</th>\n",
       "      <th>usgs</th>\n",
       "    </tr>\n",
       "  </thead>\n",
       "  <tbody>\n",
       "    <tr>\n",
       "      <th>0</th>\n",
       "      <td>SPRA3</td>\n",
       "      <td>San Pedro</td>\n",
       "      <td>AZ</td>\n",
       "      <td>2820</td>\n",
       "      <td>7</td>\n",
       "      <td>http://waterdata.usgs.gov/az/nwis/uv?09472050</td>\n",
       "      <td>09472050</td>\n",
       "    </tr>\n",
       "    <tr>\n",
       "      <th>1</th>\n",
       "      <td>MAOA3</td>\n",
       "      <td>Acdc</td>\n",
       "      <td>AZ</td>\n",
       "      <td>1230</td>\n",
       "      <td>6</td>\n",
       "      <td>0</td>\n",
       "      <td>0</td>\n",
       "    </tr>\n",
       "    <tr>\n",
       "      <th>2</th>\n",
       "      <td>MHFA3</td>\n",
       "      <td>Acdc</td>\n",
       "      <td>AZ</td>\n",
       "      <td>1225</td>\n",
       "      <td>7</td>\n",
       "      <td>0</td>\n",
       "      <td>0</td>\n",
       "    </tr>\n",
       "    <tr>\n",
       "      <th>3</th>\n",
       "      <td>MSXA3</td>\n",
       "      <td>Acdc</td>\n",
       "      <td>AZ</td>\n",
       "      <td>1220</td>\n",
       "      <td>8</td>\n",
       "      <td>0</td>\n",
       "      <td>0</td>\n",
       "    </tr>\n",
       "    <tr>\n",
       "      <th>4</th>\n",
       "      <td>ACHA3</td>\n",
       "      <td>Agua Caliente Wash</td>\n",
       "      <td>AZ</td>\n",
       "      <td>2588</td>\n",
       "      <td>2</td>\n",
       "      <td>0</td>\n",
       "      <td>0</td>\n",
       "    </tr>\n",
       "  </tbody>\n",
       "</table>\n",
       "</div>"
      ],
      "text/plain": [
       "  NOAA_gauge                River State Elevation Segment  \\\n",
       "0      SPRA3           San Pedro     AZ      2820       7   \n",
       "1      MAOA3                Acdc     AZ      1230       6   \n",
       "2      MHFA3                Acdc     AZ      1225       7   \n",
       "3      MSXA3                Acdc     AZ      1220       8   \n",
       "4      ACHA3  Agua Caliente Wash     AZ      2588       2   \n",
       "\n",
       "                                       USGS_link      usgs  \n",
       "0  http://waterdata.usgs.gov/az/nwis/uv?09472050  09472050  \n",
       "1                                              0         0  \n",
       "2                                              0         0  \n",
       "3                                              0         0  \n",
       "4                                              0         0  "
      ]
     },
     "execution_count": 32,
     "metadata": {},
     "output_type": "execute_result"
    }
   ],
   "source": [
    "# load DF with NOAA and USGS for all gauges in Colorado River Basin that have predictions in NOAA\n",
    "df = pickle.load(open(\"NOAA_USGS.pkl\", \"rb\"))\n",
    "df.head()"
   ]
  },
  {
   "cell_type": "markdown",
   "metadata": {},
   "source": [
    "This is the list of potential features to use for predicting the water flow for the gauges"
   ]
  },
  {
   "cell_type": "code",
   "execution_count": 33,
   "metadata": {},
   "outputs": [
    {
     "data": {
      "text/html": [
       "<div>\n",
       "<style scoped>\n",
       "    .dataframe tbody tr th:only-of-type {\n",
       "        vertical-align: middle;\n",
       "    }\n",
       "\n",
       "    .dataframe tbody tr th {\n",
       "        vertical-align: top;\n",
       "    }\n",
       "\n",
       "    .dataframe thead th {\n",
       "        text-align: right;\n",
       "    }\n",
       "</style>\n",
       "<table border=\"1\" class=\"dataframe\">\n",
       "  <thead>\n",
       "    <tr style=\"text-align: right;\">\n",
       "      <th></th>\n",
       "      <th>USGS</th>\n",
       "    </tr>\n",
       "  </thead>\n",
       "  <tbody>\n",
       "    <tr>\n",
       "      <th>0</th>\n",
       "      <td>10140700</td>\n",
       "    </tr>\n",
       "    <tr>\n",
       "      <th>1</th>\n",
       "      <td>10149000</td>\n",
       "    </tr>\n",
       "    <tr>\n",
       "      <th>2</th>\n",
       "      <td>10155200</td>\n",
       "    </tr>\n",
       "    <tr>\n",
       "      <th>3</th>\n",
       "      <td>10224000</td>\n",
       "    </tr>\n",
       "    <tr>\n",
       "      <th>4</th>\n",
       "      <td>10308200</td>\n",
       "    </tr>\n",
       "    <tr>\n",
       "      <th>...</th>\n",
       "      <td>...</td>\n",
       "    </tr>\n",
       "    <tr>\n",
       "      <th>151</th>\n",
       "      <td>09076300</td>\n",
       "    </tr>\n",
       "    <tr>\n",
       "      <th>152</th>\n",
       "      <td>RFBASALT</td>\n",
       "    </tr>\n",
       "    <tr>\n",
       "      <th>153</th>\n",
       "      <td>ESCCREEKCO</td>\n",
       "    </tr>\n",
       "    <tr>\n",
       "      <th>154</th>\n",
       "      <td>SFPAYETTEID</td>\n",
       "    </tr>\n",
       "    <tr>\n",
       "      <th>155</th>\n",
       "      <td>SFPAYETTESTAIRID</td>\n",
       "    </tr>\n",
       "  </tbody>\n",
       "</table>\n",
       "<p>156 rows × 1 columns</p>\n",
       "</div>"
      ],
      "text/plain": [
       "                 USGS\n",
       "0            10140700\n",
       "1            10149000\n",
       "2            10155200\n",
       "3            10224000\n",
       "4            10308200\n",
       "..                ...\n",
       "151          09076300\n",
       "152          RFBASALT\n",
       "153        ESCCREEKCO\n",
       "154       SFPAYETTEID\n",
       "155  SFPAYETTESTAIRID\n",
       "\n",
       "[156 rows x 1 columns]"
      ]
     },
     "execution_count": 33,
     "metadata": {},
     "output_type": "execute_result"
    }
   ],
   "source": [
    "# load DF with the list of gauges that we would like to get predictions on\n",
    "dfm = pickle.load(open(\"USGS_missing.pkl\", \"rb\"))\n",
    "dfm"
   ]
  },
  {
   "cell_type": "markdown",
   "metadata": {},
   "source": [
    "### Data loaded from previous notebook. Let's see if we can scrape websites for the appropriate data about each gauge:\n",
    "    - latitude\n",
    "    - longitude\n",
    "    - altitude\n",
    "    - Subbasin hydrologic unit (River System)"
   ]
  },
  {
   "cell_type": "markdown",
   "metadata": {},
   "source": [
    "Looks like this is the general link that we need to scrape: <br>\n",
    "https://waterdata.usgs.gov/monitoring-location/GAUGE NUMBER/#parameterCode=00060&period=P7D <br>\n",
    "Let's try to pull the data from one to take a look"
   ]
  },
  {
   "cell_type": "code",
   "execution_count": 34,
   "metadata": {},
   "outputs": [],
   "source": [
    "## try to pull on just the first gauge to get it correct\n",
    "link = 'https://waterdata.usgs.gov/monitoring-location/09073400/#parameterCode=00060&period=P7D'\n",
    "response = requests.get(link)\n",
    "soup = BeautifulSoup(response.text, \"html.parser\")"
   ]
  },
  {
   "cell_type": "code",
   "execution_count": 35,
   "metadata": {},
   "outputs": [
    {
     "name": "stdout",
     "output_type": "stream",
     "text": [
      "1\n"
     ]
    }
   ],
   "source": [
    "site_sum = soup.find_all(id='site-summary')\n",
    "print(len(site_sum))"
   ]
  },
  {
   "cell_type": "markdown",
   "metadata": {},
   "source": [
    "That's the data that we want, but we need to break it down more; let's sort it by the table rows"
   ]
  },
  {
   "cell_type": "code",
   "execution_count": 36,
   "metadata": {},
   "outputs": [
    {
     "name": "stdout",
     "output_type": "stream",
     "text": [
      "43\n"
     ]
    }
   ],
   "source": [
    "rows_sum = site_sum[0].find_all('tr')\n",
    "print(len(rows_sum))"
   ]
  },
  {
   "cell_type": "markdown",
   "metadata": {},
   "source": [
    "That's a lot of rows. We could count on the data that we want being in the same place every time, but we think a better way would be for the first entry in the row to correspond to the name we are looking for"
   ]
  },
  {
   "cell_type": "code",
   "execution_count": 37,
   "metadata": {
    "scrolled": false
   },
   "outputs": [
    {
     "name": "stdout",
     "output_type": "stream",
     "text": [
      "<tr>\n",
      "<th scope=\"row\">Decimal latitude\n",
      "                                                    \n",
      "                                                </th>\n",
      "<td class=\"loc-metadata\">\n",
      "                                                    \n",
      "                                                        39.17998755\n",
      "                                                    \n",
      "                                                    \n",
      "                                                </td>\n",
      "<td><sub>n/a</sub></td>\n",
      "</tr>\n"
     ]
    }
   ],
   "source": [
    "print(rows_sum[7])"
   ]
  },
  {
   "cell_type": "code",
   "execution_count": 38,
   "metadata": {
    "scrolled": true
   },
   "outputs": [
    {
     "data": {
      "text/plain": [
       "'Decimal latitude\\n                                                    \\n                                                '"
      ]
     },
     "execution_count": 38,
     "metadata": {},
     "output_type": "execute_result"
    }
   ],
   "source": [
    "# do an example of this first before writing the loop\n",
    "rows_sum[7].th.get_text()\n"
   ]
  },
  {
   "cell_type": "code",
   "execution_count": 39,
   "metadata": {},
   "outputs": [
    {
     "data": {
      "text/plain": [
       "True"
      ]
     },
     "execution_count": 39,
     "metadata": {},
     "output_type": "execute_result"
    }
   ],
   "source": [
    "# this is the text that we want to match (we change the case just in case somebody messed with that)\n",
    "'Decimal latitude'.lower() in rows_sum[7].th.get_text().lower()"
   ]
  },
  {
   "cell_type": "code",
   "execution_count": 40,
   "metadata": {},
   "outputs": [
    {
     "data": {
      "text/plain": [
       "'\\n                                                    \\n                                                        39.17998755\\n                                                    \\n                                                    \\n                                                '"
      ]
     },
     "execution_count": 40,
     "metadata": {},
     "output_type": "execute_result"
    }
   ],
   "source": [
    "# this is the data that we want to pull from that row\n",
    "lat = rows_sum[7].td.get_text()\n",
    "lat"
   ]
  },
  {
   "cell_type": "markdown",
   "metadata": {},
   "source": [
    "that is the number that we want, but we need to pull it out from all of the row breaks - we just want the numbers and not all of the other excess stuff"
   ]
  },
  {
   "cell_type": "code",
   "execution_count": 41,
   "metadata": {},
   "outputs": [
    {
     "data": {
      "text/plain": [
       "39.17998755"
      ]
     },
     "execution_count": 41,
     "metadata": {},
     "output_type": "execute_result"
    }
   ],
   "source": [
    "# let's try to extract just the digits\n",
    "float(re.findall(r'\\d+.\\d+', lat)[0])"
   ]
  },
  {
   "cell_type": "markdown",
   "metadata": {},
   "source": [
    "# this is exactly the data we want!\n",
    "## let's see if we can make this work for the other fields we are looking for"
   ]
  },
  {
   "cell_type": "code",
   "execution_count": null,
   "metadata": {},
   "outputs": [],
   "source": []
  },
  {
   "cell_type": "code",
   "execution_count": 42,
   "metadata": {},
   "outputs": [
    {
     "name": "stdout",
     "output_type": "stream",
     "text": [
      "Latitude:  39.17998755\n",
      "Longitude:  106.8019826\n",
      "Altitude:  8014.01\n",
      "Subbasin:  \n",
      "Roaring Fork\n",
      "\n"
     ]
    }
   ],
   "source": [
    "for row in rows_sum:\n",
    "    if 'Decimal latitude' in row.th.get_text():\n",
    "        print(\"Latitude: \", float(re.findall(r'\\d+.\\d+', row.td.get_text())[0]))\n",
    "    elif  'decimal longitude' in row.th.get_text().lower():\n",
    "        print(\"Longitude: \", float(re.findall(r'\\d+.\\d+', row.td.get_text())[0]))\n",
    "    elif 'altitude of gage' in row.th.get_text().lower():\n",
    "        print(\"Altitude: \", float(re.findall(r'\\d+.\\d+', row.td.get_text())[0]))\n",
    "    elif  'subbasin' in row.th.get_text().lower():\n",
    "        print('Subbasin: ', row.td.get_text())\n",
    "        "
   ]
  },
  {
   "cell_type": "markdown",
   "metadata": {},
   "source": [
    "This looks good, as long as each gage uses this text to identify these values. I also need to clean up the text I get from the Subbasin - maybe regex for it."
   ]
  },
  {
   "cell_type": "code",
   "execution_count": 43,
   "metadata": {},
   "outputs": [
    {
     "data": {
      "text/plain": [
       "'\\nRoaring Fork\\n'"
      ]
     },
     "execution_count": 43,
     "metadata": {},
     "output_type": "execute_result"
    }
   ],
   "source": [
    "rows_sum[24].td.get_text()"
   ]
  },
  {
   "cell_type": "markdown",
   "metadata": {},
   "source": [
    "That's actually not that hard. I will drop '\\n' and hopefully, life will be good"
   ]
  },
  {
   "cell_type": "code",
   "execution_count": 44,
   "metadata": {},
   "outputs": [
    {
     "data": {
      "text/plain": [
       "'Roaring Fork'"
      ]
     },
     "execution_count": 44,
     "metadata": {},
     "output_type": "execute_result"
    }
   ],
   "source": [
    "rows_sum[24].td.get_text().replace('\\n', '')"
   ]
  },
  {
   "cell_type": "markdown",
   "metadata": {},
   "source": [
    "Excellent! Let's try that all at once!"
   ]
  },
  {
   "cell_type": "code",
   "execution_count": 45,
   "metadata": {},
   "outputs": [
    {
     "name": "stdout",
     "output_type": "stream",
     "text": [
      "Latitude: 39.17998755\n",
      "Longitude: 106.8019826\n",
      "Altitude: 8014.01\n",
      "Subbasin: Roaring Fork\n"
     ]
    }
   ],
   "source": [
    "for row in rows_sum:\n",
    "    if 'Decimal latitude' in row.th.get_text():\n",
    "        print(\"Latitude:\", float(re.findall(r'\\d+.\\d+', row.td.get_text())[0]))\n",
    "    elif  'decimal longitude' in row.th.get_text().lower():\n",
    "        print(\"Longitude:\", float(re.findall(r'\\d+.\\d+', row.td.get_text())[0]))\n",
    "    elif 'altitude of gage' in row.th.get_text().lower():\n",
    "        print(\"Altitude:\", float(re.findall(r'\\d+.\\d+', row.td.get_text())[0]))\n",
    "    elif  'subbasin' in row.th.get_text().lower():\n",
    "        print('Subbasin:', row.td.get_text().replace('\\n', ''))"
   ]
  },
  {
   "cell_type": "markdown",
   "metadata": {},
   "source": [
    "This is exactly the data that I was looking for. Let's iterate through the gages in each dataframe to make that work"
   ]
  },
  {
   "cell_type": "code",
   "execution_count": 52,
   "metadata": {
    "scrolled": true
   },
   "outputs": [
    {
     "data": {
      "text/html": [
       "<div>\n",
       "<style scoped>\n",
       "    .dataframe tbody tr th:only-of-type {\n",
       "        vertical-align: middle;\n",
       "    }\n",
       "\n",
       "    .dataframe tbody tr th {\n",
       "        vertical-align: top;\n",
       "    }\n",
       "\n",
       "    .dataframe thead th {\n",
       "        text-align: right;\n",
       "    }\n",
       "</style>\n",
       "<table border=\"1\" class=\"dataframe\">\n",
       "  <thead>\n",
       "    <tr style=\"text-align: right;\">\n",
       "      <th></th>\n",
       "      <th>NOAA_gauge</th>\n",
       "      <th>River</th>\n",
       "      <th>State</th>\n",
       "      <th>Elevation</th>\n",
       "      <th>Segment</th>\n",
       "      <th>USGS_link</th>\n",
       "      <th>usgs</th>\n",
       "    </tr>\n",
       "  </thead>\n",
       "  <tbody>\n",
       "    <tr>\n",
       "      <th>0</th>\n",
       "      <td>SPRA3</td>\n",
       "      <td>San Pedro</td>\n",
       "      <td>AZ</td>\n",
       "      <td>2820</td>\n",
       "      <td>7</td>\n",
       "      <td>http://waterdata.usgs.gov/az/nwis/uv?09472050</td>\n",
       "      <td>09472050</td>\n",
       "    </tr>\n",
       "    <tr>\n",
       "      <th>1</th>\n",
       "      <td>MAOA3</td>\n",
       "      <td>Acdc</td>\n",
       "      <td>AZ</td>\n",
       "      <td>1230</td>\n",
       "      <td>6</td>\n",
       "      <td>0</td>\n",
       "      <td>0</td>\n",
       "    </tr>\n",
       "    <tr>\n",
       "      <th>2</th>\n",
       "      <td>MHFA3</td>\n",
       "      <td>Acdc</td>\n",
       "      <td>AZ</td>\n",
       "      <td>1225</td>\n",
       "      <td>7</td>\n",
       "      <td>0</td>\n",
       "      <td>0</td>\n",
       "    </tr>\n",
       "    <tr>\n",
       "      <th>3</th>\n",
       "      <td>MSXA3</td>\n",
       "      <td>Acdc</td>\n",
       "      <td>AZ</td>\n",
       "      <td>1220</td>\n",
       "      <td>8</td>\n",
       "      <td>0</td>\n",
       "      <td>0</td>\n",
       "    </tr>\n",
       "    <tr>\n",
       "      <th>4</th>\n",
       "      <td>ACHA3</td>\n",
       "      <td>Agua Caliente Wash</td>\n",
       "      <td>AZ</td>\n",
       "      <td>2588</td>\n",
       "      <td>2</td>\n",
       "      <td>0</td>\n",
       "      <td>0</td>\n",
       "    </tr>\n",
       "    <tr>\n",
       "      <th>5</th>\n",
       "      <td>AFHA3</td>\n",
       "      <td>Agua Fria</td>\n",
       "      <td>AZ</td>\n",
       "      <td>4400</td>\n",
       "      <td>17</td>\n",
       "      <td>http://waterdata.usgs.gov/az/nwis/uv?09512450</td>\n",
       "      <td>09512450</td>\n",
       "    </tr>\n",
       "    <tr>\n",
       "      <th>6</th>\n",
       "      <td>AFMA3</td>\n",
       "      <td>Agua Fria</td>\n",
       "      <td>AZ</td>\n",
       "      <td>3434</td>\n",
       "      <td>18</td>\n",
       "      <td>http://waterdata.usgs.gov/az/nwis/uv?09512500</td>\n",
       "      <td>09512500</td>\n",
       "    </tr>\n",
       "    <tr>\n",
       "      <th>7</th>\n",
       "      <td>AFRA3</td>\n",
       "      <td>Agua Fria</td>\n",
       "      <td>AZ</td>\n",
       "      <td>1800</td>\n",
       "      <td>19</td>\n",
       "      <td>http://waterdata.usgs.gov/az/nwis/uv?09512800</td>\n",
       "      <td>09512800</td>\n",
       "    </tr>\n",
       "    <tr>\n",
       "      <th>8</th>\n",
       "      <td>AVOA3</td>\n",
       "      <td>Agua Fria</td>\n",
       "      <td>AZ</td>\n",
       "      <td>970</td>\n",
       "      <td>26</td>\n",
       "      <td>0</td>\n",
       "      <td>0</td>\n",
       "    </tr>\n",
       "    <tr>\n",
       "      <th>9</th>\n",
       "      <td>MAFA3</td>\n",
       "      <td>Agua Fria</td>\n",
       "      <td>AZ</td>\n",
       "      <td>1115</td>\n",
       "      <td>24</td>\n",
       "      <td>0</td>\n",
       "      <td>0</td>\n",
       "    </tr>\n",
       "    <tr>\n",
       "      <th>10</th>\n",
       "      <td>ATPA3</td>\n",
       "      <td>Altar Wash</td>\n",
       "      <td>AZ</td>\n",
       "      <td>2975</td>\n",
       "      <td>24</td>\n",
       "      <td>http://waterdata.usgs.gov/az/nwis/uv?09486800</td>\n",
       "      <td>09486800</td>\n",
       "    </tr>\n",
       "    <tr>\n",
       "      <th>11</th>\n",
       "      <td>AFPU1</td>\n",
       "      <td>American Fork</td>\n",
       "      <td>UT</td>\n",
       "      <td>5950</td>\n",
       "      <td>11</td>\n",
       "      <td>http://waterdata.usgs.gov/ut/nwis/uv?10164500</td>\n",
       "      <td>10164500</td>\n",
       "    </tr>\n",
       "  </tbody>\n",
       "</table>\n",
       "</div>"
      ],
      "text/plain": [
       "   NOAA_gauge                River State Elevation Segment  \\\n",
       "0       SPRA3           San Pedro     AZ      2820       7   \n",
       "1       MAOA3                Acdc     AZ      1230       6   \n",
       "2       MHFA3                Acdc     AZ      1225       7   \n",
       "3       MSXA3                Acdc     AZ      1220       8   \n",
       "4       ACHA3  Agua Caliente Wash     AZ      2588       2   \n",
       "5       AFHA3           Agua Fria     AZ      4400      17   \n",
       "6       AFMA3           Agua Fria     AZ      3434      18   \n",
       "7       AFRA3           Agua Fria     AZ      1800      19   \n",
       "8       AVOA3           Agua Fria     AZ       970      26   \n",
       "9       MAFA3           Agua Fria     AZ      1115      24   \n",
       "10      ATPA3          Altar Wash     AZ      2975      24   \n",
       "11      AFPU1       American Fork     UT      5950      11   \n",
       "\n",
       "                                        USGS_link      usgs  \n",
       "0   http://waterdata.usgs.gov/az/nwis/uv?09472050  09472050  \n",
       "1                                               0         0  \n",
       "2                                               0         0  \n",
       "3                                               0         0  \n",
       "4                                               0         0  \n",
       "5   http://waterdata.usgs.gov/az/nwis/uv?09512450  09512450  \n",
       "6   http://waterdata.usgs.gov/az/nwis/uv?09512500  09512500  \n",
       "7   http://waterdata.usgs.gov/az/nwis/uv?09512800  09512800  \n",
       "8                                               0         0  \n",
       "9                                               0         0  \n",
       "10  http://waterdata.usgs.gov/az/nwis/uv?09486800  09486800  \n",
       "11  http://waterdata.usgs.gov/ut/nwis/uv?10164500  10164500  "
      ]
     },
     "execution_count": 52,
     "metadata": {},
     "output_type": "execute_result"
    }
   ],
   "source": [
    "df.head(12)"
   ]
  },
  {
   "cell_type": "markdown",
   "metadata": {},
   "source": [
    "Before we iterate, let's drop the rows that have no correponding usgs"
   ]
  },
  {
   "cell_type": "code",
   "execution_count": 59,
   "metadata": {},
   "outputs": [],
   "source": [
    "# switch columns from 0 to NaN\n",
    "import numpy as np\n",
    "df['usgs'].replace(to_replace=0, value=np.nan, inplace=True)"
   ]
  },
  {
   "cell_type": "code",
   "execution_count": 61,
   "metadata": {},
   "outputs": [
    {
     "data": {
      "text/html": [
       "<div>\n",
       "<style scoped>\n",
       "    .dataframe tbody tr th:only-of-type {\n",
       "        vertical-align: middle;\n",
       "    }\n",
       "\n",
       "    .dataframe tbody tr th {\n",
       "        vertical-align: top;\n",
       "    }\n",
       "\n",
       "    .dataframe thead th {\n",
       "        text-align: right;\n",
       "    }\n",
       "</style>\n",
       "<table border=\"1\" class=\"dataframe\">\n",
       "  <thead>\n",
       "    <tr style=\"text-align: right;\">\n",
       "      <th></th>\n",
       "      <th>NOAA_gauge</th>\n",
       "      <th>River</th>\n",
       "      <th>State</th>\n",
       "      <th>Elevation</th>\n",
       "      <th>Segment</th>\n",
       "      <th>USGS_link</th>\n",
       "      <th>usgs</th>\n",
       "    </tr>\n",
       "  </thead>\n",
       "  <tbody>\n",
       "    <tr>\n",
       "      <th>0</th>\n",
       "      <td>SPRA3</td>\n",
       "      <td>San Pedro</td>\n",
       "      <td>AZ</td>\n",
       "      <td>2820</td>\n",
       "      <td>7</td>\n",
       "      <td>http://waterdata.usgs.gov/az/nwis/uv?09472050</td>\n",
       "      <td>09472050</td>\n",
       "    </tr>\n",
       "    <tr>\n",
       "      <th>5</th>\n",
       "      <td>AFHA3</td>\n",
       "      <td>Agua Fria</td>\n",
       "      <td>AZ</td>\n",
       "      <td>4400</td>\n",
       "      <td>17</td>\n",
       "      <td>http://waterdata.usgs.gov/az/nwis/uv?09512450</td>\n",
       "      <td>09512450</td>\n",
       "    </tr>\n",
       "    <tr>\n",
       "      <th>6</th>\n",
       "      <td>AFMA3</td>\n",
       "      <td>Agua Fria</td>\n",
       "      <td>AZ</td>\n",
       "      <td>3434</td>\n",
       "      <td>18</td>\n",
       "      <td>http://waterdata.usgs.gov/az/nwis/uv?09512500</td>\n",
       "      <td>09512500</td>\n",
       "    </tr>\n",
       "    <tr>\n",
       "      <th>7</th>\n",
       "      <td>AFRA3</td>\n",
       "      <td>Agua Fria</td>\n",
       "      <td>AZ</td>\n",
       "      <td>1800</td>\n",
       "      <td>19</td>\n",
       "      <td>http://waterdata.usgs.gov/az/nwis/uv?09512800</td>\n",
       "      <td>09512800</td>\n",
       "    </tr>\n",
       "    <tr>\n",
       "      <th>10</th>\n",
       "      <td>ATPA3</td>\n",
       "      <td>Altar Wash</td>\n",
       "      <td>AZ</td>\n",
       "      <td>2975</td>\n",
       "      <td>24</td>\n",
       "      <td>http://waterdata.usgs.gov/az/nwis/uv?09486800</td>\n",
       "      <td>09486800</td>\n",
       "    </tr>\n",
       "    <tr>\n",
       "      <th>...</th>\n",
       "      <td>...</td>\n",
       "      <td>...</td>\n",
       "      <td>...</td>\n",
       "      <td>...</td>\n",
       "      <td>...</td>\n",
       "      <td>...</td>\n",
       "      <td>...</td>\n",
       "    </tr>\n",
       "    <tr>\n",
       "      <th>450</th>\n",
       "      <td>YASC2</td>\n",
       "      <td>Yampa</td>\n",
       "      <td>CO</td>\n",
       "      <td>7240</td>\n",
       "      <td>2</td>\n",
       "      <td>http://waterdata.usgs.gov/co/nwis/uv?09237450</td>\n",
       "      <td>09237450</td>\n",
       "    </tr>\n",
       "    <tr>\n",
       "      <th>451</th>\n",
       "      <td>YDLC2</td>\n",
       "      <td>Yampa</td>\n",
       "      <td>CO</td>\n",
       "      <td>5600</td>\n",
       "      <td>17</td>\n",
       "      <td>http://waterdata.usgs.gov/co/nwis/uv?09260050</td>\n",
       "      <td>09260050</td>\n",
       "    </tr>\n",
       "    <tr>\n",
       "      <th>452</th>\n",
       "      <td>YMSC2</td>\n",
       "      <td>Yampa</td>\n",
       "      <td>CO</td>\n",
       "      <td>7050</td>\n",
       "      <td>4</td>\n",
       "      <td>http://waterdata.usgs.gov/co/nwis/uv?09237500</td>\n",
       "      <td>09237500</td>\n",
       "    </tr>\n",
       "    <tr>\n",
       "      <th>453</th>\n",
       "      <td>YLLU1</td>\n",
       "      <td>Yellowstone</td>\n",
       "      <td>UT</td>\n",
       "      <td>7430</td>\n",
       "      <td>20</td>\n",
       "      <td>http://waterdata.usgs.gov/ut/nwis/uv?09292500</td>\n",
       "      <td>09292500</td>\n",
       "    </tr>\n",
       "    <tr>\n",
       "      <th>454</th>\n",
       "      <td>ZUIN5</td>\n",
       "      <td>Zuni</td>\n",
       "      <td>NM</td>\n",
       "      <td>6450</td>\n",
       "      <td>1</td>\n",
       "      <td>http://waterdata.usgs.gov/nm/nwis/uv?09386950</td>\n",
       "      <td>09386950</td>\n",
       "    </tr>\n",
       "  </tbody>\n",
       "</table>\n",
       "<p>376 rows × 7 columns</p>\n",
       "</div>"
      ],
      "text/plain": [
       "    NOAA_gauge         River State Elevation Segment  \\\n",
       "0        SPRA3    San Pedro     AZ      2820       7   \n",
       "5        AFHA3    Agua Fria     AZ      4400      17   \n",
       "6        AFMA3    Agua Fria     AZ      3434      18   \n",
       "7        AFRA3    Agua Fria     AZ      1800      19   \n",
       "10       ATPA3   Altar Wash     AZ      2975      24   \n",
       "..         ...           ...   ...       ...     ...   \n",
       "450      YASC2        Yampa     CO      7240       2   \n",
       "451      YDLC2        Yampa     CO      5600      17   \n",
       "452      YMSC2        Yampa     CO      7050       4   \n",
       "453      YLLU1  Yellowstone     UT      7430      20   \n",
       "454      ZUIN5         Zuni     NM      6450       1   \n",
       "\n",
       "                                         USGS_link      usgs  \n",
       "0    http://waterdata.usgs.gov/az/nwis/uv?09472050  09472050  \n",
       "5    http://waterdata.usgs.gov/az/nwis/uv?09512450  09512450  \n",
       "6    http://waterdata.usgs.gov/az/nwis/uv?09512500  09512500  \n",
       "7    http://waterdata.usgs.gov/az/nwis/uv?09512800  09512800  \n",
       "10   http://waterdata.usgs.gov/az/nwis/uv?09486800  09486800  \n",
       "..                                             ...       ...  \n",
       "450  http://waterdata.usgs.gov/co/nwis/uv?09237450  09237450  \n",
       "451  http://waterdata.usgs.gov/co/nwis/uv?09260050  09260050  \n",
       "452  http://waterdata.usgs.gov/co/nwis/uv?09237500  09237500  \n",
       "453  http://waterdata.usgs.gov/ut/nwis/uv?09292500  09292500  \n",
       "454  http://waterdata.usgs.gov/nm/nwis/uv?09386950  09386950  \n",
       "\n",
       "[376 rows x 7 columns]"
      ]
     },
     "execution_count": 61,
     "metadata": {},
     "output_type": "execute_result"
    }
   ],
   "source": [
    "df.dropna(subset=['usgs'], inplace=True)\n",
    "df"
   ]
  },
  {
   "cell_type": "code",
   "execution_count": 66,
   "metadata": {},
   "outputs": [
    {
     "data": {
      "text/html": [
       "<div>\n",
       "<style scoped>\n",
       "    .dataframe tbody tr th:only-of-type {\n",
       "        vertical-align: middle;\n",
       "    }\n",
       "\n",
       "    .dataframe tbody tr th {\n",
       "        vertical-align: top;\n",
       "    }\n",
       "\n",
       "    .dataframe thead th {\n",
       "        text-align: right;\n",
       "    }\n",
       "</style>\n",
       "<table border=\"1\" class=\"dataframe\">\n",
       "  <thead>\n",
       "    <tr style=\"text-align: right;\">\n",
       "      <th></th>\n",
       "      <th>NOAA_gauge</th>\n",
       "      <th>River</th>\n",
       "      <th>State</th>\n",
       "      <th>Elevation</th>\n",
       "      <th>Segment</th>\n",
       "      <th>USGS_link</th>\n",
       "      <th>usgs</th>\n",
       "      <th>lat</th>\n",
       "      <th>long</th>\n",
       "      <th>alt</th>\n",
       "      <th>basin</th>\n",
       "    </tr>\n",
       "  </thead>\n",
       "  <tbody>\n",
       "    <tr>\n",
       "      <th>0</th>\n",
       "      <td>SPRA3</td>\n",
       "      <td>San Pedro</td>\n",
       "      <td>AZ</td>\n",
       "      <td>2820</td>\n",
       "      <td>7</td>\n",
       "      <td>http://waterdata.usgs.gov/az/nwis/uv?09472050</td>\n",
       "      <td>09472050</td>\n",
       "      <td>2820</td>\n",
       "      <td>2820</td>\n",
       "      <td>2820</td>\n",
       "      <td>09472050</td>\n",
       "    </tr>\n",
       "    <tr>\n",
       "      <th>5</th>\n",
       "      <td>AFHA3</td>\n",
       "      <td>Agua Fria</td>\n",
       "      <td>AZ</td>\n",
       "      <td>4400</td>\n",
       "      <td>17</td>\n",
       "      <td>http://waterdata.usgs.gov/az/nwis/uv?09512450</td>\n",
       "      <td>09512450</td>\n",
       "      <td>4400</td>\n",
       "      <td>4400</td>\n",
       "      <td>4400</td>\n",
       "      <td>09512450</td>\n",
       "    </tr>\n",
       "    <tr>\n",
       "      <th>6</th>\n",
       "      <td>AFMA3</td>\n",
       "      <td>Agua Fria</td>\n",
       "      <td>AZ</td>\n",
       "      <td>3434</td>\n",
       "      <td>18</td>\n",
       "      <td>http://waterdata.usgs.gov/az/nwis/uv?09512500</td>\n",
       "      <td>09512500</td>\n",
       "      <td>3434</td>\n",
       "      <td>3434</td>\n",
       "      <td>3434</td>\n",
       "      <td>09512500</td>\n",
       "    </tr>\n",
       "    <tr>\n",
       "      <th>7</th>\n",
       "      <td>AFRA3</td>\n",
       "      <td>Agua Fria</td>\n",
       "      <td>AZ</td>\n",
       "      <td>1800</td>\n",
       "      <td>19</td>\n",
       "      <td>http://waterdata.usgs.gov/az/nwis/uv?09512800</td>\n",
       "      <td>09512800</td>\n",
       "      <td>1800</td>\n",
       "      <td>1800</td>\n",
       "      <td>1800</td>\n",
       "      <td>09512800</td>\n",
       "    </tr>\n",
       "    <tr>\n",
       "      <th>10</th>\n",
       "      <td>ATPA3</td>\n",
       "      <td>Altar Wash</td>\n",
       "      <td>AZ</td>\n",
       "      <td>2975</td>\n",
       "      <td>24</td>\n",
       "      <td>http://waterdata.usgs.gov/az/nwis/uv?09486800</td>\n",
       "      <td>09486800</td>\n",
       "      <td>2975</td>\n",
       "      <td>2975</td>\n",
       "      <td>2975</td>\n",
       "      <td>09486800</td>\n",
       "    </tr>\n",
       "    <tr>\n",
       "      <th>...</th>\n",
       "      <td>...</td>\n",
       "      <td>...</td>\n",
       "      <td>...</td>\n",
       "      <td>...</td>\n",
       "      <td>...</td>\n",
       "      <td>...</td>\n",
       "      <td>...</td>\n",
       "      <td>...</td>\n",
       "      <td>...</td>\n",
       "      <td>...</td>\n",
       "      <td>...</td>\n",
       "    </tr>\n",
       "    <tr>\n",
       "      <th>450</th>\n",
       "      <td>YASC2</td>\n",
       "      <td>Yampa</td>\n",
       "      <td>CO</td>\n",
       "      <td>7240</td>\n",
       "      <td>2</td>\n",
       "      <td>http://waterdata.usgs.gov/co/nwis/uv?09237450</td>\n",
       "      <td>09237450</td>\n",
       "      <td>7240</td>\n",
       "      <td>7240</td>\n",
       "      <td>7240</td>\n",
       "      <td>09237450</td>\n",
       "    </tr>\n",
       "    <tr>\n",
       "      <th>451</th>\n",
       "      <td>YDLC2</td>\n",
       "      <td>Yampa</td>\n",
       "      <td>CO</td>\n",
       "      <td>5600</td>\n",
       "      <td>17</td>\n",
       "      <td>http://waterdata.usgs.gov/co/nwis/uv?09260050</td>\n",
       "      <td>09260050</td>\n",
       "      <td>5600</td>\n",
       "      <td>5600</td>\n",
       "      <td>5600</td>\n",
       "      <td>09260050</td>\n",
       "    </tr>\n",
       "    <tr>\n",
       "      <th>452</th>\n",
       "      <td>YMSC2</td>\n",
       "      <td>Yampa</td>\n",
       "      <td>CO</td>\n",
       "      <td>7050</td>\n",
       "      <td>4</td>\n",
       "      <td>http://waterdata.usgs.gov/co/nwis/uv?09237500</td>\n",
       "      <td>09237500</td>\n",
       "      <td>7050</td>\n",
       "      <td>7050</td>\n",
       "      <td>7050</td>\n",
       "      <td>09237500</td>\n",
       "    </tr>\n",
       "    <tr>\n",
       "      <th>453</th>\n",
       "      <td>YLLU1</td>\n",
       "      <td>Yellowstone</td>\n",
       "      <td>UT</td>\n",
       "      <td>7430</td>\n",
       "      <td>20</td>\n",
       "      <td>http://waterdata.usgs.gov/ut/nwis/uv?09292500</td>\n",
       "      <td>09292500</td>\n",
       "      <td>7430</td>\n",
       "      <td>7430</td>\n",
       "      <td>7430</td>\n",
       "      <td>09292500</td>\n",
       "    </tr>\n",
       "    <tr>\n",
       "      <th>454</th>\n",
       "      <td>ZUIN5</td>\n",
       "      <td>Zuni</td>\n",
       "      <td>NM</td>\n",
       "      <td>6450</td>\n",
       "      <td>1</td>\n",
       "      <td>http://waterdata.usgs.gov/nm/nwis/uv?09386950</td>\n",
       "      <td>09386950</td>\n",
       "      <td>6450</td>\n",
       "      <td>6450</td>\n",
       "      <td>6450</td>\n",
       "      <td>09386950</td>\n",
       "    </tr>\n",
       "  </tbody>\n",
       "</table>\n",
       "<p>376 rows × 11 columns</p>\n",
       "</div>"
      ],
      "text/plain": [
       "    NOAA_gauge         River State Elevation Segment  \\\n",
       "0        SPRA3    San Pedro     AZ      2820       7   \n",
       "5        AFHA3    Agua Fria     AZ      4400      17   \n",
       "6        AFMA3    Agua Fria     AZ      3434      18   \n",
       "7        AFRA3    Agua Fria     AZ      1800      19   \n",
       "10       ATPA3   Altar Wash     AZ      2975      24   \n",
       "..         ...           ...   ...       ...     ...   \n",
       "450      YASC2        Yampa     CO      7240       2   \n",
       "451      YDLC2        Yampa     CO      5600      17   \n",
       "452      YMSC2        Yampa     CO      7050       4   \n",
       "453      YLLU1  Yellowstone     UT      7430      20   \n",
       "454      ZUIN5         Zuni     NM      6450       1   \n",
       "\n",
       "                                         USGS_link      usgs   lat  long  \\\n",
       "0    http://waterdata.usgs.gov/az/nwis/uv?09472050  09472050  2820  2820   \n",
       "5    http://waterdata.usgs.gov/az/nwis/uv?09512450  09512450  4400  4400   \n",
       "6    http://waterdata.usgs.gov/az/nwis/uv?09512500  09512500  3434  3434   \n",
       "7    http://waterdata.usgs.gov/az/nwis/uv?09512800  09512800  1800  1800   \n",
       "10   http://waterdata.usgs.gov/az/nwis/uv?09486800  09486800  2975  2975   \n",
       "..                                             ...       ...   ...   ...   \n",
       "450  http://waterdata.usgs.gov/co/nwis/uv?09237450  09237450  7240  7240   \n",
       "451  http://waterdata.usgs.gov/co/nwis/uv?09260050  09260050  5600  5600   \n",
       "452  http://waterdata.usgs.gov/co/nwis/uv?09237500  09237500  7050  7050   \n",
       "453  http://waterdata.usgs.gov/ut/nwis/uv?09292500  09292500  7430  7430   \n",
       "454  http://waterdata.usgs.gov/nm/nwis/uv?09386950  09386950  6450  6450   \n",
       "\n",
       "      alt     basin  \n",
       "0    2820  09472050  \n",
       "5    4400  09512450  \n",
       "6    3434  09512500  \n",
       "7    1800  09512800  \n",
       "10   2975  09486800  \n",
       "..    ...       ...  \n",
       "450  7240  09237450  \n",
       "451  5600  09260050  \n",
       "452  7050  09237500  \n",
       "453  7430  09292500  \n",
       "454  6450  09386950  \n",
       "\n",
       "[376 rows x 11 columns]"
      ]
     },
     "execution_count": 66,
     "metadata": {},
     "output_type": "execute_result"
    }
   ],
   "source": [
    "# create new columns in DF\n",
    "df['lat'] = df['Elevation']\n",
    "df['long'] = df['Elevation']\n",
    "df['alt'] = df['Elevation']\n",
    "df['basin'] = df['usgs']\n",
    "df"
   ]
  },
  {
   "cell_type": "markdown",
   "metadata": {},
   "source": [
    "with those columns added, we are now ready to iterate through the USGS info and pull the data that we need. We'll put that into the dataframe and see how it looks in a few minutes."
   ]
  },
  {
   "cell_type": "code",
   "execution_count": 84,
   "metadata": {
    "scrolled": true
   },
   "outputs": [
    {
     "ename": "KeyError",
     "evalue": "'[151] not found in axis'",
     "output_type": "error",
     "traceback": [
      "\u001b[1;31m---------------------------------------------------------------------------\u001b[0m",
      "\u001b[1;31mKeyError\u001b[0m                                  Traceback (most recent call last)",
      "\u001b[1;32m<ipython-input-84-9c01316f6b4f>\u001b[0m in \u001b[0;36m<module>\u001b[1;34m\u001b[0m\n\u001b[0;32m      1\u001b[0m \u001b[1;31m# found a missing page and will remove that gage from the DF\u001b[0m\u001b[1;33m\u001b[0m\u001b[1;33m\u001b[0m\u001b[1;33m\u001b[0m\u001b[0m\n\u001b[1;32m----> 2\u001b[1;33m \u001b[0mdf\u001b[0m\u001b[1;33m.\u001b[0m\u001b[0mdrop\u001b[0m\u001b[1;33m(\u001b[0m\u001b[0mlabels\u001b[0m\u001b[1;33m=\u001b[0m\u001b[1;36m151\u001b[0m\u001b[1;33m,\u001b[0m \u001b[0maxis\u001b[0m\u001b[1;33m=\u001b[0m\u001b[1;36m0\u001b[0m\u001b[1;33m,\u001b[0m \u001b[0minplace\u001b[0m\u001b[1;33m=\u001b[0m\u001b[1;32mTrue\u001b[0m\u001b[1;33m)\u001b[0m\u001b[1;33m\u001b[0m\u001b[1;33m\u001b[0m\u001b[0m\n\u001b[0m\u001b[0;32m      3\u001b[0m \u001b[0mdf\u001b[0m\u001b[1;33m[\u001b[0m\u001b[1;36m140\u001b[0m\u001b[1;33m:\u001b[0m\u001b[1;36m160\u001b[0m\u001b[1;33m]\u001b[0m\u001b[1;33m\u001b[0m\u001b[1;33m\u001b[0m\u001b[0m\n",
      "\u001b[1;32m~\\anaconda3\\lib\\site-packages\\pandas\\core\\frame.py\u001b[0m in \u001b[0;36mdrop\u001b[1;34m(self, labels, axis, index, columns, level, inplace, errors)\u001b[0m\n\u001b[0;32m   3995\u001b[0m             \u001b[0mlevel\u001b[0m\u001b[1;33m=\u001b[0m\u001b[0mlevel\u001b[0m\u001b[1;33m,\u001b[0m\u001b[1;33m\u001b[0m\u001b[1;33m\u001b[0m\u001b[0m\n\u001b[0;32m   3996\u001b[0m             \u001b[0minplace\u001b[0m\u001b[1;33m=\u001b[0m\u001b[0minplace\u001b[0m\u001b[1;33m,\u001b[0m\u001b[1;33m\u001b[0m\u001b[1;33m\u001b[0m\u001b[0m\n\u001b[1;32m-> 3997\u001b[1;33m             \u001b[0merrors\u001b[0m\u001b[1;33m=\u001b[0m\u001b[0merrors\u001b[0m\u001b[1;33m,\u001b[0m\u001b[1;33m\u001b[0m\u001b[1;33m\u001b[0m\u001b[0m\n\u001b[0m\u001b[0;32m   3998\u001b[0m         )\n\u001b[0;32m   3999\u001b[0m \u001b[1;33m\u001b[0m\u001b[0m\n",
      "\u001b[1;32m~\\anaconda3\\lib\\site-packages\\pandas\\core\\generic.py\u001b[0m in \u001b[0;36mdrop\u001b[1;34m(self, labels, axis, index, columns, level, inplace, errors)\u001b[0m\n\u001b[0;32m   3934\u001b[0m         \u001b[1;32mfor\u001b[0m \u001b[0maxis\u001b[0m\u001b[1;33m,\u001b[0m \u001b[0mlabels\u001b[0m \u001b[1;32min\u001b[0m \u001b[0maxes\u001b[0m\u001b[1;33m.\u001b[0m\u001b[0mitems\u001b[0m\u001b[1;33m(\u001b[0m\u001b[1;33m)\u001b[0m\u001b[1;33m:\u001b[0m\u001b[1;33m\u001b[0m\u001b[1;33m\u001b[0m\u001b[0m\n\u001b[0;32m   3935\u001b[0m             \u001b[1;32mif\u001b[0m \u001b[0mlabels\u001b[0m \u001b[1;32mis\u001b[0m \u001b[1;32mnot\u001b[0m \u001b[1;32mNone\u001b[0m\u001b[1;33m:\u001b[0m\u001b[1;33m\u001b[0m\u001b[1;33m\u001b[0m\u001b[0m\n\u001b[1;32m-> 3936\u001b[1;33m                 \u001b[0mobj\u001b[0m \u001b[1;33m=\u001b[0m \u001b[0mobj\u001b[0m\u001b[1;33m.\u001b[0m\u001b[0m_drop_axis\u001b[0m\u001b[1;33m(\u001b[0m\u001b[0mlabels\u001b[0m\u001b[1;33m,\u001b[0m \u001b[0maxis\u001b[0m\u001b[1;33m,\u001b[0m \u001b[0mlevel\u001b[0m\u001b[1;33m=\u001b[0m\u001b[0mlevel\u001b[0m\u001b[1;33m,\u001b[0m \u001b[0merrors\u001b[0m\u001b[1;33m=\u001b[0m\u001b[0merrors\u001b[0m\u001b[1;33m)\u001b[0m\u001b[1;33m\u001b[0m\u001b[1;33m\u001b[0m\u001b[0m\n\u001b[0m\u001b[0;32m   3937\u001b[0m \u001b[1;33m\u001b[0m\u001b[0m\n\u001b[0;32m   3938\u001b[0m         \u001b[1;32mif\u001b[0m \u001b[0minplace\u001b[0m\u001b[1;33m:\u001b[0m\u001b[1;33m\u001b[0m\u001b[1;33m\u001b[0m\u001b[0m\n",
      "\u001b[1;32m~\\anaconda3\\lib\\site-packages\\pandas\\core\\generic.py\u001b[0m in \u001b[0;36m_drop_axis\u001b[1;34m(self, labels, axis, level, errors)\u001b[0m\n\u001b[0;32m   3968\u001b[0m                 \u001b[0mnew_axis\u001b[0m \u001b[1;33m=\u001b[0m \u001b[0maxis\u001b[0m\u001b[1;33m.\u001b[0m\u001b[0mdrop\u001b[0m\u001b[1;33m(\u001b[0m\u001b[0mlabels\u001b[0m\u001b[1;33m,\u001b[0m \u001b[0mlevel\u001b[0m\u001b[1;33m=\u001b[0m\u001b[0mlevel\u001b[0m\u001b[1;33m,\u001b[0m \u001b[0merrors\u001b[0m\u001b[1;33m=\u001b[0m\u001b[0merrors\u001b[0m\u001b[1;33m)\u001b[0m\u001b[1;33m\u001b[0m\u001b[1;33m\u001b[0m\u001b[0m\n\u001b[0;32m   3969\u001b[0m             \u001b[1;32melse\u001b[0m\u001b[1;33m:\u001b[0m\u001b[1;33m\u001b[0m\u001b[1;33m\u001b[0m\u001b[0m\n\u001b[1;32m-> 3970\u001b[1;33m                 \u001b[0mnew_axis\u001b[0m \u001b[1;33m=\u001b[0m \u001b[0maxis\u001b[0m\u001b[1;33m.\u001b[0m\u001b[0mdrop\u001b[0m\u001b[1;33m(\u001b[0m\u001b[0mlabels\u001b[0m\u001b[1;33m,\u001b[0m \u001b[0merrors\u001b[0m\u001b[1;33m=\u001b[0m\u001b[0merrors\u001b[0m\u001b[1;33m)\u001b[0m\u001b[1;33m\u001b[0m\u001b[1;33m\u001b[0m\u001b[0m\n\u001b[0m\u001b[0;32m   3971\u001b[0m             \u001b[0mresult\u001b[0m \u001b[1;33m=\u001b[0m \u001b[0mself\u001b[0m\u001b[1;33m.\u001b[0m\u001b[0mreindex\u001b[0m\u001b[1;33m(\u001b[0m\u001b[1;33m**\u001b[0m\u001b[1;33m{\u001b[0m\u001b[0maxis_name\u001b[0m\u001b[1;33m:\u001b[0m \u001b[0mnew_axis\u001b[0m\u001b[1;33m}\u001b[0m\u001b[1;33m)\u001b[0m\u001b[1;33m\u001b[0m\u001b[1;33m\u001b[0m\u001b[0m\n\u001b[0;32m   3972\u001b[0m \u001b[1;33m\u001b[0m\u001b[0m\n",
      "\u001b[1;32m~\\anaconda3\\lib\\site-packages\\pandas\\core\\indexes\\base.py\u001b[0m in \u001b[0;36mdrop\u001b[1;34m(self, labels, errors)\u001b[0m\n\u001b[0;32m   5015\u001b[0m         \u001b[1;32mif\u001b[0m \u001b[0mmask\u001b[0m\u001b[1;33m.\u001b[0m\u001b[0many\u001b[0m\u001b[1;33m(\u001b[0m\u001b[1;33m)\u001b[0m\u001b[1;33m:\u001b[0m\u001b[1;33m\u001b[0m\u001b[1;33m\u001b[0m\u001b[0m\n\u001b[0;32m   5016\u001b[0m             \u001b[1;32mif\u001b[0m \u001b[0merrors\u001b[0m \u001b[1;33m!=\u001b[0m \u001b[1;34m\"ignore\"\u001b[0m\u001b[1;33m:\u001b[0m\u001b[1;33m\u001b[0m\u001b[1;33m\u001b[0m\u001b[0m\n\u001b[1;32m-> 5017\u001b[1;33m                 \u001b[1;32mraise\u001b[0m \u001b[0mKeyError\u001b[0m\u001b[1;33m(\u001b[0m\u001b[1;34mf\"{labels[mask]} not found in axis\"\u001b[0m\u001b[1;33m)\u001b[0m\u001b[1;33m\u001b[0m\u001b[1;33m\u001b[0m\u001b[0m\n\u001b[0m\u001b[0;32m   5018\u001b[0m             \u001b[0mindexer\u001b[0m \u001b[1;33m=\u001b[0m \u001b[0mindexer\u001b[0m\u001b[1;33m[\u001b[0m\u001b[1;33m~\u001b[0m\u001b[0mmask\u001b[0m\u001b[1;33m]\u001b[0m\u001b[1;33m\u001b[0m\u001b[1;33m\u001b[0m\u001b[0m\n\u001b[0;32m   5019\u001b[0m         \u001b[1;32mreturn\u001b[0m \u001b[0mself\u001b[0m\u001b[1;33m.\u001b[0m\u001b[0mdelete\u001b[0m\u001b[1;33m(\u001b[0m\u001b[0mindexer\u001b[0m\u001b[1;33m)\u001b[0m\u001b[1;33m\u001b[0m\u001b[1;33m\u001b[0m\u001b[0m\n",
      "\u001b[1;31mKeyError\u001b[0m: '[151] not found in axis'"
     ]
    }
   ],
   "source": [
    "# found a missing page and will remove that gage from the DF\n",
    "df.drop(labels=151, axis=0, inplace=True) # Flamingo Creek near Las Vegas"
   ]
  },
  {
   "cell_type": "code",
   "execution_count": 96,
   "metadata": {},
   "outputs": [],
   "source": [
    "# found a missing page and will remove that gage from the DF\n",
    "df.drop(labels=181, axis=0, inplace=True) # "
   ]
  },
  {
   "cell_type": "code",
   "execution_count": 100,
   "metadata": {},
   "outputs": [],
   "source": [
    "# found a missing page and will remove that gage from the DF\n",
    "df.drop(labels=226, axis=0, inplace=True) # Las Vegas Wash"
   ]
  },
  {
   "cell_type": "code",
   "execution_count": 101,
   "metadata": {
    "scrolled": true
   },
   "outputs": [],
   "source": [
    "# iterate over the rows in the first dataframe (that have NOAA predictions)\n",
    "for i, r in df.iterrows():\n",
    "    # if it has a USGS\n",
    "    if r['usgs'] != 0 and i > 226:\n",
    "        # then get what we need from the website\n",
    "        link = 'https://waterdata.usgs.gov/monitoring-location/'+ r['usgs'] + '/#parameterCode=00060&period=P7D'\n",
    "        response = requests.get(link)\n",
    "        soup = BeautifulSoup(response.text, \"html.parser\")\n",
    "        site_sum = soup.find_all(id='site-summary')\n",
    "        rows_sum = site_sum[0].find_all('tr')\n",
    "        # iterate through all of the rows from the page\n",
    "        for row in rows_sum:\n",
    "            if 'Decimal latitude' in row.th.get_text():\n",
    "                df['lat'][i] = float(re.findall(r'\\d+.\\d+', row.td.get_text())[0])\n",
    "            elif  'decimal longitude' in row.th.get_text().lower():\n",
    "                df['long'][i] = float(re.findall(r'\\d+.\\d+', row.td.get_text())[0])\n",
    "#             elif 'altitude of gage' in row.th.get_text().lower():\n",
    "#                 df['alt'][i] = float(re.findall(r'\\d+.\\d+', row.td.get_text())[0])\n",
    "            elif  'subbasin' in row.th.get_text().lower():\n",
    "                df['basin'][i] = row.td.get_text().replace('\\n', '')\n",
    "        # standard 3 second delay in pulling data\n",
    "        time.sleep(3)"
   ]
  },
  {
   "cell_type": "code",
   "execution_count": 102,
   "metadata": {
    "scrolled": true
   },
   "outputs": [
    {
     "data": {
      "text/html": [
       "<div>\n",
       "<style scoped>\n",
       "    .dataframe tbody tr th:only-of-type {\n",
       "        vertical-align: middle;\n",
       "    }\n",
       "\n",
       "    .dataframe tbody tr th {\n",
       "        vertical-align: top;\n",
       "    }\n",
       "\n",
       "    .dataframe thead th {\n",
       "        text-align: right;\n",
       "    }\n",
       "</style>\n",
       "<table border=\"1\" class=\"dataframe\">\n",
       "  <thead>\n",
       "    <tr style=\"text-align: right;\">\n",
       "      <th></th>\n",
       "      <th>NOAA_gauge</th>\n",
       "      <th>River</th>\n",
       "      <th>State</th>\n",
       "      <th>Elevation</th>\n",
       "      <th>Segment</th>\n",
       "      <th>USGS_link</th>\n",
       "      <th>usgs</th>\n",
       "      <th>lat</th>\n",
       "      <th>long</th>\n",
       "      <th>alt</th>\n",
       "      <th>basin</th>\n",
       "    </tr>\n",
       "  </thead>\n",
       "  <tbody>\n",
       "    <tr>\n",
       "      <th>0</th>\n",
       "      <td>SPRA3</td>\n",
       "      <td>San Pedro</td>\n",
       "      <td>AZ</td>\n",
       "      <td>2820</td>\n",
       "      <td>7</td>\n",
       "      <td>http://waterdata.usgs.gov/az/nwis/uv?09472050</td>\n",
       "      <td>09472050</td>\n",
       "      <td>32.4462</td>\n",
       "      <td>110.488</td>\n",
       "      <td>2820</td>\n",
       "      <td>Lower San Pedro</td>\n",
       "    </tr>\n",
       "    <tr>\n",
       "      <th>5</th>\n",
       "      <td>AFHA3</td>\n",
       "      <td>Agua Fria</td>\n",
       "      <td>AZ</td>\n",
       "      <td>4400</td>\n",
       "      <td>17</td>\n",
       "      <td>http://waterdata.usgs.gov/az/nwis/uv?09512450</td>\n",
       "      <td>09512450</td>\n",
       "      <td>34.4853</td>\n",
       "      <td>112.237</td>\n",
       "      <td>4400</td>\n",
       "      <td>Agua Fria</td>\n",
       "    </tr>\n",
       "    <tr>\n",
       "      <th>6</th>\n",
       "      <td>AFMA3</td>\n",
       "      <td>Agua Fria</td>\n",
       "      <td>AZ</td>\n",
       "      <td>3434</td>\n",
       "      <td>18</td>\n",
       "      <td>http://waterdata.usgs.gov/az/nwis/uv?09512500</td>\n",
       "      <td>09512500</td>\n",
       "      <td>34.3153</td>\n",
       "      <td>112.064</td>\n",
       "      <td>3434</td>\n",
       "      <td>Agua Fria</td>\n",
       "    </tr>\n",
       "    <tr>\n",
       "      <th>7</th>\n",
       "      <td>AFRA3</td>\n",
       "      <td>Agua Fria</td>\n",
       "      <td>AZ</td>\n",
       "      <td>1800</td>\n",
       "      <td>19</td>\n",
       "      <td>http://waterdata.usgs.gov/az/nwis/uv?09512800</td>\n",
       "      <td>09512800</td>\n",
       "      <td>34.0156</td>\n",
       "      <td>112.168</td>\n",
       "      <td>1800</td>\n",
       "      <td>Agua Fria</td>\n",
       "    </tr>\n",
       "    <tr>\n",
       "      <th>10</th>\n",
       "      <td>ATPA3</td>\n",
       "      <td>Altar Wash</td>\n",
       "      <td>AZ</td>\n",
       "      <td>2975</td>\n",
       "      <td>24</td>\n",
       "      <td>http://waterdata.usgs.gov/az/nwis/uv?09486800</td>\n",
       "      <td>09486800</td>\n",
       "      <td>31.839</td>\n",
       "      <td>111.404</td>\n",
       "      <td>2975.15</td>\n",
       "      <td>Brawley Wash</td>\n",
       "    </tr>\n",
       "    <tr>\n",
       "      <th>...</th>\n",
       "      <td>...</td>\n",
       "      <td>...</td>\n",
       "      <td>...</td>\n",
       "      <td>...</td>\n",
       "      <td>...</td>\n",
       "      <td>...</td>\n",
       "      <td>...</td>\n",
       "      <td>...</td>\n",
       "      <td>...</td>\n",
       "      <td>...</td>\n",
       "      <td>...</td>\n",
       "    </tr>\n",
       "    <tr>\n",
       "      <th>450</th>\n",
       "      <td>YASC2</td>\n",
       "      <td>Yampa</td>\n",
       "      <td>CO</td>\n",
       "      <td>7240</td>\n",
       "      <td>2</td>\n",
       "      <td>http://waterdata.usgs.gov/co/nwis/uv?09237450</td>\n",
       "      <td>09237450</td>\n",
       "      <td>40.2643</td>\n",
       "      <td>106.892</td>\n",
       "      <td>7240</td>\n",
       "      <td>Upper Yampa</td>\n",
       "    </tr>\n",
       "    <tr>\n",
       "      <th>451</th>\n",
       "      <td>YDLC2</td>\n",
       "      <td>Yampa</td>\n",
       "      <td>CO</td>\n",
       "      <td>5600</td>\n",
       "      <td>17</td>\n",
       "      <td>http://waterdata.usgs.gov/co/nwis/uv?09260050</td>\n",
       "      <td>09260050</td>\n",
       "      <td>40.4516</td>\n",
       "      <td>108.525</td>\n",
       "      <td>5600</td>\n",
       "      <td>Lower Yampa</td>\n",
       "    </tr>\n",
       "    <tr>\n",
       "      <th>452</th>\n",
       "      <td>YMSC2</td>\n",
       "      <td>Yampa</td>\n",
       "      <td>CO</td>\n",
       "      <td>7050</td>\n",
       "      <td>4</td>\n",
       "      <td>http://waterdata.usgs.gov/co/nwis/uv?09237500</td>\n",
       "      <td>09237500</td>\n",
       "      <td>40.2865</td>\n",
       "      <td>106.829</td>\n",
       "      <td>7050</td>\n",
       "      <td>Upper Yampa</td>\n",
       "    </tr>\n",
       "    <tr>\n",
       "      <th>453</th>\n",
       "      <td>YLLU1</td>\n",
       "      <td>Yellowstone</td>\n",
       "      <td>UT</td>\n",
       "      <td>7430</td>\n",
       "      <td>20</td>\n",
       "      <td>http://waterdata.usgs.gov/ut/nwis/uv?09292500</td>\n",
       "      <td>09292500</td>\n",
       "      <td>40.5119</td>\n",
       "      <td>110.342</td>\n",
       "      <td>7430</td>\n",
       "      <td>Duchesne</td>\n",
       "    </tr>\n",
       "    <tr>\n",
       "      <th>454</th>\n",
       "      <td>ZUIN5</td>\n",
       "      <td>Zuni</td>\n",
       "      <td>NM</td>\n",
       "      <td>6450</td>\n",
       "      <td>1</td>\n",
       "      <td>http://waterdata.usgs.gov/nm/nwis/uv?09386950</td>\n",
       "      <td>09386950</td>\n",
       "      <td>35.1003</td>\n",
       "      <td>108.752</td>\n",
       "      <td>6450</td>\n",
       "      <td>Zuni</td>\n",
       "    </tr>\n",
       "  </tbody>\n",
       "</table>\n",
       "<p>373 rows × 11 columns</p>\n",
       "</div>"
      ],
      "text/plain": [
       "    NOAA_gauge         River State Elevation Segment  \\\n",
       "0        SPRA3    San Pedro     AZ      2820       7   \n",
       "5        AFHA3    Agua Fria     AZ      4400      17   \n",
       "6        AFMA3    Agua Fria     AZ      3434      18   \n",
       "7        AFRA3    Agua Fria     AZ      1800      19   \n",
       "10       ATPA3   Altar Wash     AZ      2975      24   \n",
       "..         ...           ...   ...       ...     ...   \n",
       "450      YASC2        Yampa     CO      7240       2   \n",
       "451      YDLC2        Yampa     CO      5600      17   \n",
       "452      YMSC2        Yampa     CO      7050       4   \n",
       "453      YLLU1  Yellowstone     UT      7430      20   \n",
       "454      ZUIN5         Zuni     NM      6450       1   \n",
       "\n",
       "                                         USGS_link      usgs      lat  \\\n",
       "0    http://waterdata.usgs.gov/az/nwis/uv?09472050  09472050  32.4462   \n",
       "5    http://waterdata.usgs.gov/az/nwis/uv?09512450  09512450  34.4853   \n",
       "6    http://waterdata.usgs.gov/az/nwis/uv?09512500  09512500  34.3153   \n",
       "7    http://waterdata.usgs.gov/az/nwis/uv?09512800  09512800  34.0156   \n",
       "10   http://waterdata.usgs.gov/az/nwis/uv?09486800  09486800   31.839   \n",
       "..                                             ...       ...      ...   \n",
       "450  http://waterdata.usgs.gov/co/nwis/uv?09237450  09237450  40.2643   \n",
       "451  http://waterdata.usgs.gov/co/nwis/uv?09260050  09260050  40.4516   \n",
       "452  http://waterdata.usgs.gov/co/nwis/uv?09237500  09237500  40.2865   \n",
       "453  http://waterdata.usgs.gov/ut/nwis/uv?09292500  09292500  40.5119   \n",
       "454  http://waterdata.usgs.gov/nm/nwis/uv?09386950  09386950  35.1003   \n",
       "\n",
       "        long      alt            basin  \n",
       "0    110.488     2820  Lower San Pedro  \n",
       "5    112.237     4400        Agua Fria  \n",
       "6    112.064     3434        Agua Fria  \n",
       "7    112.168     1800        Agua Fria  \n",
       "10   111.404  2975.15     Brawley Wash  \n",
       "..       ...      ...              ...  \n",
       "450  106.892     7240      Upper Yampa  \n",
       "451  108.525     5600      Lower Yampa  \n",
       "452  106.829     7050      Upper Yampa  \n",
       "453  110.342     7430         Duchesne  \n",
       "454  108.752     6450             Zuni  \n",
       "\n",
       "[373 rows x 11 columns]"
      ]
     },
     "execution_count": 102,
     "metadata": {},
     "output_type": "execute_result"
    }
   ],
   "source": [
    "df"
   ]
  },
  {
   "cell_type": "code",
   "execution_count": 104,
   "metadata": {
    "scrolled": true
   },
   "outputs": [
    {
     "name": "stdout",
     "output_type": "stream",
     "text": [
      "<class 'pandas.core.frame.DataFrame'>\n",
      "Int64Index: 373 entries, 0 to 454\n",
      "Data columns (total 11 columns):\n",
      " #   Column      Non-Null Count  Dtype \n",
      "---  ------      --------------  ----- \n",
      " 0   NOAA_gauge  373 non-null    object\n",
      " 1   River       373 non-null    object\n",
      " 2   State       373 non-null    object\n",
      " 3   Elevation   373 non-null    object\n",
      " 4   Segment     373 non-null    object\n",
      " 5   USGS_link   373 non-null    object\n",
      " 6   usgs        373 non-null    object\n",
      " 7   lat         373 non-null    object\n",
      " 8   long        373 non-null    object\n",
      " 9   alt         373 non-null    object\n",
      " 10  basin       373 non-null    object\n",
      "dtypes: object(11)\n",
      "memory usage: 45.0+ KB\n"
     ]
    }
   ],
   "source": [
    "df.info()"
   ]
  },
  {
   "cell_type": "markdown",
   "metadata": {},
   "source": [
    "This is good that they are all non-null, but Elevation, lat, long, and altitude should be int or float"
   ]
  },
  {
   "cell_type": "code",
   "execution_count": 105,
   "metadata": {},
   "outputs": [],
   "source": [
    "df['Elevation'] = df['Elevation'].astype(float)"
   ]
  },
  {
   "cell_type": "code",
   "execution_count": 106,
   "metadata": {},
   "outputs": [],
   "source": [
    "df['lat'] = df['lat'].astype(float)"
   ]
  },
  {
   "cell_type": "code",
   "execution_count": 107,
   "metadata": {},
   "outputs": [],
   "source": [
    "df['long'] = df['long'].astype(float)"
   ]
  },
  {
   "cell_type": "code",
   "execution_count": 108,
   "metadata": {},
   "outputs": [],
   "source": [
    "df['alt'] = df['alt'].astype(float)"
   ]
  },
  {
   "cell_type": "code",
   "execution_count": 109,
   "metadata": {},
   "outputs": [
    {
     "name": "stdout",
     "output_type": "stream",
     "text": [
      "<class 'pandas.core.frame.DataFrame'>\n",
      "Int64Index: 373 entries, 0 to 454\n",
      "Data columns (total 11 columns):\n",
      " #   Column      Non-Null Count  Dtype  \n",
      "---  ------      --------------  -----  \n",
      " 0   NOAA_gauge  373 non-null    object \n",
      " 1   River       373 non-null    object \n",
      " 2   State       373 non-null    object \n",
      " 3   Elevation   373 non-null    float64\n",
      " 4   Segment     373 non-null    object \n",
      " 5   USGS_link   373 non-null    object \n",
      " 6   usgs        373 non-null    object \n",
      " 7   lat         373 non-null    float64\n",
      " 8   long        373 non-null    float64\n",
      " 9   alt         373 non-null    float64\n",
      " 10  basin       373 non-null    object \n",
      "dtypes: float64(4), object(7)\n",
      "memory usage: 45.0+ KB\n"
     ]
    }
   ],
   "source": [
    "df.info()"
   ]
  },
  {
   "cell_type": "markdown",
   "metadata": {},
   "source": [
    "Much better!"
   ]
  },
  {
   "cell_type": "markdown",
   "metadata": {},
   "source": [
    "Let's work with the other data frame now to pull those coordinates, altitude, and river basin"
   ]
  },
  {
   "cell_type": "code",
   "execution_count": 118,
   "metadata": {},
   "outputs": [],
   "source": [
    "dfm['lat'] = 0.0\n",
    "dfm['long'] = 0.0\n",
    "dfm['alt'] = 0.0\n",
    "dfm['basin'] = 'home' "
   ]
  },
  {
   "cell_type": "code",
   "execution_count": 119,
   "metadata": {},
   "outputs": [
    {
     "name": "stdout",
     "output_type": "stream",
     "text": [
      "<class 'pandas.core.frame.DataFrame'>\n",
      "RangeIndex: 156 entries, 0 to 155\n",
      "Data columns (total 5 columns):\n",
      " #   Column  Non-Null Count  Dtype  \n",
      "---  ------  --------------  -----  \n",
      " 0   USGS    156 non-null    object \n",
      " 1   lat     156 non-null    float64\n",
      " 2   long    156 non-null    float64\n",
      " 3   alt     156 non-null    float64\n",
      " 4   basin   156 non-null    object \n",
      "dtypes: float64(3), object(2)\n",
      "memory usage: 6.2+ KB\n"
     ]
    }
   ],
   "source": [
    "dfm.info()"
   ]
  },
  {
   "cell_type": "code",
   "execution_count": 120,
   "metadata": {
    "scrolled": true
   },
   "outputs": [
    {
     "name": "stderr",
     "output_type": "stream",
     "text": [
      "C:\\Users\\sjrek\\anaconda3\\lib\\site-packages\\ipykernel_launcher.py:13: SettingWithCopyWarning: \n",
      "A value is trying to be set on a copy of a slice from a DataFrame\n",
      "\n",
      "See the caveats in the documentation: https://pandas.pydata.org/pandas-docs/stable/user_guide/indexing.html#returning-a-view-versus-a-copy\n",
      "  del sys.path[0]\n",
      "C:\\Users\\sjrek\\anaconda3\\lib\\site-packages\\ipykernel_launcher.py:15: SettingWithCopyWarning: \n",
      "A value is trying to be set on a copy of a slice from a DataFrame\n",
      "\n",
      "See the caveats in the documentation: https://pandas.pydata.org/pandas-docs/stable/user_guide/indexing.html#returning-a-view-versus-a-copy\n",
      "  from ipykernel import kernelapp as app\n",
      "C:\\Users\\sjrek\\anaconda3\\lib\\site-packages\\ipykernel_launcher.py:17: SettingWithCopyWarning: \n",
      "A value is trying to be set on a copy of a slice from a DataFrame\n",
      "\n",
      "See the caveats in the documentation: https://pandas.pydata.org/pandas-docs/stable/user_guide/indexing.html#returning-a-view-versus-a-copy\n",
      "C:\\Users\\sjrek\\anaconda3\\lib\\site-packages\\ipykernel_launcher.py:19: SettingWithCopyWarning: \n",
      "A value is trying to be set on a copy of a slice from a DataFrame\n",
      "\n",
      "See the caveats in the documentation: https://pandas.pydata.org/pandas-docs/stable/user_guide/indexing.html#returning-a-view-versus-a-copy\n"
     ]
    }
   ],
   "source": [
    "# iterate over the rows in the second dataframe (that have NOAA predictions)\n",
    "for i, r in dfm.iterrows():\n",
    "    # then get what we need from the website\n",
    "    link = 'https://waterdata.usgs.gov/monitoring-location/'+ r['USGS'] + '/#parameterCode=00060&period=P7D'\n",
    "    response = requests.get(link)\n",
    "    soup = BeautifulSoup(response.text, \"html.parser\")\n",
    "    site_sum = soup.find_all(id='site-summary')\n",
    "    if len(site_sum) > 0:\n",
    "        rows_sum = site_sum[0].find_all('tr')\n",
    "        # iterate through all of the rows from the page\n",
    "        for row in rows_sum:\n",
    "            if 'Decimal latitude' in row.th.get_text():\n",
    "                dfm['lat'][i] = float(re.findall(r'\\d+.\\d+', row.td.get_text())[0])\n",
    "            elif  'decimal longitude' in row.th.get_text().lower():\n",
    "                dfm['long'][i] = float(re.findall(r'\\d+.\\d+', row.td.get_text())[0])\n",
    "            elif 'altitude of gage' in row.th.get_text().lower():\n",
    "                dfm['alt'][i] = float(re.findall(r'\\d+.\\d+', row.td.get_text())[0])\n",
    "            elif  'subbasin' in row.th.get_text().lower():\n",
    "                dfm['basin'][i] = row.td.get_text().replace('\\n', '')\n",
    "    # standard 3 second delay in pulling data\n",
    "    time.sleep(3)"
   ]
  },
  {
   "cell_type": "code",
   "execution_count": 121,
   "metadata": {
    "scrolled": true
   },
   "outputs": [
    {
     "data": {
      "text/html": [
       "<div>\n",
       "<style scoped>\n",
       "    .dataframe tbody tr th:only-of-type {\n",
       "        vertical-align: middle;\n",
       "    }\n",
       "\n",
       "    .dataframe tbody tr th {\n",
       "        vertical-align: top;\n",
       "    }\n",
       "\n",
       "    .dataframe thead th {\n",
       "        text-align: right;\n",
       "    }\n",
       "</style>\n",
       "<table border=\"1\" class=\"dataframe\">\n",
       "  <thead>\n",
       "    <tr style=\"text-align: right;\">\n",
       "      <th></th>\n",
       "      <th>USGS</th>\n",
       "      <th>lat</th>\n",
       "      <th>long</th>\n",
       "      <th>alt</th>\n",
       "      <th>basin</th>\n",
       "    </tr>\n",
       "  </thead>\n",
       "  <tbody>\n",
       "    <tr>\n",
       "      <th>0</th>\n",
       "      <td>10140700</td>\n",
       "      <td>41.231819</td>\n",
       "      <td>111.984497</td>\n",
       "      <td>4285.00</td>\n",
       "      <td>Lower Weber</td>\n",
       "    </tr>\n",
       "    <tr>\n",
       "      <th>1</th>\n",
       "      <td>10149000</td>\n",
       "      <td>40.118012</td>\n",
       "      <td>111.314622</td>\n",
       "      <td>6320.00</td>\n",
       "      <td>Spanish Fork</td>\n",
       "    </tr>\n",
       "    <tr>\n",
       "      <th>2</th>\n",
       "      <td>10155200</td>\n",
       "      <td>40.554398</td>\n",
       "      <td>111.433243</td>\n",
       "      <td>5691.59</td>\n",
       "      <td>Provo</td>\n",
       "    </tr>\n",
       "    <tr>\n",
       "      <th>3</th>\n",
       "      <td>10224000</td>\n",
       "      <td>39.481898</td>\n",
       "      <td>112.393834</td>\n",
       "      <td>4660.00</td>\n",
       "      <td>Lower Sevier</td>\n",
       "    </tr>\n",
       "    <tr>\n",
       "      <th>4</th>\n",
       "      <td>10308200</td>\n",
       "      <td>38.714627</td>\n",
       "      <td>119.764899</td>\n",
       "      <td>5400.00</td>\n",
       "      <td>Upper Carson</td>\n",
       "    </tr>\n",
       "    <tr>\n",
       "      <th>...</th>\n",
       "      <td>...</td>\n",
       "      <td>...</td>\n",
       "      <td>...</td>\n",
       "      <td>...</td>\n",
       "      <td>...</td>\n",
       "    </tr>\n",
       "    <tr>\n",
       "      <th>151</th>\n",
       "      <td>09076300</td>\n",
       "      <td>39.223200</td>\n",
       "      <td>106.857308</td>\n",
       "      <td>7575.00</td>\n",
       "      <td>Roaring Fork</td>\n",
       "    </tr>\n",
       "    <tr>\n",
       "      <th>152</th>\n",
       "      <td>RFBASALT</td>\n",
       "      <td>0.000000</td>\n",
       "      <td>0.000000</td>\n",
       "      <td>0.00</td>\n",
       "      <td>home</td>\n",
       "    </tr>\n",
       "    <tr>\n",
       "      <th>153</th>\n",
       "      <td>ESCCREEKCO</td>\n",
       "      <td>0.000000</td>\n",
       "      <td>0.000000</td>\n",
       "      <td>0.00</td>\n",
       "      <td>home</td>\n",
       "    </tr>\n",
       "    <tr>\n",
       "      <th>154</th>\n",
       "      <td>SFPAYETTEID</td>\n",
       "      <td>0.000000</td>\n",
       "      <td>0.000000</td>\n",
       "      <td>0.00</td>\n",
       "      <td>home</td>\n",
       "    </tr>\n",
       "    <tr>\n",
       "      <th>155</th>\n",
       "      <td>SFPAYETTESTAIRID</td>\n",
       "      <td>0.000000</td>\n",
       "      <td>0.000000</td>\n",
       "      <td>0.00</td>\n",
       "      <td>home</td>\n",
       "    </tr>\n",
       "  </tbody>\n",
       "</table>\n",
       "<p>156 rows × 5 columns</p>\n",
       "</div>"
      ],
      "text/plain": [
       "                 USGS        lat        long      alt         basin\n",
       "0            10140700  41.231819  111.984497  4285.00   Lower Weber\n",
       "1            10149000  40.118012  111.314622  6320.00  Spanish Fork\n",
       "2            10155200  40.554398  111.433243  5691.59         Provo\n",
       "3            10224000  39.481898  112.393834  4660.00  Lower Sevier\n",
       "4            10308200  38.714627  119.764899  5400.00  Upper Carson\n",
       "..                ...        ...         ...      ...           ...\n",
       "151          09076300  39.223200  106.857308  7575.00  Roaring Fork\n",
       "152          RFBASALT   0.000000    0.000000     0.00          home\n",
       "153        ESCCREEKCO   0.000000    0.000000     0.00          home\n",
       "154       SFPAYETTEID   0.000000    0.000000     0.00          home\n",
       "155  SFPAYETTESTAIRID   0.000000    0.000000     0.00          home\n",
       "\n",
       "[156 rows x 5 columns]"
      ]
     },
     "execution_count": 121,
     "metadata": {},
     "output_type": "execute_result"
    }
   ],
   "source": [
    "dfm"
   ]
  },
  {
   "cell_type": "markdown",
   "metadata": {},
   "source": [
    "This looks pretty good. Let's focus on the USGS, so we'll drop the Colorado Division of Water gages from the dataframe. These would be all of the rows that still have 0.0 for the latitude."
   ]
  },
  {
   "cell_type": "code",
   "execution_count": 123,
   "metadata": {},
   "outputs": [
    {
     "data": {
      "text/html": [
       "<div>\n",
       "<style scoped>\n",
       "    .dataframe tbody tr th:only-of-type {\n",
       "        vertical-align: middle;\n",
       "    }\n",
       "\n",
       "    .dataframe tbody tr th {\n",
       "        vertical-align: top;\n",
       "    }\n",
       "\n",
       "    .dataframe thead th {\n",
       "        text-align: right;\n",
       "    }\n",
       "</style>\n",
       "<table border=\"1\" class=\"dataframe\">\n",
       "  <thead>\n",
       "    <tr style=\"text-align: right;\">\n",
       "      <th></th>\n",
       "      <th>USGS</th>\n",
       "      <th>lat</th>\n",
       "      <th>long</th>\n",
       "      <th>alt</th>\n",
       "      <th>basin</th>\n",
       "    </tr>\n",
       "  </thead>\n",
       "  <tbody>\n",
       "    <tr>\n",
       "      <th>0</th>\n",
       "      <td>10140700</td>\n",
       "      <td>41.231819</td>\n",
       "      <td>111.984497</td>\n",
       "      <td>4285.00</td>\n",
       "      <td>Lower Weber</td>\n",
       "    </tr>\n",
       "    <tr>\n",
       "      <th>1</th>\n",
       "      <td>10149000</td>\n",
       "      <td>40.118012</td>\n",
       "      <td>111.314622</td>\n",
       "      <td>6320.00</td>\n",
       "      <td>Spanish Fork</td>\n",
       "    </tr>\n",
       "    <tr>\n",
       "      <th>2</th>\n",
       "      <td>10155200</td>\n",
       "      <td>40.554398</td>\n",
       "      <td>111.433243</td>\n",
       "      <td>5691.59</td>\n",
       "      <td>Provo</td>\n",
       "    </tr>\n",
       "    <tr>\n",
       "      <th>3</th>\n",
       "      <td>10224000</td>\n",
       "      <td>39.481898</td>\n",
       "      <td>112.393834</td>\n",
       "      <td>4660.00</td>\n",
       "      <td>Lower Sevier</td>\n",
       "    </tr>\n",
       "    <tr>\n",
       "      <th>4</th>\n",
       "      <td>10308200</td>\n",
       "      <td>38.714627</td>\n",
       "      <td>119.764899</td>\n",
       "      <td>5400.00</td>\n",
       "      <td>Upper Carson</td>\n",
       "    </tr>\n",
       "    <tr>\n",
       "      <th>...</th>\n",
       "      <td>...</td>\n",
       "      <td>...</td>\n",
       "      <td>...</td>\n",
       "      <td>...</td>\n",
       "      <td>...</td>\n",
       "    </tr>\n",
       "    <tr>\n",
       "      <th>147</th>\n",
       "      <td>06892350</td>\n",
       "      <td>38.983337</td>\n",
       "      <td>94.964689</td>\n",
       "      <td>753.87</td>\n",
       "      <td>Lower Kansas, Kansas</td>\n",
       "    </tr>\n",
       "    <tr>\n",
       "      <th>148</th>\n",
       "      <td>07169800</td>\n",
       "      <td>37.375597</td>\n",
       "      <td>96.185548</td>\n",
       "      <td>897.30</td>\n",
       "      <td>Elk</td>\n",
       "    </tr>\n",
       "    <tr>\n",
       "      <th>149</th>\n",
       "      <td>06775900</td>\n",
       "      <td>41.778611</td>\n",
       "      <td>100.525278</td>\n",
       "      <td>2798.18</td>\n",
       "      <td>Dismal</td>\n",
       "    </tr>\n",
       "    <tr>\n",
       "      <th>150</th>\n",
       "      <td>06461500</td>\n",
       "      <td>42.902222</td>\n",
       "      <td>100.362222</td>\n",
       "      <td>2287.57</td>\n",
       "      <td>Middle Niobrara</td>\n",
       "    </tr>\n",
       "    <tr>\n",
       "      <th>151</th>\n",
       "      <td>09076300</td>\n",
       "      <td>39.223200</td>\n",
       "      <td>106.857308</td>\n",
       "      <td>7575.00</td>\n",
       "      <td>Roaring Fork</td>\n",
       "    </tr>\n",
       "  </tbody>\n",
       "</table>\n",
       "<p>125 rows × 5 columns</p>\n",
       "</div>"
      ],
      "text/plain": [
       "         USGS        lat        long      alt                 basin\n",
       "0    10140700  41.231819  111.984497  4285.00           Lower Weber\n",
       "1    10149000  40.118012  111.314622  6320.00          Spanish Fork\n",
       "2    10155200  40.554398  111.433243  5691.59                 Provo\n",
       "3    10224000  39.481898  112.393834  4660.00          Lower Sevier\n",
       "4    10308200  38.714627  119.764899  5400.00          Upper Carson\n",
       "..        ...        ...         ...      ...                   ...\n",
       "147  06892350  38.983337   94.964689   753.87  Lower Kansas, Kansas\n",
       "148  07169800  37.375597   96.185548   897.30                   Elk\n",
       "149  06775900  41.778611  100.525278  2798.18                Dismal\n",
       "150  06461500  42.902222  100.362222  2287.57       Middle Niobrara\n",
       "151  09076300  39.223200  106.857308  7575.00          Roaring Fork\n",
       "\n",
       "[125 rows x 5 columns]"
      ]
     },
     "execution_count": 123,
     "metadata": {},
     "output_type": "execute_result"
    }
   ],
   "source": [
    "# drop the rows that we couldn't pull the data for \n",
    "dfn = dfm[dfm['lat'] != 0]\n",
    "dfn"
   ]
  },
  {
   "cell_type": "code",
   "execution_count": 124,
   "metadata": {
    "scrolled": false
   },
   "outputs": [
    {
     "name": "stdout",
     "output_type": "stream",
     "text": [
      "<class 'pandas.core.frame.DataFrame'>\n",
      "Int64Index: 125 entries, 0 to 151\n",
      "Data columns (total 5 columns):\n",
      " #   Column  Non-Null Count  Dtype  \n",
      "---  ------  --------------  -----  \n",
      " 0   USGS    125 non-null    object \n",
      " 1   lat     125 non-null    float64\n",
      " 2   long    125 non-null    float64\n",
      " 3   alt     125 non-null    float64\n",
      " 4   basin   125 non-null    object \n",
      "dtypes: float64(3), object(2)\n",
      "memory usage: 5.9+ KB\n"
     ]
    }
   ],
   "source": [
    "dfn.info()"
   ]
  },
  {
   "cell_type": "markdown",
   "metadata": {},
   "source": [
    "That looks really good. That is the list of gauges that we want to build models for. Let's review the data that we have now: <br>\n",
    "    - dfn: dataframe with all 125 of the USGS gages that we want to build models for. This dataframe includes some details about the gages we can get use those to determine potential features\n",
    "    - df: dataframe will all 373 of the USGS gages that have NOAA predictions. These are potential features for predicting the flow in dfn"
   ]
  },
  {
   "cell_type": "code",
   "execution_count": null,
   "metadata": {},
   "outputs": [],
   "source": [
    "# export the dataframes \n"
   ]
  },
  {
   "cell_type": "markdown",
   "metadata": {},
   "source": [
    "In next notebook:\n",
    "    - correlated gauges without predictions to gauges that do have predictions (KNN)\n",
    "    - result should be a dataframe with first column as the y USGS gage and each additional column a feature USGS gage that has a NOAA prediction\n",
    "    - set threshold for accuracy in predicting flow\n",
    "    - set models up to use in production"
   ]
  },
  {
   "cell_type": "markdown",
   "metadata": {},
   "source": [
    "In the notebook after that:\n",
    "    - pull USGS data for length that each gage is in operation\n",
    "    - potentially cut time scale of data based on when the flow has never been above a certain threshold\n",
    "    - each of the 125 gages should have a dataframe (list of dataframes)"
   ]
  },
  {
   "cell_type": "markdown",
   "metadata": {},
   "source": [
    "In the notebook after that:\n",
    "    - build 125 models (using Lasso Regression, we believe)\n",
    "    - set threshold for accuracy in predicting flow\n",
    "    - throw out models that do not meet that accuracy\n",
    "    - throw out features in models that are no longer needed\n",
    "    - do other prep for putting models into production (test in real time and have accuracy feedback)"
   ]
  },
  {
   "cell_type": "code",
   "execution_count": null,
   "metadata": {},
   "outputs": [],
   "source": []
  }
 ],
 "metadata": {
  "kernelspec": {
   "display_name": "Python 3",
   "language": "python",
   "name": "python3"
  },
  "language_info": {
   "codemirror_mode": {
    "name": "ipython",
    "version": 3
   },
   "file_extension": ".py",
   "mimetype": "text/x-python",
   "name": "python",
   "nbconvert_exporter": "python",
   "pygments_lexer": "ipython3",
   "version": "3.7.6"
  }
 },
 "nbformat": 4,
 "nbformat_minor": 4
}
