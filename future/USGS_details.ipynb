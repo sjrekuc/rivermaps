{
 "cells": [
  {
   "cell_type": "markdown",
   "metadata": {},
   "source": [
    "In this notebook\n",
    "    - go to USGS page\n",
    "    - pull long and lat for that gauge; also pull river and any other info that could be used to correlate gauges to each other\n"
   ]
  },
  {
   "cell_type": "markdown",
   "metadata": {},
   "source": [
    "Looking at gauge meta data for just a couple of gauges, we find a few really useful bits of information:\n",
    "    - latitude\n",
    "    - longitude\n",
    "    - altitude\n",
    "    - Subbasin hydrologic unit (River System)"
   ]
  },
  {
   "cell_type": "code",
   "execution_count": 1,
   "metadata": {},
   "outputs": [],
   "source": [
    "import pandas as pd\n",
    "from bs4 import BeautifulSoup\n",
    "import os\n",
    "import requests\n",
    "import time"
   ]
  },
  {
   "cell_type": "code",
   "execution_count": 2,
   "metadata": {},
   "outputs": [],
   "source": [
    "import pickle\n",
    "path=\"C:\\Springboard\\Github\\gauge_info\"\n",
    "os.chdir(path)"
   ]
  },
  {
   "cell_type": "code",
   "execution_count": 4,
   "metadata": {},
   "outputs": [
    {
     "data": {
      "text/html": [
       "<div>\n",
       "<style scoped>\n",
       "    .dataframe tbody tr th:only-of-type {\n",
       "        vertical-align: middle;\n",
       "    }\n",
       "\n",
       "    .dataframe tbody tr th {\n",
       "        vertical-align: top;\n",
       "    }\n",
       "\n",
       "    .dataframe thead th {\n",
       "        text-align: right;\n",
       "    }\n",
       "</style>\n",
       "<table border=\"1\" class=\"dataframe\">\n",
       "  <thead>\n",
       "    <tr style=\"text-align: right;\">\n",
       "      <th></th>\n",
       "      <th>NOAA_gauge</th>\n",
       "      <th>River</th>\n",
       "      <th>State</th>\n",
       "      <th>Elevation</th>\n",
       "      <th>Segment</th>\n",
       "      <th>USGS_link</th>\n",
       "      <th>usgs</th>\n",
       "    </tr>\n",
       "  </thead>\n",
       "  <tbody>\n",
       "    <tr>\n",
       "      <th>0</th>\n",
       "      <td>SPRA3</td>\n",
       "      <td>San Pedro</td>\n",
       "      <td>AZ</td>\n",
       "      <td>2820</td>\n",
       "      <td>7</td>\n",
       "      <td>http://waterdata.usgs.gov/az/nwis/uv?09472050</td>\n",
       "      <td>09472050</td>\n",
       "    </tr>\n",
       "    <tr>\n",
       "      <th>1</th>\n",
       "      <td>MAOA3</td>\n",
       "      <td>Acdc</td>\n",
       "      <td>AZ</td>\n",
       "      <td>1230</td>\n",
       "      <td>6</td>\n",
       "      <td>0</td>\n",
       "      <td>0</td>\n",
       "    </tr>\n",
       "    <tr>\n",
       "      <th>2</th>\n",
       "      <td>MHFA3</td>\n",
       "      <td>Acdc</td>\n",
       "      <td>AZ</td>\n",
       "      <td>1225</td>\n",
       "      <td>7</td>\n",
       "      <td>0</td>\n",
       "      <td>0</td>\n",
       "    </tr>\n",
       "    <tr>\n",
       "      <th>3</th>\n",
       "      <td>MSXA3</td>\n",
       "      <td>Acdc</td>\n",
       "      <td>AZ</td>\n",
       "      <td>1220</td>\n",
       "      <td>8</td>\n",
       "      <td>0</td>\n",
       "      <td>0</td>\n",
       "    </tr>\n",
       "    <tr>\n",
       "      <th>4</th>\n",
       "      <td>ACHA3</td>\n",
       "      <td>Agua Caliente Wash</td>\n",
       "      <td>AZ</td>\n",
       "      <td>2588</td>\n",
       "      <td>2</td>\n",
       "      <td>0</td>\n",
       "      <td>0</td>\n",
       "    </tr>\n",
       "  </tbody>\n",
       "</table>\n",
       "</div>"
      ],
      "text/plain": [
       "  NOAA_gauge                River State Elevation Segment  \\\n",
       "0      SPRA3           San Pedro     AZ      2820       7   \n",
       "1      MAOA3                Acdc     AZ      1230       6   \n",
       "2      MHFA3                Acdc     AZ      1225       7   \n",
       "3      MSXA3                Acdc     AZ      1220       8   \n",
       "4      ACHA3  Agua Caliente Wash     AZ      2588       2   \n",
       "\n",
       "                                       USGS_link      usgs  \n",
       "0  http://waterdata.usgs.gov/az/nwis/uv?09472050  09472050  \n",
       "1                                              0         0  \n",
       "2                                              0         0  \n",
       "3                                              0         0  \n",
       "4                                              0         0  "
      ]
     },
     "execution_count": 4,
     "metadata": {},
     "output_type": "execute_result"
    }
   ],
   "source": [
    "# load DF with NOAA and USGS for all gauges in Colorado River Basin that have predictions in NOAA\n",
    "df = pickle.load(open(\"NOAA_USGS.pkl\", \"rb\"))\n",
    "df.head()"
   ]
  },
  {
   "cell_type": "markdown",
   "metadata": {},
   "source": [
    "This is the list of potential features to use for predicting the water flow for the gauges"
   ]
  },
  {
   "cell_type": "code",
   "execution_count": 6,
   "metadata": {},
   "outputs": [
    {
     "data": {
      "text/html": [
       "<div>\n",
       "<style scoped>\n",
       "    .dataframe tbody tr th:only-of-type {\n",
       "        vertical-align: middle;\n",
       "    }\n",
       "\n",
       "    .dataframe tbody tr th {\n",
       "        vertical-align: top;\n",
       "    }\n",
       "\n",
       "    .dataframe thead th {\n",
       "        text-align: right;\n",
       "    }\n",
       "</style>\n",
       "<table border=\"1\" class=\"dataframe\">\n",
       "  <thead>\n",
       "    <tr style=\"text-align: right;\">\n",
       "      <th></th>\n",
       "      <th>USGS</th>\n",
       "    </tr>\n",
       "  </thead>\n",
       "  <tbody>\n",
       "    <tr>\n",
       "      <th>0</th>\n",
       "      <td>10140700</td>\n",
       "    </tr>\n",
       "    <tr>\n",
       "      <th>1</th>\n",
       "      <td>10149000</td>\n",
       "    </tr>\n",
       "    <tr>\n",
       "      <th>2</th>\n",
       "      <td>10155200</td>\n",
       "    </tr>\n",
       "    <tr>\n",
       "      <th>3</th>\n",
       "      <td>10224000</td>\n",
       "    </tr>\n",
       "    <tr>\n",
       "      <th>4</th>\n",
       "      <td>10308200</td>\n",
       "    </tr>\n",
       "    <tr>\n",
       "      <th>...</th>\n",
       "      <td>...</td>\n",
       "    </tr>\n",
       "    <tr>\n",
       "      <th>151</th>\n",
       "      <td>09076300</td>\n",
       "    </tr>\n",
       "    <tr>\n",
       "      <th>152</th>\n",
       "      <td>RFBASALT</td>\n",
       "    </tr>\n",
       "    <tr>\n",
       "      <th>153</th>\n",
       "      <td>ESCCREEKCO</td>\n",
       "    </tr>\n",
       "    <tr>\n",
       "      <th>154</th>\n",
       "      <td>SFPAYETTEID</td>\n",
       "    </tr>\n",
       "    <tr>\n",
       "      <th>155</th>\n",
       "      <td>SFPAYETTESTAIRID</td>\n",
       "    </tr>\n",
       "  </tbody>\n",
       "</table>\n",
       "<p>156 rows × 1 columns</p>\n",
       "</div>"
      ],
      "text/plain": [
       "                 USGS\n",
       "0            10140700\n",
       "1            10149000\n",
       "2            10155200\n",
       "3            10224000\n",
       "4            10308200\n",
       "..                ...\n",
       "151          09076300\n",
       "152          RFBASALT\n",
       "153        ESCCREEKCO\n",
       "154       SFPAYETTEID\n",
       "155  SFPAYETTESTAIRID\n",
       "\n",
       "[156 rows x 1 columns]"
      ]
     },
     "execution_count": 6,
     "metadata": {},
     "output_type": "execute_result"
    }
   ],
   "source": [
    "# load DF with the list of gauges that we would like to get predictions on\n",
    "df = pickle.load(open(\"USGS_missing.pkl\", \"rb\"))\n",
    "df"
   ]
  },
  {
   "cell_type": "markdown",
   "metadata": {},
   "source": [
    "### Data loaded from previous notebook. Let's see if we can scrape websites for the appropriate data about each gauge:\n",
    "    - latitude\n",
    "    - longitude\n",
    "    - altitude\n",
    "    - Subbasin hydrologic unit (River System)"
   ]
  },
  {
   "cell_type": "markdown",
   "metadata": {},
   "source": [
    "Looks like this is the general link that we need to scrape: <br>\n",
    "https://waterdata.usgs.gov/monitoring-location/GAUGE NUMBER/#parameterCode=00060&period=P7D <br>\n",
    "Let's try to pull the data from one to take a look"
   ]
  },
  {
   "cell_type": "code",
   "execution_count": 7,
   "metadata": {},
   "outputs": [],
   "source": [
    "## try to pull on just the first gauge to get it correct\n",
    "link = 'https://waterdata.usgs.gov/monitoring-location/09073400/#parameterCode=00060&period=P7D'\n",
    "response = requests.get(link)\n",
    "soup = BeautifulSoup(response.text, \"html.parser\")"
   ]
  },
  {
   "cell_type": "code",
   "execution_count": 16,
   "metadata": {},
   "outputs": [
    {
     "name": "stdout",
     "output_type": "stream",
     "text": [
      "1\n"
     ]
    }
   ],
   "source": [
    "site_sum = soup.find_all(id='site-summary')\n",
    "print(len(site_sum))"
   ]
  },
  {
   "cell_type": "markdown",
   "metadata": {},
   "source": [
    "That's the data that we want, but we need to break it down more; let's sort it by the table rows"
   ]
  },
  {
   "cell_type": "code",
   "execution_count": 18,
   "metadata": {},
   "outputs": [
    {
     "name": "stdout",
     "output_type": "stream",
     "text": [
      "43\n"
     ]
    }
   ],
   "source": [
    "rows_sum = site_sum[0].find_all('tr')\n",
    "print(len(rows_sum))"
   ]
  },
  {
   "cell_type": "markdown",
   "metadata": {},
   "source": [
    "That's a lot of rows. We could count on the data that we want being in the same place every time, but we think a better way would be for the first entry in the row to correspond to the name we are looking for"
   ]
  },
  {
   "cell_type": "code",
   "execution_count": 21,
   "metadata": {
    "scrolled": false
   },
   "outputs": [
    {
     "name": "stdout",
     "output_type": "stream",
     "text": [
      "<tr>\n",
      "<th scope=\"row\">Decimal latitude\n",
      "                                                    \n",
      "                                                </th>\n",
      "<td class=\"loc-metadata\">\n",
      "                                                    \n",
      "                                                        39.17998755\n",
      "                                                    \n",
      "                                                    \n",
      "                                                </td>\n",
      "<td><sub>n/a</sub></td>\n",
      "</tr>\n"
     ]
    }
   ],
   "source": [
    "print(rows_sum[7])"
   ]
  },
  {
   "cell_type": "code",
   "execution_count": 23,
   "metadata": {},
   "outputs": [
    {
     "data": {
      "text/plain": [
       "'Decimal latitude\\n                                                    \\n                                                '"
      ]
     },
     "execution_count": 23,
     "metadata": {},
     "output_type": "execute_result"
    }
   ],
   "source": [
    "# do an example of this first before writing the loop\n",
    "rows_sum[7].th.get_text()\n",
    "# this is the text that we want to match"
   ]
  },
  {
   "cell_type": "code",
   "execution_count": 27,
   "metadata": {},
   "outputs": [
    {
     "data": {
      "text/plain": [
       "'\\n                                                    \\n                                                        39.17998755\\n                                                    \\n                                                    \\n                                                '"
      ]
     },
     "execution_count": 27,
     "metadata": {},
     "output_type": "execute_result"
    }
   ],
   "source": [
    "# this is the data that we want to pull from that row\n",
    "lat = rows_sum[7].td.get_text()\n",
    "lat"
   ]
  },
  {
   "cell_type": "markdown",
   "metadata": {},
   "source": [
    "that is the number that we want, but we need to pull it out from all of the row breaks - we just want the numbers and not all of the other excess stuff"
   ]
  },
  {
   "cell_type": "code",
   "execution_count": 28,
   "metadata": {},
   "outputs": [
    {
     "data": {
      "text/plain": [
       "['39', '17998755']"
      ]
     },
     "execution_count": 28,
     "metadata": {},
     "output_type": "execute_result"
    }
   ],
   "source": [
    "# let's try to extract just the digits\n",
    "import re\n",
    "re.findall(r'\\d+', lat)"
   ]
  },
  {
   "cell_type": "markdown",
   "metadata": {},
   "source": [
    "# stopped here. Need to figure out Regex before proceeding"
   ]
  },
  {
   "cell_type": "code",
   "execution_count": null,
   "metadata": {},
   "outputs": [],
   "source": [
    "for row in rows_sum:\n",
    "    if row.th.get_text() contains 'Decimal latitude':\n",
    "        "
   ]
  },
  {
   "cell_type": "markdown",
   "metadata": {},
   "source": [
    "In next notebook:\n",
    "    - correlated gauges without predictions to gauges that do have predictions\n",
    "    - set threshold for accuracy in predicting flow\n",
    "    - set models up to use in production"
   ]
  },
  {
   "cell_type": "code",
   "execution_count": null,
   "metadata": {},
   "outputs": [],
   "source": []
  }
 ],
 "metadata": {
  "kernelspec": {
   "display_name": "Python 3",
   "language": "python",
   "name": "python3"
  },
  "language_info": {
   "codemirror_mode": {
    "name": "ipython",
    "version": 3
   },
   "file_extension": ".py",
   "mimetype": "text/x-python",
   "name": "python",
   "nbconvert_exporter": "python",
   "pygments_lexer": "ipython3",
   "version": "3.7.6"
  }
 },
 "nbformat": 4,
 "nbformat_minor": 4
}
